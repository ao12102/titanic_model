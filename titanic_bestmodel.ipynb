{
  "cells": [
    {
      "cell_type": "markdown",
      "source": [
        "#データの前処理"
      ],
      "metadata": {
        "id": "iPhJ6hssIJyQ"
      }
    },
    {
      "cell_type": "code",
      "source": [
        "from google.colab import drive"
      ],
      "metadata": {
        "id": "mjo1hY2W1XI3"
      },
      "execution_count": null,
      "outputs": []
    },
    {
      "cell_type": "code",
      "source": [
        "drive.mount('/content/drive')"
      ],
      "metadata": {
        "colab": {
          "base_uri": "https://localhost:8080/"
        },
        "id": "9zyCgh7t1W8j",
        "outputId": "962dbd2e-2231-42c5-af61-cc2fb1b71bce"
      },
      "execution_count": null,
      "outputs": [
        {
          "output_type": "stream",
          "name": "stdout",
          "text": [
            "Mounted at /content/drive\n"
          ]
        }
      ]
    },
    {
      "cell_type": "code",
      "execution_count": null,
      "metadata": {
        "id": "ovKB__0G0XjX"
      },
      "outputs": [],
      "source": [
        "#ライブラリ\n",
        "import numpy as np\n",
        "import pandas as pd\n",
        "from matplotlib import pyplot as plt\n",
        "import seaborn as sns\n",
        "%matplotlib inline"
      ]
    },
    {
      "cell_type": "code",
      "source": [
        "#データの読込\n",
        "train = pd.read_csv(\"drive/My Drive/titanic_train.csv\")\n",
        "test=pd.read_csv(\"drive/My Drive/test.csv\")\n",
        "data = [train,test]"
      ],
      "metadata": {
        "id": "dEkBddi_1XR1"
      },
      "execution_count": null,
      "outputs": []
    },
    {
      "cell_type": "code",
      "execution_count": null,
      "metadata": {
        "id": "dHRKYQDN0Xjc",
        "outputId": "a60c5031-4e1f-4c3b-de31-3eb51cdbb819",
        "colab": {
          "base_uri": "https://localhost:8080/"
        }
      },
      "outputs": [
        {
          "output_type": "stream",
          "name": "stdout",
          "text": [
            "<class 'pandas.core.frame.DataFrame'>\n",
            "RangeIndex: 891 entries, 0 to 890\n",
            "Data columns (total 12 columns):\n",
            " #   Column       Non-Null Count  Dtype  \n",
            "---  ------       --------------  -----  \n",
            " 0   PassengerId  891 non-null    int64  \n",
            " 1   Survived     891 non-null    int64  \n",
            " 2   Pclass       891 non-null    int64  \n",
            " 3   Name         891 non-null    object \n",
            " 4   Sex          891 non-null    object \n",
            " 5   Age          714 non-null    float64\n",
            " 6   SibSp        891 non-null    int64  \n",
            " 7   Parch        891 non-null    int64  \n",
            " 8   Ticket       891 non-null    object \n",
            " 9   Fare         891 non-null    float64\n",
            " 10  Cabin        204 non-null    object \n",
            " 11  Embarked     889 non-null    object \n",
            "dtypes: float64(2), int64(5), object(5)\n",
            "memory usage: 83.7+ KB\n"
          ]
        }
      ],
      "source": [
        "train.info()"
      ]
    },
    {
      "cell_type": "code",
      "execution_count": null,
      "metadata": {
        "id": "_2rmqLg70Xjd",
        "outputId": "56755fe6-d736-463d-8f37-280fb7a83d45",
        "colab": {
          "base_uri": "https://localhost:8080/"
        }
      },
      "outputs": [
        {
          "output_type": "stream",
          "name": "stdout",
          "text": [
            "<class 'pandas.core.frame.DataFrame'>\n",
            "RangeIndex: 418 entries, 0 to 417\n",
            "Data columns (total 11 columns):\n",
            " #   Column       Non-Null Count  Dtype  \n",
            "---  ------       --------------  -----  \n",
            " 0   PassengerId  418 non-null    int64  \n",
            " 1   Pclass       418 non-null    int64  \n",
            " 2   Name         418 non-null    object \n",
            " 3   Sex          418 non-null    object \n",
            " 4   Age          332 non-null    float64\n",
            " 5   SibSp        418 non-null    int64  \n",
            " 6   Parch        418 non-null    int64  \n",
            " 7   Ticket       418 non-null    object \n",
            " 8   Fare         417 non-null    float64\n",
            " 9   Cabin        91 non-null     object \n",
            " 10  Embarked     418 non-null    object \n",
            "dtypes: float64(2), int64(4), object(5)\n",
            "memory usage: 36.0+ KB\n"
          ]
        }
      ],
      "source": [
        "test.info()"
      ]
    },
    {
      "cell_type": "code",
      "execution_count": null,
      "metadata": {
        "id": "ePWR_aj40Xjf",
        "outputId": "9d46ad40-f32b-4d9b-d0f6-525815eef492",
        "colab": {
          "base_uri": "https://localhost:8080/",
          "height": 548
        }
      },
      "outputs": [
        {
          "output_type": "execute_result",
          "data": {
            "text/plain": [
              "   PassengerId  Survived  Pclass  \\\n",
              "0            1         0       3   \n",
              "1            2         1       1   \n",
              "2            3         1       3   \n",
              "3            4         1       1   \n",
              "4            5         0       3   \n",
              "\n",
              "                                                Name     Sex   Age  SibSp  \\\n",
              "0                            Braund, Mr. Owen Harris    male  22.0      1   \n",
              "1  Cumings, Mrs. John Bradley (Florence Briggs Th...  female  38.0      1   \n",
              "2                             Heikkinen, Miss. Laina  female  26.0      0   \n",
              "3       Futrelle, Mrs. Jacques Heath (Lily May Peel)  female  35.0      1   \n",
              "4                           Allen, Mr. William Henry    male  35.0      0   \n",
              "\n",
              "   Parch            Ticket     Fare Cabin Embarked  \n",
              "0      0         A/5 21171   7.2500   NaN        S  \n",
              "1      0          PC 17599  71.2833   C85        C  \n",
              "2      0  STON/O2. 3101282   7.9250   NaN        S  \n",
              "3      0            113803  53.1000  C123        S  \n",
              "4      0            373450   8.0500   NaN        S  "
            ],
            "text/html": [
              "\n",
              "  <div id=\"df-f532f356-b123-4d88-8c54-88d8c1d0ac8f\">\n",
              "    <div class=\"colab-df-container\">\n",
              "      <div>\n",
              "<style scoped>\n",
              "    .dataframe tbody tr th:only-of-type {\n",
              "        vertical-align: middle;\n",
              "    }\n",
              "\n",
              "    .dataframe tbody tr th {\n",
              "        vertical-align: top;\n",
              "    }\n",
              "\n",
              "    .dataframe thead th {\n",
              "        text-align: right;\n",
              "    }\n",
              "</style>\n",
              "<table border=\"1\" class=\"dataframe\">\n",
              "  <thead>\n",
              "    <tr style=\"text-align: right;\">\n",
              "      <th></th>\n",
              "      <th>PassengerId</th>\n",
              "      <th>Survived</th>\n",
              "      <th>Pclass</th>\n",
              "      <th>Name</th>\n",
              "      <th>Sex</th>\n",
              "      <th>Age</th>\n",
              "      <th>SibSp</th>\n",
              "      <th>Parch</th>\n",
              "      <th>Ticket</th>\n",
              "      <th>Fare</th>\n",
              "      <th>Cabin</th>\n",
              "      <th>Embarked</th>\n",
              "    </tr>\n",
              "  </thead>\n",
              "  <tbody>\n",
              "    <tr>\n",
              "      <th>0</th>\n",
              "      <td>1</td>\n",
              "      <td>0</td>\n",
              "      <td>3</td>\n",
              "      <td>Braund, Mr. Owen Harris</td>\n",
              "      <td>male</td>\n",
              "      <td>22.0</td>\n",
              "      <td>1</td>\n",
              "      <td>0</td>\n",
              "      <td>A/5 21171</td>\n",
              "      <td>7.2500</td>\n",
              "      <td>NaN</td>\n",
              "      <td>S</td>\n",
              "    </tr>\n",
              "    <tr>\n",
              "      <th>1</th>\n",
              "      <td>2</td>\n",
              "      <td>1</td>\n",
              "      <td>1</td>\n",
              "      <td>Cumings, Mrs. John Bradley (Florence Briggs Th...</td>\n",
              "      <td>female</td>\n",
              "      <td>38.0</td>\n",
              "      <td>1</td>\n",
              "      <td>0</td>\n",
              "      <td>PC 17599</td>\n",
              "      <td>71.2833</td>\n",
              "      <td>C85</td>\n",
              "      <td>C</td>\n",
              "    </tr>\n",
              "    <tr>\n",
              "      <th>2</th>\n",
              "      <td>3</td>\n",
              "      <td>1</td>\n",
              "      <td>3</td>\n",
              "      <td>Heikkinen, Miss. Laina</td>\n",
              "      <td>female</td>\n",
              "      <td>26.0</td>\n",
              "      <td>0</td>\n",
              "      <td>0</td>\n",
              "      <td>STON/O2. 3101282</td>\n",
              "      <td>7.9250</td>\n",
              "      <td>NaN</td>\n",
              "      <td>S</td>\n",
              "    </tr>\n",
              "    <tr>\n",
              "      <th>3</th>\n",
              "      <td>4</td>\n",
              "      <td>1</td>\n",
              "      <td>1</td>\n",
              "      <td>Futrelle, Mrs. Jacques Heath (Lily May Peel)</td>\n",
              "      <td>female</td>\n",
              "      <td>35.0</td>\n",
              "      <td>1</td>\n",
              "      <td>0</td>\n",
              "      <td>113803</td>\n",
              "      <td>53.1000</td>\n",
              "      <td>C123</td>\n",
              "      <td>S</td>\n",
              "    </tr>\n",
              "    <tr>\n",
              "      <th>4</th>\n",
              "      <td>5</td>\n",
              "      <td>0</td>\n",
              "      <td>3</td>\n",
              "      <td>Allen, Mr. William Henry</td>\n",
              "      <td>male</td>\n",
              "      <td>35.0</td>\n",
              "      <td>0</td>\n",
              "      <td>0</td>\n",
              "      <td>373450</td>\n",
              "      <td>8.0500</td>\n",
              "      <td>NaN</td>\n",
              "      <td>S</td>\n",
              "    </tr>\n",
              "  </tbody>\n",
              "</table>\n",
              "</div>\n",
              "      <button class=\"colab-df-convert\" onclick=\"convertToInteractive('df-f532f356-b123-4d88-8c54-88d8c1d0ac8f')\"\n",
              "              title=\"Convert this dataframe to an interactive table.\"\n",
              "              style=\"display:none;\">\n",
              "        \n",
              "  <svg xmlns=\"http://www.w3.org/2000/svg\" height=\"24px\"viewBox=\"0 0 24 24\"\n",
              "       width=\"24px\">\n",
              "    <path d=\"M0 0h24v24H0V0z\" fill=\"none\"/>\n",
              "    <path d=\"M18.56 5.44l.94 2.06.94-2.06 2.06-.94-2.06-.94-.94-2.06-.94 2.06-2.06.94zm-11 1L8.5 8.5l.94-2.06 2.06-.94-2.06-.94L8.5 2.5l-.94 2.06-2.06.94zm10 10l.94 2.06.94-2.06 2.06-.94-2.06-.94-.94-2.06-.94 2.06-2.06.94z\"/><path d=\"M17.41 7.96l-1.37-1.37c-.4-.4-.92-.59-1.43-.59-.52 0-1.04.2-1.43.59L10.3 9.45l-7.72 7.72c-.78.78-.78 2.05 0 2.83L4 21.41c.39.39.9.59 1.41.59.51 0 1.02-.2 1.41-.59l7.78-7.78 2.81-2.81c.8-.78.8-2.07 0-2.86zM5.41 20L4 18.59l7.72-7.72 1.47 1.35L5.41 20z\"/>\n",
              "  </svg>\n",
              "      </button>\n",
              "      \n",
              "  <style>\n",
              "    .colab-df-container {\n",
              "      display:flex;\n",
              "      flex-wrap:wrap;\n",
              "      gap: 12px;\n",
              "    }\n",
              "\n",
              "    .colab-df-convert {\n",
              "      background-color: #E8F0FE;\n",
              "      border: none;\n",
              "      border-radius: 50%;\n",
              "      cursor: pointer;\n",
              "      display: none;\n",
              "      fill: #1967D2;\n",
              "      height: 32px;\n",
              "      padding: 0 0 0 0;\n",
              "      width: 32px;\n",
              "    }\n",
              "\n",
              "    .colab-df-convert:hover {\n",
              "      background-color: #E2EBFA;\n",
              "      box-shadow: 0px 1px 2px rgba(60, 64, 67, 0.3), 0px 1px 3px 1px rgba(60, 64, 67, 0.15);\n",
              "      fill: #174EA6;\n",
              "    }\n",
              "\n",
              "    [theme=dark] .colab-df-convert {\n",
              "      background-color: #3B4455;\n",
              "      fill: #D2E3FC;\n",
              "    }\n",
              "\n",
              "    [theme=dark] .colab-df-convert:hover {\n",
              "      background-color: #434B5C;\n",
              "      box-shadow: 0px 1px 3px 1px rgba(0, 0, 0, 0.15);\n",
              "      filter: drop-shadow(0px 1px 2px rgba(0, 0, 0, 0.3));\n",
              "      fill: #FFFFFF;\n",
              "    }\n",
              "  </style>\n",
              "\n",
              "      <script>\n",
              "        const buttonEl =\n",
              "          document.querySelector('#df-f532f356-b123-4d88-8c54-88d8c1d0ac8f button.colab-df-convert');\n",
              "        buttonEl.style.display =\n",
              "          google.colab.kernel.accessAllowed ? 'block' : 'none';\n",
              "\n",
              "        async function convertToInteractive(key) {\n",
              "          const element = document.querySelector('#df-f532f356-b123-4d88-8c54-88d8c1d0ac8f');\n",
              "          const dataTable =\n",
              "            await google.colab.kernel.invokeFunction('convertToInteractive',\n",
              "                                                     [key], {});\n",
              "          if (!dataTable) return;\n",
              "\n",
              "          const docLinkHtml = 'Like what you see? Visit the ' +\n",
              "            '<a target=\"_blank\" href=https://colab.research.google.com/notebooks/data_table.ipynb>data table notebook</a>'\n",
              "            + ' to learn more about interactive tables.';\n",
              "          element.innerHTML = '';\n",
              "          dataTable['output_type'] = 'display_data';\n",
              "          await google.colab.output.renderOutput(dataTable, element);\n",
              "          const docLink = document.createElement('div');\n",
              "          docLink.innerHTML = docLinkHtml;\n",
              "          element.appendChild(docLink);\n",
              "        }\n",
              "      </script>\n",
              "    </div>\n",
              "  </div>\n",
              "  "
            ]
          },
          "metadata": {},
          "execution_count": 7
        }
      ],
      "source": [
        "train.head()"
      ]
    },
    {
      "cell_type": "code",
      "execution_count": null,
      "metadata": {
        "id": "FrIb1Qu70Xjh",
        "outputId": "ff184797-dfad-4d95-bbca-6f2d437c1a75",
        "colab": {
          "base_uri": "https://localhost:8080/",
          "height": 496
        }
      },
      "outputs": [
        {
          "output_type": "execute_result",
          "data": {
            "text/plain": [
              "     PassengerId  Survived  Pclass                                      Name  \\\n",
              "886          887         0       2                     Montvila, Rev. Juozas   \n",
              "887          888         1       1              Graham, Miss. Margaret Edith   \n",
              "888          889         0       3  Johnston, Miss. Catherine Helen \"Carrie\"   \n",
              "889          890         1       1                     Behr, Mr. Karl Howell   \n",
              "890          891         0       3                       Dooley, Mr. Patrick   \n",
              "\n",
              "        Sex   Age  SibSp  Parch      Ticket   Fare Cabin Embarked  \n",
              "886    male  27.0      0      0      211536  13.00   NaN        S  \n",
              "887  female  19.0      0      0      112053  30.00   B42        S  \n",
              "888  female   NaN      1      2  W./C. 6607  23.45   NaN        S  \n",
              "889    male  26.0      0      0      111369  30.00  C148        C  \n",
              "890    male  32.0      0      0      370376   7.75   NaN        Q  "
            ],
            "text/html": [
              "\n",
              "  <div id=\"df-b7531444-626a-4e40-8124-c6d26c46aafb\">\n",
              "    <div class=\"colab-df-container\">\n",
              "      <div>\n",
              "<style scoped>\n",
              "    .dataframe tbody tr th:only-of-type {\n",
              "        vertical-align: middle;\n",
              "    }\n",
              "\n",
              "    .dataframe tbody tr th {\n",
              "        vertical-align: top;\n",
              "    }\n",
              "\n",
              "    .dataframe thead th {\n",
              "        text-align: right;\n",
              "    }\n",
              "</style>\n",
              "<table border=\"1\" class=\"dataframe\">\n",
              "  <thead>\n",
              "    <tr style=\"text-align: right;\">\n",
              "      <th></th>\n",
              "      <th>PassengerId</th>\n",
              "      <th>Survived</th>\n",
              "      <th>Pclass</th>\n",
              "      <th>Name</th>\n",
              "      <th>Sex</th>\n",
              "      <th>Age</th>\n",
              "      <th>SibSp</th>\n",
              "      <th>Parch</th>\n",
              "      <th>Ticket</th>\n",
              "      <th>Fare</th>\n",
              "      <th>Cabin</th>\n",
              "      <th>Embarked</th>\n",
              "    </tr>\n",
              "  </thead>\n",
              "  <tbody>\n",
              "    <tr>\n",
              "      <th>886</th>\n",
              "      <td>887</td>\n",
              "      <td>0</td>\n",
              "      <td>2</td>\n",
              "      <td>Montvila, Rev. Juozas</td>\n",
              "      <td>male</td>\n",
              "      <td>27.0</td>\n",
              "      <td>0</td>\n",
              "      <td>0</td>\n",
              "      <td>211536</td>\n",
              "      <td>13.00</td>\n",
              "      <td>NaN</td>\n",
              "      <td>S</td>\n",
              "    </tr>\n",
              "    <tr>\n",
              "      <th>887</th>\n",
              "      <td>888</td>\n",
              "      <td>1</td>\n",
              "      <td>1</td>\n",
              "      <td>Graham, Miss. Margaret Edith</td>\n",
              "      <td>female</td>\n",
              "      <td>19.0</td>\n",
              "      <td>0</td>\n",
              "      <td>0</td>\n",
              "      <td>112053</td>\n",
              "      <td>30.00</td>\n",
              "      <td>B42</td>\n",
              "      <td>S</td>\n",
              "    </tr>\n",
              "    <tr>\n",
              "      <th>888</th>\n",
              "      <td>889</td>\n",
              "      <td>0</td>\n",
              "      <td>3</td>\n",
              "      <td>Johnston, Miss. Catherine Helen \"Carrie\"</td>\n",
              "      <td>female</td>\n",
              "      <td>NaN</td>\n",
              "      <td>1</td>\n",
              "      <td>2</td>\n",
              "      <td>W./C. 6607</td>\n",
              "      <td>23.45</td>\n",
              "      <td>NaN</td>\n",
              "      <td>S</td>\n",
              "    </tr>\n",
              "    <tr>\n",
              "      <th>889</th>\n",
              "      <td>890</td>\n",
              "      <td>1</td>\n",
              "      <td>1</td>\n",
              "      <td>Behr, Mr. Karl Howell</td>\n",
              "      <td>male</td>\n",
              "      <td>26.0</td>\n",
              "      <td>0</td>\n",
              "      <td>0</td>\n",
              "      <td>111369</td>\n",
              "      <td>30.00</td>\n",
              "      <td>C148</td>\n",
              "      <td>C</td>\n",
              "    </tr>\n",
              "    <tr>\n",
              "      <th>890</th>\n",
              "      <td>891</td>\n",
              "      <td>0</td>\n",
              "      <td>3</td>\n",
              "      <td>Dooley, Mr. Patrick</td>\n",
              "      <td>male</td>\n",
              "      <td>32.0</td>\n",
              "      <td>0</td>\n",
              "      <td>0</td>\n",
              "      <td>370376</td>\n",
              "      <td>7.75</td>\n",
              "      <td>NaN</td>\n",
              "      <td>Q</td>\n",
              "    </tr>\n",
              "  </tbody>\n",
              "</table>\n",
              "</div>\n",
              "      <button class=\"colab-df-convert\" onclick=\"convertToInteractive('df-b7531444-626a-4e40-8124-c6d26c46aafb')\"\n",
              "              title=\"Convert this dataframe to an interactive table.\"\n",
              "              style=\"display:none;\">\n",
              "        \n",
              "  <svg xmlns=\"http://www.w3.org/2000/svg\" height=\"24px\"viewBox=\"0 0 24 24\"\n",
              "       width=\"24px\">\n",
              "    <path d=\"M0 0h24v24H0V0z\" fill=\"none\"/>\n",
              "    <path d=\"M18.56 5.44l.94 2.06.94-2.06 2.06-.94-2.06-.94-.94-2.06-.94 2.06-2.06.94zm-11 1L8.5 8.5l.94-2.06 2.06-.94-2.06-.94L8.5 2.5l-.94 2.06-2.06.94zm10 10l.94 2.06.94-2.06 2.06-.94-2.06-.94-.94-2.06-.94 2.06-2.06.94z\"/><path d=\"M17.41 7.96l-1.37-1.37c-.4-.4-.92-.59-1.43-.59-.52 0-1.04.2-1.43.59L10.3 9.45l-7.72 7.72c-.78.78-.78 2.05 0 2.83L4 21.41c.39.39.9.59 1.41.59.51 0 1.02-.2 1.41-.59l7.78-7.78 2.81-2.81c.8-.78.8-2.07 0-2.86zM5.41 20L4 18.59l7.72-7.72 1.47 1.35L5.41 20z\"/>\n",
              "  </svg>\n",
              "      </button>\n",
              "      \n",
              "  <style>\n",
              "    .colab-df-container {\n",
              "      display:flex;\n",
              "      flex-wrap:wrap;\n",
              "      gap: 12px;\n",
              "    }\n",
              "\n",
              "    .colab-df-convert {\n",
              "      background-color: #E8F0FE;\n",
              "      border: none;\n",
              "      border-radius: 50%;\n",
              "      cursor: pointer;\n",
              "      display: none;\n",
              "      fill: #1967D2;\n",
              "      height: 32px;\n",
              "      padding: 0 0 0 0;\n",
              "      width: 32px;\n",
              "    }\n",
              "\n",
              "    .colab-df-convert:hover {\n",
              "      background-color: #E2EBFA;\n",
              "      box-shadow: 0px 1px 2px rgba(60, 64, 67, 0.3), 0px 1px 3px 1px rgba(60, 64, 67, 0.15);\n",
              "      fill: #174EA6;\n",
              "    }\n",
              "\n",
              "    [theme=dark] .colab-df-convert {\n",
              "      background-color: #3B4455;\n",
              "      fill: #D2E3FC;\n",
              "    }\n",
              "\n",
              "    [theme=dark] .colab-df-convert:hover {\n",
              "      background-color: #434B5C;\n",
              "      box-shadow: 0px 1px 3px 1px rgba(0, 0, 0, 0.15);\n",
              "      filter: drop-shadow(0px 1px 2px rgba(0, 0, 0, 0.3));\n",
              "      fill: #FFFFFF;\n",
              "    }\n",
              "  </style>\n",
              "\n",
              "      <script>\n",
              "        const buttonEl =\n",
              "          document.querySelector('#df-b7531444-626a-4e40-8124-c6d26c46aafb button.colab-df-convert');\n",
              "        buttonEl.style.display =\n",
              "          google.colab.kernel.accessAllowed ? 'block' : 'none';\n",
              "\n",
              "        async function convertToInteractive(key) {\n",
              "          const element = document.querySelector('#df-b7531444-626a-4e40-8124-c6d26c46aafb');\n",
              "          const dataTable =\n",
              "            await google.colab.kernel.invokeFunction('convertToInteractive',\n",
              "                                                     [key], {});\n",
              "          if (!dataTable) return;\n",
              "\n",
              "          const docLinkHtml = 'Like what you see? Visit the ' +\n",
              "            '<a target=\"_blank\" href=https://colab.research.google.com/notebooks/data_table.ipynb>data table notebook</a>'\n",
              "            + ' to learn more about interactive tables.';\n",
              "          element.innerHTML = '';\n",
              "          dataTable['output_type'] = 'display_data';\n",
              "          await google.colab.output.renderOutput(dataTable, element);\n",
              "          const docLink = document.createElement('div');\n",
              "          docLink.innerHTML = docLinkHtml;\n",
              "          element.appendChild(docLink);\n",
              "        }\n",
              "      </script>\n",
              "    </div>\n",
              "  </div>\n",
              "  "
            ]
          },
          "metadata": {},
          "execution_count": 8
        }
      ],
      "source": [
        "train.tail()"
      ]
    },
    {
      "cell_type": "code",
      "execution_count": null,
      "metadata": {
        "id": "XgCjaADJ0Xjm",
        "outputId": "16e23eae-3cb9-4b31-f7b8-29cc854f8b91",
        "colab": {
          "base_uri": "https://localhost:8080/"
        }
      },
      "outputs": [
        {
          "output_type": "execute_result",
          "data": {
            "text/plain": [
              "PassengerId      0\n",
              "Survived         0\n",
              "Pclass           0\n",
              "Name             0\n",
              "Sex              0\n",
              "Age            177\n",
              "SibSp            0\n",
              "Parch            0\n",
              "Ticket           0\n",
              "Fare             0\n",
              "Cabin          687\n",
              "Embarked         2\n",
              "dtype: int64"
            ]
          },
          "metadata": {},
          "execution_count": 10
        }
      ],
      "source": [
        "#欠損値\n",
        "train.isnull().sum()"
      ]
    },
    {
      "cell_type": "code",
      "execution_count": null,
      "metadata": {
        "id": "SwCgtutr0Xjn",
        "outputId": "33e07e04-24f1-4877-9c35-5460197f58bd",
        "colab": {
          "base_uri": "https://localhost:8080/"
        }
      },
      "outputs": [
        {
          "output_type": "execute_result",
          "data": {
            "text/plain": [
              "PassengerId    891\n",
              "Survived       891\n",
              "Pclass         891\n",
              "Name           891\n",
              "Sex            891\n",
              "Age            714\n",
              "SibSp          891\n",
              "Parch          891\n",
              "Ticket         891\n",
              "Fare           891\n",
              "Cabin          204\n",
              "Embarked       889\n",
              "dtype: int64"
            ]
          },
          "metadata": {},
          "execution_count": 11
        }
      ],
      "source": [
        "train.notnull().sum() "
      ]
    },
    {
      "cell_type": "markdown",
      "source": [
        "##データの可視化"
      ],
      "metadata": {
        "id": "v3XNOLJLEKUG"
      }
    },
    {
      "cell_type": "code",
      "execution_count": null,
      "metadata": {
        "scrolled": true,
        "id": "zrDvMaZr0Xjp",
        "outputId": "f55b6993-80c9-44c5-eeed-5851c5c84dba",
        "colab": {
          "base_uri": "https://localhost:8080/",
          "height": 335
        }
      },
      "outputs": [
        {
          "output_type": "stream",
          "name": "stderr",
          "text": [
            "/usr/local/lib/python3.7/dist-packages/seaborn/_decorators.py:43: FutureWarning: Pass the following variable as a keyword arg: x. From version 0.12, the only valid positional argument will be `data`, and passing other arguments without an explicit keyword will result in an error or misinterpretation.\n",
            "  FutureWarning\n"
          ]
        },
        {
          "output_type": "display_data",
          "data": {
            "text/plain": [
              "<Figure size 432x288 with 1 Axes>"
            ],
            "image/png": "[encoded data removed]"
          },
          "metadata": {
            "needs_background": "light"
          }
        }
      ],
      "source": [
        "sns.boxplot(train[\"Age\"])\n",
        "plt.show()"
      ]
    },
    {
      "cell_type": "code",
      "execution_count": null,
      "metadata": {
        "id": "BEEUgffd0Xjp",
        "outputId": "3eccb95a-1a52-4c2c-e50d-89727a4c44e4",
        "colab": {
          "base_uri": "https://localhost:8080/",
          "height": 335
        }
      },
      "outputs": [
        {
          "output_type": "stream",
          "name": "stderr",
          "text": [
            "/usr/local/lib/python3.7/dist-packages/seaborn/_decorators.py:43: FutureWarning: Pass the following variable as a keyword arg: x. From version 0.12, the only valid positional argument will be `data`, and passing other arguments without an explicit keyword will result in an error or misinterpretation.\n",
            "  FutureWarning\n"
          ]
        },
        {
          "output_type": "display_data",
          "data": {
            "text/plain": [
              "<Figure size 432x288 with 1 Axes>"
            ],
            "image/png": "[encoded data removed]"
          },
          "metadata": {
            "needs_background": "light"
          }
        }
      ],
      "source": [
        "sns.boxplot(train[\"Fare\"])\n",
        "plt.show()"
      ]
    },
    {
      "cell_type": "code",
      "execution_count": null,
      "metadata": {
        "id": "fLPKexWD0Xjq",
        "outputId": "1b34ea7b-54e1-4e80-d488-f69b73045a0e",
        "colab": {
          "base_uri": "https://localhost:8080/",
          "height": 353
        }
      },
      "outputs": [
        {
          "output_type": "stream",
          "name": "stderr",
          "text": [
            "/usr/local/lib/python3.7/dist-packages/seaborn/distributions.py:2619: FutureWarning: `distplot` is a deprecated function and will be removed in a future version. Please adapt your code to use either `displot` (a figure-level function with similar flexibility) or `histplot` (an axes-level function for histograms).\n",
            "  warnings.warn(msg, FutureWarning)\n"
          ]
        },
        {
          "output_type": "execute_result",
          "data": {
            "text/plain": [
              "<matplotlib.axes._subplots.AxesSubplot at 0x7f879c178910>"
            ]
          },
          "metadata": {},
          "execution_count": 14
        },
        {
          "output_type": "display_data",
          "data": {
            "text/plain": [
              "<Figure size 432x288 with 1 Axes>"
            ],
            "image/png": "[encoded data removed]"
          },
          "metadata": {
            "needs_background": "light"
          }
        }
      ],
      "source": [
        "sns.distplot(train[\"Age\"], bins = 16)"
      ]
    },
    {
      "cell_type": "code",
      "source": [
        "sns.distplot(train[\"Fare\"], bins = 10)"
      ],
      "metadata": {
        "id": "D5cP5go96Mdt",
        "colab": {
          "base_uri": "https://localhost:8080/",
          "height": 353
        },
        "outputId": "38c9d4b6-17df-4fcc-f563-34c47f5b6260"
      },
      "execution_count": null,
      "outputs": [
        {
          "output_type": "stream",
          "name": "stderr",
          "text": [
            "/usr/local/lib/python3.7/dist-packages/seaborn/distributions.py:2619: FutureWarning: `distplot` is a deprecated function and will be removed in a future version. Please adapt your code to use either `displot` (a figure-level function with similar flexibility) or `histplot` (an axes-level function for histograms).\n",
            "  warnings.warn(msg, FutureWarning)\n"
          ]
        },
        {
          "output_type": "execute_result",
          "data": {
            "text/plain": [
              "<matplotlib.axes._subplots.AxesSubplot at 0x7f879c12ad50>"
            ]
          },
          "metadata": {},
          "execution_count": 15
        },
        {
          "output_type": "display_data",
          "data": {
            "text/plain": [
              "<Figure size 432x288 with 1 Axes>"
            ],
            "image/png": "[encoded data removed]"
          },
          "metadata": {
            "needs_background": "light"
          }
        }
      ]
    },
    {
      "cell_type": "code",
      "execution_count": null,
      "metadata": {
        "id": "ZvnA_5JY0Xjr",
        "outputId": "d44300d2-9843-4f24-bb39-b64d9d6519e0",
        "colab": {
          "base_uri": "https://localhost:8080/"
        }
      },
      "outputs": [
        {
          "output_type": "execute_result",
          "data": {
            "text/plain": [
              "0.42     1\n",
              "0.67     1\n",
              "66.00    1\n",
              "24.50    1\n",
              "80.00    1\n",
              "20.50    1\n",
              "53.00    1\n",
              "14.50    1\n",
              "70.50    1\n",
              "12.00    1\n",
              "36.50    1\n",
              "55.50    1\n",
              "0.92     1\n",
              "23.50    1\n",
              "74.00    1\n",
              "Name: Age, dtype: int64"
            ]
          },
          "metadata": {},
          "execution_count": 16
        }
      ],
      "source": [
        "train[\"Age\"].value_counts().tail(15)"
      ]
    },
    {
      "cell_type": "code",
      "source": [
        "sns.heatmap(train.corr(), cmap = \"summer\", annot = True)"
      ],
      "metadata": {
        "colab": {
          "base_uri": "https://localhost:8080/",
          "height": 338
        },
        "id": "lWVw-YKXV5yx",
        "outputId": "dc69ffb5-4d64-4122-e601-4a0de61df779"
      },
      "execution_count": null,
      "outputs": [
        {
          "output_type": "execute_result",
          "data": {
            "text/plain": [
              "<matplotlib.axes._subplots.AxesSubplot at 0x7f879c0d9590>"
            ]
          },
          "metadata": {},
          "execution_count": 18
        },
        {
          "output_type": "display_data",
          "data": {
            "text/plain": [
              "<Figure size 432x288 with 2 Axes>"
            ],
            "image/png": "[encoded data removed]"
          },
          "metadata": {
            "needs_background": "light"
          }
        }
      ]
    },
    {
      "cell_type": "code",
      "execution_count": null,
      "metadata": {
        "id": "m3oU5GRg0Xju",
        "outputId": "0a095178-aa4e-4451-ccc2-6fedcd48c9c1",
        "colab": {
          "base_uri": "https://localhost:8080/",
          "height": 335
        }
      },
      "outputs": [
        {
          "output_type": "stream",
          "name": "stderr",
          "text": [
            "/usr/local/lib/python3.7/dist-packages/seaborn/_decorators.py:43: FutureWarning: Pass the following variables as keyword args: x, y. From version 0.12, the only valid positional argument will be `data`, and passing other arguments without an explicit keyword will result in an error or misinterpretation.\n",
            "  FutureWarning\n"
          ]
        },
        {
          "output_type": "display_data",
          "data": {
            "text/plain": [
              "<Figure size 432x288 with 1 Axes>"
            ],
            "image/png": "[encoded data removed]"
          },
          "metadata": {
            "needs_background": "light"
          }
        }
      ],
      "source": [
        "sum_survived = train.groupby([\"Sex\"])[\"Survived\"].sum()\n",
        "sns.barplot(sum_survived.keys(), sum_survived.values)\n",
        "plt.show()"
      ]
    },
    {
      "cell_type": "code",
      "source": [
        "train.groupby([\"Sex\",\"Survived\"])[\"Survived\"].count()"
      ],
      "metadata": {
        "colab": {
          "base_uri": "https://localhost:8080/"
        },
        "id": "xQM048yyWrQo",
        "outputId": "f553fea7-b67a-414a-ea02-c6ec35e01ee5"
      },
      "execution_count": null,
      "outputs": [
        {
          "output_type": "execute_result",
          "data": {
            "text/plain": [
              "Sex     Survived\n",
              "female  0            81\n",
              "        1           233\n",
              "male    0           468\n",
              "        1           109\n",
              "Name: Survived, dtype: int64"
            ]
          },
          "metadata": {},
          "execution_count": 20
        }
      ]
    },
    {
      "cell_type": "code",
      "execution_count": null,
      "metadata": {
        "id": "Gi2yfryv0Xjv",
        "outputId": "9a051792-09a2-4bfc-c244-0f6399904b99",
        "colab": {
          "base_uri": "https://localhost:8080/",
          "height": 265
        }
      },
      "outputs": [
        {
          "output_type": "display_data",
          "data": {
            "text/plain": [
              "<Figure size 432x288 with 1 Axes>"
            ],
            "image/png": "[encoded data removed]"
          },
          "metadata": {
            "needs_background": "light"
          }
        }
      ],
      "source": [
        "data_count_x = np.array([\"('female', 0)\", \"('female', 1)\", \"('male', 0)\", \"('male', 1)\"])\n",
        "data_count_y = train.groupby([\"Sex\",\"Survived\"])[\"Survived\"].count()\n",
        "color = [\"C0\", \"C1\", \"C2\", \"C3\"]\n",
        "\n",
        "plt.bar(data_count_x, data_count_y, color = color)\n",
        "plt.show()"
      ]
    },
    {
      "cell_type": "code",
      "execution_count": null,
      "metadata": {
        "id": "_yetfSah0Xjw",
        "outputId": "27c9844c-c1a2-4478-dbd7-0522476d07cb",
        "colab": {
          "base_uri": "https://localhost:8080/"
        }
      },
      "outputs": [
        {
          "output_type": "execute_result",
          "data": {
            "text/plain": [
              "Sex\n",
              "female    0.742038\n",
              "male      0.188908\n",
              "Name: Survived, dtype: float64"
            ]
          },
          "metadata": {},
          "execution_count": 22
        }
      ],
      "source": [
        "train.groupby([\"Sex\"])[\"Survived\"].mean()"
      ]
    },
    {
      "cell_type": "code",
      "execution_count": null,
      "metadata": {
        "id": "6b8zgx3J0Xjw",
        "outputId": "8dc085ca-9025-45d3-949c-07c5f0c8a9fc",
        "colab": {
          "base_uri": "https://localhost:8080/"
        }
      },
      "outputs": [
        {
          "output_type": "execute_result",
          "data": {
            "text/plain": [
              "Embarked  Survived\n",
              "C         0            75\n",
              "          1            93\n",
              "Q         0            47\n",
              "          1            30\n",
              "S         0           427\n",
              "          1           217\n",
              "Name: Survived, dtype: int64"
            ]
          },
          "metadata": {},
          "execution_count": 23
        }
      ],
      "source": [
        "train.groupby([\"Embarked\", \"Survived\"])[\"Survived\"].count()"
      ]
    },
    {
      "cell_type": "code",
      "execution_count": null,
      "metadata": {
        "id": "TZQUdH2V0Xjx",
        "outputId": "24afbf7e-1f9d-41d1-8f68-3893711c15fd",
        "colab": {
          "base_uri": "https://localhost:8080/",
          "height": 409
        }
      },
      "outputs": [
        {
          "output_type": "stream",
          "name": "stdout",
          "text": [
            "Embarked  Survived\n",
            "C         0            75\n",
            "          1            93\n",
            "Q         0            47\n",
            "          1            30\n",
            "S         0           427\n",
            "          1           217\n",
            "Name: Survived, dtype: int64\n"
          ]
        },
        {
          "output_type": "display_data",
          "data": {
            "text/plain": [
              "<Figure size 432x288 with 1 Axes>"
            ],
            "image/png": "[encoded data removed]"
          },
          "metadata": {
            "needs_background": "light"
          }
        }
      ],
      "source": [
        "data_count_x = np.array([\"('C', 0)\", \"('C', 1)\", \"('Q', 0)\", \"('Q', 1)\", \"('S', 0)\", \"('S', 1)\"])\n",
        "data_count_y = train.groupby([\"Embarked\",\"Survived\"])[\"Survived\"].count()\n",
        "print(data_count_y)\n",
        "color = [\"C0\", \"C1\", \"C2\", \"C3\", \"C4\", \"C5\"]\n",
        "\n",
        "plt.bar(data_count_x, data_count_y, color = color)\n",
        "plt.show()"
      ]
    },
    {
      "cell_type": "code",
      "execution_count": null,
      "metadata": {
        "id": "Y92R4-NW0Xjx",
        "outputId": "1696728b-f1ed-4fc1-e0f3-b598bcae84f5",
        "colab": {
          "base_uri": "https://localhost:8080/"
        }
      },
      "outputs": [
        {
          "output_type": "execute_result",
          "data": {
            "text/plain": [
              "Embarked\n",
              "C    0.553571\n",
              "Q    0.389610\n",
              "S    0.336957\n",
              "Name: Survived, dtype: float64"
            ]
          },
          "metadata": {},
          "execution_count": 25
        }
      ],
      "source": [
        "train.groupby([\"Embarked\"])[\"Survived\"].mean()"
      ]
    },
    {
      "cell_type": "code",
      "execution_count": null,
      "metadata": {
        "id": "oD62d5Pe0Xjz"
      },
      "outputs": [],
      "source": [
        "#Title列を作成\n",
        "import re\n",
        "def get_title(name):\n",
        "    title_search = re.search(' ([A-Za-z]+)\\.', name)\n",
        "    if title_search:\n",
        "        return title_search.group(1)\n",
        "    return \"\"\n",
        "\n",
        "for df in [train,test]:\n",
        "    df['Title'] = df['Name'].apply(get_title)"
      ]
    },
    {
      "cell_type": "code",
      "execution_count": null,
      "metadata": {
        "scrolled": true,
        "id": "sWALMUDN0Xj0",
        "outputId": "e910a900-08d6-4379-dff0-7d87de2155a2",
        "colab": {
          "base_uri": "https://localhost:8080/"
        }
      },
      "outputs": [
        {
          "output_type": "execute_result",
          "data": {
            "text/plain": [
              "Mr          517\n",
              "Miss        182\n",
              "Mrs         125\n",
              "Master       40\n",
              "Dr            7\n",
              "Rev           6\n",
              "Mlle          2\n",
              "Major         2\n",
              "Col           2\n",
              "Countess      1\n",
              "Capt          1\n",
              "Ms            1\n",
              "Sir           1\n",
              "Lady          1\n",
              "Mme           1\n",
              "Don           1\n",
              "Jonkheer      1\n",
              "Name: Title, dtype: int64"
            ]
          },
          "metadata": {},
          "execution_count": 27
        }
      ],
      "source": [
        "train[\"Title\"].value_counts()"
      ]
    },
    {
      "cell_type": "code",
      "execution_count": null,
      "metadata": {
        "id": "pfUrA9YC0Xj0",
        "outputId": "7141ebb2-b679-4840-e589-b9915196d48f",
        "colab": {
          "base_uri": "https://localhost:8080/"
        }
      },
      "outputs": [
        {
          "output_type": "execute_result",
          "data": {
            "text/plain": [
              "Mr        240\n",
              "Miss       78\n",
              "Mrs        72\n",
              "Master     21\n",
              "Col         2\n",
              "Rev         2\n",
              "Ms          1\n",
              "Dr          1\n",
              "Dona        1\n",
              "Name: Title, dtype: int64"
            ]
          },
          "metadata": {},
          "execution_count": 28
        }
      ],
      "source": [
        "test[\"Title\"].value_counts()"
      ]
    },
    {
      "cell_type": "code",
      "execution_count": null,
      "metadata": {
        "id": "trOsUQ6H0Xj1"
      },
      "outputs": [],
      "source": [
        "for df in [train, test]:\n",
        "    \n",
        "    df['Title'] =df['Title'].replace([\"Mlle\",\"Ms\",\"Mme\"],\"Miss\") \n",
        "    \n",
        "    df['Title'] = df['Title'].replace(['Lady', 'Countess','Capt', 'Col','Don', 'Dr', 'Major', 'Rev', 'Sir', 'Jonkheer', 'Dona'], 'Others')"
      ]
    },
    {
      "cell_type": "code",
      "execution_count": null,
      "metadata": {
        "id": "N_Y5-NTk0Xj1",
        "outputId": "f151368b-d19b-4c35-8854-2d4790473782",
        "colab": {
          "base_uri": "https://localhost:8080/"
        }
      },
      "outputs": [
        {
          "output_type": "execute_result",
          "data": {
            "text/plain": [
              "Mr        517\n",
              "Miss      186\n",
              "Mrs       125\n",
              "Master     40\n",
              "Others     23\n",
              "Name: Title, dtype: int64"
            ]
          },
          "metadata": {},
          "execution_count": 31
        }
      ],
      "source": [
        "train.Title.value_counts()"
      ]
    },
    {
      "cell_type": "code",
      "execution_count": null,
      "metadata": {
        "id": "g5xBIpMq0Xj2",
        "outputId": "e7119326-0d5f-4e51-b8d4-04b0ebce3035",
        "colab": {
          "base_uri": "https://localhost:8080/"
        }
      },
      "outputs": [
        {
          "output_type": "execute_result",
          "data": {
            "text/plain": [
              "Mr        240\n",
              "Miss       79\n",
              "Mrs        72\n",
              "Master     21\n",
              "Others      6\n",
              "Name: Title, dtype: int64"
            ]
          },
          "metadata": {},
          "execution_count": 32
        }
      ],
      "source": [
        "test.Title.value_counts()"
      ]
    },
    {
      "cell_type": "markdown",
      "source": [
        "##欠損値処理"
      ],
      "metadata": {
        "id": "OFx965-8PdXz"
      }
    },
    {
      "cell_type": "code",
      "execution_count": null,
      "metadata": {
        "id": "iXcz_jBp0Xj2",
        "outputId": "8ced7436-a2b4-4d7d-e3e8-ba926bbd3004",
        "colab": {
          "base_uri": "https://localhost:8080/"
        }
      },
      "outputs": [
        {
          "output_type": "execute_result",
          "data": {
            "text/plain": [
              "PassengerId      0\n",
              "Survived         0\n",
              "Pclass           0\n",
              "Name             0\n",
              "Sex              0\n",
              "Age            177\n",
              "SibSp            0\n",
              "Parch            0\n",
              "Ticket           0\n",
              "Fare             0\n",
              "Cabin          687\n",
              "Embarked         2\n",
              "Title            0\n",
              "dtype: int64"
            ]
          },
          "metadata": {},
          "execution_count": 33
        }
      ],
      "source": [
        "train.isnull().sum()"
      ]
    },
    {
      "cell_type": "code",
      "source": [
        "test.isnull().sum()"
      ],
      "metadata": {
        "colab": {
          "base_uri": "https://localhost:8080/"
        },
        "id": "c8jUqUljXuAh",
        "outputId": "d8852543-e956-4ba3-e91b-8107c2951b64"
      },
      "execution_count": null,
      "outputs": [
        {
          "output_type": "execute_result",
          "data": {
            "text/plain": [
              "PassengerId      0\n",
              "Pclass           0\n",
              "Name             0\n",
              "Sex              0\n",
              "Age             86\n",
              "SibSp            0\n",
              "Parch            0\n",
              "Ticket           0\n",
              "Fare             1\n",
              "Cabin          327\n",
              "Embarked         0\n",
              "Title            0\n",
              "dtype: int64"
            ]
          },
          "metadata": {},
          "execution_count": 34
        }
      ]
    },
    {
      "cell_type": "code",
      "execution_count": null,
      "metadata": {
        "id": "Yjf0ocHN0Xj4",
        "outputId": "8066c4cc-82c1-4609-fd11-d04d0510a354",
        "colab": {
          "base_uri": "https://localhost:8080/"
        }
      },
      "outputs": [
        {
          "output_type": "execute_result",
          "data": {
            "text/plain": [
              "S    644\n",
              "C    168\n",
              "Q     77\n",
              "Name: Embarked, dtype: int64"
            ]
          },
          "metadata": {},
          "execution_count": 35
        }
      ],
      "source": [
        "train.Embarked.value_counts()"
      ]
    },
    {
      "cell_type": "code",
      "execution_count": null,
      "metadata": {
        "id": "YUwMseF-0Xj5"
      },
      "outputs": [],
      "source": [
        "train.Embarked=train.Embarked.fillna(\"S\")"
      ]
    },
    {
      "cell_type": "code",
      "source": [
        "train[\"Age\"].mean()"
      ],
      "metadata": {
        "id": "nn6Wgsmx7SRp",
        "outputId": "22a74fce-db5c-41b8-ac85-cad989f8df50",
        "colab": {
          "base_uri": "https://localhost:8080/"
        }
      },
      "execution_count": null,
      "outputs": [
        {
          "output_type": "execute_result",
          "data": {
            "text/plain": [
              "29.69911764705882"
            ]
          },
          "metadata": {},
          "execution_count": 37
        }
      ]
    },
    {
      "cell_type": "code",
      "source": [
        "train.groupby(\"Sex\")[\"Age\"].mean()"
      ],
      "metadata": {
        "id": "uM0pSSeV7QVK",
        "outputId": "47394251-6c72-411f-c296-ff511e7d6195",
        "colab": {
          "base_uri": "https://localhost:8080/"
        }
      },
      "execution_count": null,
      "outputs": [
        {
          "output_type": "execute_result",
          "data": {
            "text/plain": [
              "Sex\n",
              "female    27.915709\n",
              "male      30.726645\n",
              "Name: Age, dtype: float64"
            ]
          },
          "metadata": {},
          "execution_count": 38
        }
      ]
    },
    {
      "cell_type": "code",
      "execution_count": null,
      "metadata": {
        "id": "sAiPhKuK0Xj6",
        "outputId": "b5c1d4f5-3089-4dde-9357-3948a40718ad",
        "colab": {
          "base_uri": "https://localhost:8080/"
        }
      },
      "outputs": [
        {
          "output_type": "execute_result",
          "data": {
            "text/plain": [
              "Title\n",
              "Master     4.574167\n",
              "Miss      21.860000\n",
              "Mr        32.368090\n",
              "Mrs       35.898148\n",
              "Others    45.545455\n",
              "Name: Age, dtype: float64"
            ]
          },
          "metadata": {},
          "execution_count": 39
        }
      ],
      "source": [
        "train.groupby(\"Title\")[\"Age\"].mean()"
      ]
    },
    {
      "cell_type": "code",
      "execution_count": null,
      "metadata": {
        "id": "-bb11Rck0Xj6"
      },
      "outputs": [],
      "source": [
        "#敬称毎に年齢の平均を出す\n",
        "for df in [train, test]:\n",
        "    mean = df.groupby(\"Title\")[\"Age\"].mean()\n",
        "    for title in mean.keys():\n",
        "        df.loc[(df.Age.isnull())&(df.Title==title),\"Age\"] = mean[title]"
      ]
    },
    {
      "cell_type": "code",
      "source": [
        "test.Fare=test.Fare.fillna(test.Fare.median())"
      ],
      "metadata": {
        "id": "ZkmE-PJQX9HK"
      },
      "execution_count": null,
      "outputs": []
    },
    {
      "cell_type": "code",
      "source": [
        "train.isnull().sum()"
      ],
      "metadata": {
        "colab": {
          "base_uri": "https://localhost:8080/"
        },
        "id": "yxlEXLwWYQ6K",
        "outputId": "d6644803-643a-4167-8273-4e448c036085"
      },
      "execution_count": null,
      "outputs": [
        {
          "output_type": "execute_result",
          "data": {
            "text/plain": [
              "PassengerId      0\n",
              "Survived         0\n",
              "Pclass           0\n",
              "Name             0\n",
              "Sex              0\n",
              "Age              0\n",
              "SibSp            0\n",
              "Parch            0\n",
              "Ticket           0\n",
              "Fare             0\n",
              "Cabin          687\n",
              "Embarked         0\n",
              "Title            0\n",
              "dtype: int64"
            ]
          },
          "metadata": {},
          "execution_count": 42
        }
      ]
    },
    {
      "cell_type": "code",
      "source": [
        "test.isnull().sum()"
      ],
      "metadata": {
        "colab": {
          "base_uri": "https://localhost:8080/"
        },
        "id": "KxdHkJ0NYRh6",
        "outputId": "8fb15ca5-6da6-4cfb-88d5-9d36ebe1d243"
      },
      "execution_count": null,
      "outputs": [
        {
          "output_type": "execute_result",
          "data": {
            "text/plain": [
              "PassengerId      0\n",
              "Pclass           0\n",
              "Name             0\n",
              "Sex              0\n",
              "Age              0\n",
              "SibSp            0\n",
              "Parch            0\n",
              "Ticket           0\n",
              "Fare             0\n",
              "Cabin          327\n",
              "Embarked         0\n",
              "Title            0\n",
              "dtype: int64"
            ]
          },
          "metadata": {},
          "execution_count": 43
        }
      ]
    },
    {
      "cell_type": "code",
      "execution_count": null,
      "metadata": {
        "scrolled": true,
        "id": "hUtu6i3d0XkA",
        "outputId": "0473c7fa-b7fc-470e-9b96-fdcf261d193b",
        "colab": {
          "base_uri": "https://localhost:8080/",
          "height": 335
        }
      },
      "outputs": [
        {
          "output_type": "stream",
          "name": "stderr",
          "text": [
            "/usr/local/lib/python3.7/dist-packages/seaborn/_decorators.py:43: FutureWarning: Pass the following variable as a keyword arg: x. From version 0.12, the only valid positional argument will be `data`, and passing other arguments without an explicit keyword will result in an error or misinterpretation.\n",
            "  FutureWarning\n"
          ]
        },
        {
          "output_type": "display_data",
          "data": {
            "text/plain": [
              "<Figure size 432x288 with 1 Axes>"
            ],
            "image/png": "[encoded data removed]"
          },
          "metadata": {
            "needs_background": "light"
          }
        }
      ],
      "source": [
        "sns.boxplot(train[\"Age\"])\n",
        "plt.show()"
      ]
    },
    {
      "cell_type": "markdown",
      "source": [
        "##数値データのカテゴライズ"
      ],
      "metadata": {
        "id": "KXtq42VvQO67"
      }
    },
    {
      "cell_type": "code",
      "execution_count": null,
      "metadata": {
        "id": "u2g_hPkH0XkA"
      },
      "outputs": [],
      "source": [
        "for df in [train, test]:\n",
        "    df['Age_band'] = pd.cut(df[\"Age\"], [0, 22, 30, 37, 59, 100], labels=range(5), right=False)"
      ]
    },
    {
      "cell_type": "code",
      "execution_count": null,
      "metadata": {
        "id": "iirpu2Yn0XkA",
        "outputId": "73c11699-6d37-4656-cc81-1f32bcd360c9",
        "colab": {
          "base_uri": "https://localhost:8080/"
        }
      },
      "outputs": [
        {
          "output_type": "execute_result",
          "data": {
            "text/plain": [
              "0    1\n",
              "1    3\n",
              "2    1\n",
              "3    2\n",
              "4    2\n",
              "Name: Age_band, dtype: category\n",
              "Categories (5, int64): [0 < 1 < 2 < 3 < 4]"
            ]
          },
          "metadata": {},
          "execution_count": 46
        }
      ],
      "source": [
        "train['Age_band'].head()"
      ]
    },
    {
      "cell_type": "code",
      "source": [
        "sns.boxplot(train[\"Fare\"])"
      ],
      "metadata": {
        "colab": {
          "base_uri": "https://localhost:8080/",
          "height": 353
        },
        "id": "sMJOoMnpafrl",
        "outputId": "2720c850-a0a1-42c7-df5a-85bf35c75a9e"
      },
      "execution_count": null,
      "outputs": [
        {
          "output_type": "stream",
          "name": "stderr",
          "text": [
            "/usr/local/lib/python3.7/dist-packages/seaborn/_decorators.py:43: FutureWarning: Pass the following variable as a keyword arg: x. From version 0.12, the only valid positional argument will be `data`, and passing other arguments without an explicit keyword will result in an error or misinterpretation.\n",
            "  FutureWarning\n"
          ]
        },
        {
          "output_type": "execute_result",
          "data": {
            "text/plain": [
              "<matplotlib.axes._subplots.AxesSubplot at 0x7f87993142d0>"
            ]
          },
          "metadata": {},
          "execution_count": 47
        },
        {
          "output_type": "display_data",
          "data": {
            "text/plain": [
              "<Figure size 432x288 with 1 Axes>"
            ],
            "image/png": "[encoded data removed]"
          },
          "metadata": {
            "needs_background": "light"
          }
        }
      ]
    },
    {
      "cell_type": "code",
      "execution_count": null,
      "metadata": {
        "id": "CFUCFSCj0XkB"
      },
      "outputs": [],
      "source": [
        "for df in [train, test]:\n",
        "    df['Fare_band'] = pd.cut(df[\"Fare\"], [0, 8, 15, 31, 66, 520], labels=range(5), right=False)"
      ]
    },
    {
      "cell_type": "code",
      "execution_count": null,
      "metadata": {
        "id": "jiND1LaP0XkB",
        "outputId": "8a5c4bbb-1275-4bb7-e69e-77bfca58b1be",
        "colab": {
          "base_uri": "https://localhost:8080/"
        }
      },
      "outputs": [
        {
          "output_type": "execute_result",
          "data": {
            "text/plain": [
              "0    0\n",
              "1    4\n",
              "2    0\n",
              "3    3\n",
              "4    1\n",
              "Name: Fare_band, dtype: category\n",
              "Categories (5, int64): [0 < 1 < 2 < 3 < 4]"
            ]
          },
          "metadata": {},
          "execution_count": 49
        }
      ],
      "source": [
        "train['Fare_band'].head()"
      ]
    },
    {
      "cell_type": "code",
      "execution_count": null,
      "metadata": {
        "scrolled": true,
        "id": "Hu4Z_lyz0XkC",
        "outputId": "667a1552-e250-4b59-8fcd-3f82ab51f685",
        "colab": {
          "base_uri": "https://localhost:8080/",
          "height": 336
        }
      },
      "outputs": [
        {
          "output_type": "stream",
          "name": "stderr",
          "text": [
            "/usr/local/lib/python3.7/dist-packages/seaborn/_decorators.py:43: FutureWarning: Pass the following variables as keyword args: x, y. From version 0.12, the only valid positional argument will be `data`, and passing other arguments without an explicit keyword will result in an error or misinterpretation.\n",
            "  FutureWarning\n"
          ]
        },
        {
          "output_type": "display_data",
          "data": {
            "text/plain": [
              "<Figure size 432x288 with 1 Axes>"
            ],
            "image/png": "[encoded data removed]"
          },
          "metadata": {
            "needs_background": "light"
          }
        }
      ],
      "source": [
        "sns.barplot(train[\"Age_band\"], train[\"Survived\"])\n",
        "plt.show()"
      ]
    },
    {
      "cell_type": "code",
      "execution_count": null,
      "metadata": {
        "id": "KaYaGxgn0XkC",
        "outputId": "b7c4c86d-7a7a-4d12-f1b9-cb68349648af",
        "colab": {
          "base_uri": "https://localhost:8080/",
          "height": 339
        }
      },
      "outputs": [
        {
          "output_type": "stream",
          "name": "stderr",
          "text": [
            "/usr/local/lib/python3.7/dist-packages/seaborn/_decorators.py:43: FutureWarning: Pass the following variables as keyword args: x, y. From version 0.12, the only valid positional argument will be `data`, and passing other arguments without an explicit keyword will result in an error or misinterpretation.\n",
            "  FutureWarning\n"
          ]
        },
        {
          "output_type": "display_data",
          "data": {
            "text/plain": [
              "<Figure size 432x288 with 1 Axes>"
            ],
            "image/png": "[encoded data removed]"
          },
          "metadata": {
            "needs_background": "light"
          }
        }
      ],
      "source": [
        "sns.barplot(train[\"Fare_band\"], train[\"Survived\"])\n",
        "plt.show()"
      ]
    },
    {
      "cell_type": "code",
      "execution_count": null,
      "metadata": {
        "id": "bOO5Nz-d0XkC",
        "outputId": "481a3599-e83a-4e14-93cb-42d68e2c698e",
        "colab": {
          "base_uri": "https://localhost:8080/",
          "height": 335
        }
      },
      "outputs": [
        {
          "output_type": "stream",
          "name": "stderr",
          "text": [
            "/usr/local/lib/python3.7/dist-packages/seaborn/_decorators.py:43: FutureWarning: Pass the following variables as keyword args: x, y. From version 0.12, the only valid positional argument will be `data`, and passing other arguments without an explicit keyword will result in an error or misinterpretation.\n",
            "  FutureWarning\n"
          ]
        },
        {
          "output_type": "display_data",
          "data": {
            "text/plain": [
              "<Figure size 432x288 with 1 Axes>"
            ],
            "image/png": "[encoded data removed]"
          },
          "metadata": {
            "needs_background": "light"
          }
        }
      ],
      "source": [
        "sns.barplot(train[\"Title\"], train[\"Survived\"])\n",
        "plt.show()"
      ]
    },
    {
      "cell_type": "code",
      "execution_count": null,
      "metadata": {
        "id": "ixav7uvi0XkD"
      },
      "outputs": [],
      "source": [
        "#不要な列削除\n",
        "drop_columns = ['PassengerId', 'Name', 'Ticket', 'Cabin','Age','Fare']"
      ]
    },
    {
      "cell_type": "code",
      "execution_count": null,
      "metadata": {
        "id": "yW8Jt-Xd0XkD"
      },
      "outputs": [],
      "source": [
        "train = train.drop(drop_columns, axis = 1)\n",
        "test  = test.drop(drop_columns, axis = 1)"
      ]
    },
    {
      "cell_type": "code",
      "execution_count": null,
      "metadata": {
        "id": "VzEetyGa0XkF"
      },
      "outputs": [],
      "source": [
        "#数値化\n",
        "for df in [train, test]:\n",
        "    df.loc[df['Sex']==\"female\", \"Sex\"]=0\n",
        "    df.loc[df['Sex']=='male','Sex']=1\n",
        "    \n",
        "    df.loc[df['Title']=='Mr', 'Title']=0\n",
        "    df.loc[df['Title']=='Miss', 'Title']=1\n",
        "    df.loc[df['Title']=='Mrs', 'Title']=2\n",
        "    df.loc[df['Title']=='Master', 'Title']=3\n",
        "    df.loc[df['Title']=='Others', 'Title']=4\n",
        "    \n",
        "    df.loc[df['Embarked']=='S', 'Embarked']=0\n",
        "    df.loc[df['Embarked']=='C', 'Embarked']=1\n",
        "    df.loc[df['Embarked']=='Q', 'Embarked']=2"
      ]
    },
    {
      "cell_type": "code",
      "execution_count": null,
      "metadata": {
        "id": "ZpFgpWTf0XkG"
      },
      "outputs": [],
      "source": [
        "#保存\n",
        "data[0].to_pickle(\"drive/My Drive/titanic_train.pkl\")\n",
        "data[1].to_pickle(\"drive/My Drive/titanic_test.pkl\")"
      ]
    },
    {
      "cell_type": "markdown",
      "metadata": {
        "id": "s-1k3zp4EiDS"
      },
      "source": [
        "# 学習データの分割"
      ]
    },
    {
      "cell_type": "code",
      "execution_count": null,
      "metadata": {
        "id": "Z2V9SU_rEiDy"
      },
      "outputs": [],
      "source": [
        "#ライブラリのインポート\n",
        "import numpy as np\n",
        "import pandas as pd\n",
        "from matplotlib import pyplot as plt\n",
        "import seaborn as sns\n",
        "%matplotlib inline"
      ]
    },
    {
      "cell_type": "code",
      "source": [
        "from google.colab import drive"
      ],
      "metadata": {
        "id": "EbZknL1CExeN"
      },
      "execution_count": null,
      "outputs": []
    },
    {
      "cell_type": "code",
      "source": [
        "drive.mount('/content/drive')"
      ],
      "metadata": {
        "colab": {
          "base_uri": "https://localhost:8080/"
        },
        "id": "0nH-X0bPExYD",
        "outputId": "091e79ae-af31-4d36-e7c6-992d3f3e8516"
      },
      "execution_count": null,
      "outputs": [
        {
          "output_type": "stream",
          "name": "stdout",
          "text": [
            "Mounted at /content/drive\n"
          ]
        }
      ]
    },
    {
      "cell_type": "code",
      "execution_count": null,
      "metadata": {
        "id": "BtW5lAYXEiD_"
      },
      "outputs": [],
      "source": [
        "# pickleをデータフレームに復元\n",
        "train = pd.read_pickle(\"drive/My Drive/titanic/titanic_train.pkl\")\n",
        "test = pd.read_pickle(\"drive/My Drive/titanic/titanic_test.pkl\")\n",
        "data = [train,test]"
      ]
    },
    {
      "cell_type": "code",
      "execution_count": null,
      "metadata": {
        "colab": {
          "base_uri": "https://localhost:8080/",
          "height": 206
        },
        "id": "ntt5TjqIEiEA",
        "outputId": "58f67d10-d373-415b-a1ad-43035acde136"
      },
      "outputs": [
        {
          "output_type": "execute_result",
          "data": {
            "text/plain": [
              "   Survived  Pclass Sex  SibSp  Parch Embarked Title Age_band Fare_band\n",
              "0         0       3   1      1      0        0     0        1         0\n",
              "1         1       1   0      1      0        1     2        3         4\n",
              "2         1       3   0      0      0        0     1        1         0\n",
              "3         1       1   0      1      0        0     2        2         3\n",
              "4         0       3   1      0      0        0     0        2         1"
            ],
            "text/html": [
              "\n",
              "  <div id=\"df-474fe7ff-31e3-4581-b302-52633f19a337\">\n",
              "    <div class=\"colab-df-container\">\n",
              "      <div>\n",
              "<style scoped>\n",
              "    .dataframe tbody tr th:only-of-type {\n",
              "        vertical-align: middle;\n",
              "    }\n",
              "\n",
              "    .dataframe tbody tr th {\n",
              "        vertical-align: top;\n",
              "    }\n",
              "\n",
              "    .dataframe thead th {\n",
              "        text-align: right;\n",
              "    }\n",
              "</style>\n",
              "<table border=\"1\" class=\"dataframe\">\n",
              "  <thead>\n",
              "    <tr style=\"text-align: right;\">\n",
              "      <th></th>\n",
              "      <th>Survived</th>\n",
              "      <th>Pclass</th>\n",
              "      <th>Sex</th>\n",
              "      <th>SibSp</th>\n",
              "      <th>Parch</th>\n",
              "      <th>Embarked</th>\n",
              "      <th>Title</th>\n",
              "      <th>Age_band</th>\n",
              "      <th>Fare_band</th>\n",
              "    </tr>\n",
              "  </thead>\n",
              "  <tbody>\n",
              "    <tr>\n",
              "      <th>0</th>\n",
              "      <td>0</td>\n",
              "      <td>3</td>\n",
              "      <td>1</td>\n",
              "      <td>1</td>\n",
              "      <td>0</td>\n",
              "      <td>0</td>\n",
              "      <td>0</td>\n",
              "      <td>1</td>\n",
              "      <td>0</td>\n",
              "    </tr>\n",
              "    <tr>\n",
              "      <th>1</th>\n",
              "      <td>1</td>\n",
              "      <td>1</td>\n",
              "      <td>0</td>\n",
              "      <td>1</td>\n",
              "      <td>0</td>\n",
              "      <td>1</td>\n",
              "      <td>2</td>\n",
              "      <td>3</td>\n",
              "      <td>4</td>\n",
              "    </tr>\n",
              "    <tr>\n",
              "      <th>2</th>\n",
              "      <td>1</td>\n",
              "      <td>3</td>\n",
              "      <td>0</td>\n",
              "      <td>0</td>\n",
              "      <td>0</td>\n",
              "      <td>0</td>\n",
              "      <td>1</td>\n",
              "      <td>1</td>\n",
              "      <td>0</td>\n",
              "    </tr>\n",
              "    <tr>\n",
              "      <th>3</th>\n",
              "      <td>1</td>\n",
              "      <td>1</td>\n",
              "      <td>0</td>\n",
              "      <td>1</td>\n",
              "      <td>0</td>\n",
              "      <td>0</td>\n",
              "      <td>2</td>\n",
              "      <td>2</td>\n",
              "      <td>3</td>\n",
              "    </tr>\n",
              "    <tr>\n",
              "      <th>4</th>\n",
              "      <td>0</td>\n",
              "      <td>3</td>\n",
              "      <td>1</td>\n",
              "      <td>0</td>\n",
              "      <td>0</td>\n",
              "      <td>0</td>\n",
              "      <td>0</td>\n",
              "      <td>2</td>\n",
              "      <td>1</td>\n",
              "    </tr>\n",
              "  </tbody>\n",
              "</table>\n",
              "</div>\n",
              "      <button class=\"colab-df-convert\" onclick=\"convertToInteractive('df-474fe7ff-31e3-4581-b302-52633f19a337')\"\n",
              "              title=\"Convert this dataframe to an interactive table.\"\n",
              "              style=\"display:none;\">\n",
              "        \n",
              "  <svg xmlns=\"http://www.w3.org/2000/svg\" height=\"24px\"viewBox=\"0 0 24 24\"\n",
              "       width=\"24px\">\n",
              "    <path d=\"M0 0h24v24H0V0z\" fill=\"none\"/>\n",
              "    <path d=\"M18.56 5.44l.94 2.06.94-2.06 2.06-.94-2.06-.94-.94-2.06-.94 2.06-2.06.94zm-11 1L8.5 8.5l.94-2.06 2.06-.94-2.06-.94L8.5 2.5l-.94 2.06-2.06.94zm10 10l.94 2.06.94-2.06 2.06-.94-2.06-.94-.94-2.06-.94 2.06-2.06.94z\"/><path d=\"M17.41 7.96l-1.37-1.37c-.4-.4-.92-.59-1.43-.59-.52 0-1.04.2-1.43.59L10.3 9.45l-7.72 7.72c-.78.78-.78 2.05 0 2.83L4 21.41c.39.39.9.59 1.41.59.51 0 1.02-.2 1.41-.59l7.78-7.78 2.81-2.81c.8-.78.8-2.07 0-2.86zM5.41 20L4 18.59l7.72-7.72 1.47 1.35L5.41 20z\"/>\n",
              "  </svg>\n",
              "      </button>\n",
              "      \n",
              "  <style>\n",
              "    .colab-df-container {\n",
              "      display:flex;\n",
              "      flex-wrap:wrap;\n",
              "      gap: 12px;\n",
              "    }\n",
              "\n",
              "    .colab-df-convert {\n",
              "      background-color: #E8F0FE;\n",
              "      border: none;\n",
              "      border-radius: 50%;\n",
              "      cursor: pointer;\n",
              "      display: none;\n",
              "      fill: #1967D2;\n",
              "      height: 32px;\n",
              "      padding: 0 0 0 0;\n",
              "      width: 32px;\n",
              "    }\n",
              "\n",
              "    .colab-df-convert:hover {\n",
              "      background-color: #E2EBFA;\n",
              "      box-shadow: 0px 1px 2px rgba(60, 64, 67, 0.3), 0px 1px 3px 1px rgba(60, 64, 67, 0.15);\n",
              "      fill: #174EA6;\n",
              "    }\n",
              "\n",
              "    [theme=dark] .colab-df-convert {\n",
              "      background-color: #3B4455;\n",
              "      fill: #D2E3FC;\n",
              "    }\n",
              "\n",
              "    [theme=dark] .colab-df-convert:hover {\n",
              "      background-color: #434B5C;\n",
              "      box-shadow: 0px 1px 3px 1px rgba(0, 0, 0, 0.15);\n",
              "      filter: drop-shadow(0px 1px 2px rgba(0, 0, 0, 0.3));\n",
              "      fill: #FFFFFF;\n",
              "    }\n",
              "  </style>\n",
              "\n",
              "      <script>\n",
              "        const buttonEl =\n",
              "          document.querySelector('#df-474fe7ff-31e3-4581-b302-52633f19a337 button.colab-df-convert');\n",
              "        buttonEl.style.display =\n",
              "          google.colab.kernel.accessAllowed ? 'block' : 'none';\n",
              "\n",
              "        async function convertToInteractive(key) {\n",
              "          const element = document.querySelector('#df-474fe7ff-31e3-4581-b302-52633f19a337');\n",
              "          const dataTable =\n",
              "            await google.colab.kernel.invokeFunction('convertToInteractive',\n",
              "                                                     [key], {});\n",
              "          if (!dataTable) return;\n",
              "\n",
              "          const docLinkHtml = 'Like what you see? Visit the ' +\n",
              "            '<a target=\"_blank\" href=https://colab.research.google.com/notebooks/data_table.ipynb>data table notebook</a>'\n",
              "            + ' to learn more about interactive tables.';\n",
              "          element.innerHTML = '';\n",
              "          dataTable['output_type'] = 'display_data';\n",
              "          await google.colab.output.renderOutput(dataTable, element);\n",
              "          const docLink = document.createElement('div');\n",
              "          docLink.innerHTML = docLinkHtml;\n",
              "          element.appendChild(docLink);\n",
              "        }\n",
              "      </script>\n",
              "    </div>\n",
              "  </div>\n",
              "  "
            ]
          },
          "metadata": {},
          "execution_count": 5
        }
      ],
      "source": [
        "data[0].head()"
      ]
    },
    {
      "cell_type": "code",
      "execution_count": null,
      "metadata": {
        "colab": {
          "base_uri": "https://localhost:8080/",
          "height": 206
        },
        "id": "ihf8wyTAEiED",
        "outputId": "8a1bdf2d-b912-4f8e-bfcb-99e50de04d9d"
      },
      "outputs": [
        {
          "output_type": "execute_result",
          "data": {
            "text/plain": [
              "   Pclass Sex  SibSp  Parch Embarked Title Age_band Fare_band\n",
              "0       3   1      0      0        2     0        2         0\n",
              "1       3   0      1      0        0     2        3         0\n",
              "2       2   1      0      0        2     0        4         1\n",
              "3       3   1      0      0        0     0        1         1\n",
              "4       3   0      1      1        0     2        1         1"
            ],
            "text/html": [
              "\n",
              "  <div id=\"df-961d6c4e-9f8c-4fe8-b329-d053d8daf6bc\">\n",
              "    <div class=\"colab-df-container\">\n",
              "      <div>\n",
              "<style scoped>\n",
              "    .dataframe tbody tr th:only-of-type {\n",
              "        vertical-align: middle;\n",
              "    }\n",
              "\n",
              "    .dataframe tbody tr th {\n",
              "        vertical-align: top;\n",
              "    }\n",
              "\n",
              "    .dataframe thead th {\n",
              "        text-align: right;\n",
              "    }\n",
              "</style>\n",
              "<table border=\"1\" class=\"dataframe\">\n",
              "  <thead>\n",
              "    <tr style=\"text-align: right;\">\n",
              "      <th></th>\n",
              "      <th>Pclass</th>\n",
              "      <th>Sex</th>\n",
              "      <th>SibSp</th>\n",
              "      <th>Parch</th>\n",
              "      <th>Embarked</th>\n",
              "      <th>Title</th>\n",
              "      <th>Age_band</th>\n",
              "      <th>Fare_band</th>\n",
              "    </tr>\n",
              "  </thead>\n",
              "  <tbody>\n",
              "    <tr>\n",
              "      <th>0</th>\n",
              "      <td>3</td>\n",
              "      <td>1</td>\n",
              "      <td>0</td>\n",
              "      <td>0</td>\n",
              "      <td>2</td>\n",
              "      <td>0</td>\n",
              "      <td>2</td>\n",
              "      <td>0</td>\n",
              "    </tr>\n",
              "    <tr>\n",
              "      <th>1</th>\n",
              "      <td>3</td>\n",
              "      <td>0</td>\n",
              "      <td>1</td>\n",
              "      <td>0</td>\n",
              "      <td>0</td>\n",
              "      <td>2</td>\n",
              "      <td>3</td>\n",
              "      <td>0</td>\n",
              "    </tr>\n",
              "    <tr>\n",
              "      <th>2</th>\n",
              "      <td>2</td>\n",
              "      <td>1</td>\n",
              "      <td>0</td>\n",
              "      <td>0</td>\n",
              "      <td>2</td>\n",
              "      <td>0</td>\n",
              "      <td>4</td>\n",
              "      <td>1</td>\n",
              "    </tr>\n",
              "    <tr>\n",
              "      <th>3</th>\n",
              "      <td>3</td>\n",
              "      <td>1</td>\n",
              "      <td>0</td>\n",
              "      <td>0</td>\n",
              "      <td>0</td>\n",
              "      <td>0</td>\n",
              "      <td>1</td>\n",
              "      <td>1</td>\n",
              "    </tr>\n",
              "    <tr>\n",
              "      <th>4</th>\n",
              "      <td>3</td>\n",
              "      <td>0</td>\n",
              "      <td>1</td>\n",
              "      <td>1</td>\n",
              "      <td>0</td>\n",
              "      <td>2</td>\n",
              "      <td>1</td>\n",
              "      <td>1</td>\n",
              "    </tr>\n",
              "  </tbody>\n",
              "</table>\n",
              "</div>\n",
              "      <button class=\"colab-df-convert\" onclick=\"convertToInteractive('df-961d6c4e-9f8c-4fe8-b329-d053d8daf6bc')\"\n",
              "              title=\"Convert this dataframe to an interactive table.\"\n",
              "              style=\"display:none;\">\n",
              "        \n",
              "  <svg xmlns=\"http://www.w3.org/2000/svg\" height=\"24px\"viewBox=\"0 0 24 24\"\n",
              "       width=\"24px\">\n",
              "    <path d=\"M0 0h24v24H0V0z\" fill=\"none\"/>\n",
              "    <path d=\"M18.56 5.44l.94 2.06.94-2.06 2.06-.94-2.06-.94-.94-2.06-.94 2.06-2.06.94zm-11 1L8.5 8.5l.94-2.06 2.06-.94-2.06-.94L8.5 2.5l-.94 2.06-2.06.94zm10 10l.94 2.06.94-2.06 2.06-.94-2.06-.94-.94-2.06-.94 2.06-2.06.94z\"/><path d=\"M17.41 7.96l-1.37-1.37c-.4-.4-.92-.59-1.43-.59-.52 0-1.04.2-1.43.59L10.3 9.45l-7.72 7.72c-.78.78-.78 2.05 0 2.83L4 21.41c.39.39.9.59 1.41.59.51 0 1.02-.2 1.41-.59l7.78-7.78 2.81-2.81c.8-.78.8-2.07 0-2.86zM5.41 20L4 18.59l7.72-7.72 1.47 1.35L5.41 20z\"/>\n",
              "  </svg>\n",
              "      </button>\n",
              "      \n",
              "  <style>\n",
              "    .colab-df-container {\n",
              "      display:flex;\n",
              "      flex-wrap:wrap;\n",
              "      gap: 12px;\n",
              "    }\n",
              "\n",
              "    .colab-df-convert {\n",
              "      background-color: #E8F0FE;\n",
              "      border: none;\n",
              "      border-radius: 50%;\n",
              "      cursor: pointer;\n",
              "      display: none;\n",
              "      fill: #1967D2;\n",
              "      height: 32px;\n",
              "      padding: 0 0 0 0;\n",
              "      width: 32px;\n",
              "    }\n",
              "\n",
              "    .colab-df-convert:hover {\n",
              "      background-color: #E2EBFA;\n",
              "      box-shadow: 0px 1px 2px rgba(60, 64, 67, 0.3), 0px 1px 3px 1px rgba(60, 64, 67, 0.15);\n",
              "      fill: #174EA6;\n",
              "    }\n",
              "\n",
              "    [theme=dark] .colab-df-convert {\n",
              "      background-color: #3B4455;\n",
              "      fill: #D2E3FC;\n",
              "    }\n",
              "\n",
              "    [theme=dark] .colab-df-convert:hover {\n",
              "      background-color: #434B5C;\n",
              "      box-shadow: 0px 1px 3px 1px rgba(0, 0, 0, 0.15);\n",
              "      filter: drop-shadow(0px 1px 2px rgba(0, 0, 0, 0.3));\n",
              "      fill: #FFFFFF;\n",
              "    }\n",
              "  </style>\n",
              "\n",
              "      <script>\n",
              "        const buttonEl =\n",
              "          document.querySelector('#df-961d6c4e-9f8c-4fe8-b329-d053d8daf6bc button.colab-df-convert');\n",
              "        buttonEl.style.display =\n",
              "          google.colab.kernel.accessAllowed ? 'block' : 'none';\n",
              "\n",
              "        async function convertToInteractive(key) {\n",
              "          const element = document.querySelector('#df-961d6c4e-9f8c-4fe8-b329-d053d8daf6bc');\n",
              "          const dataTable =\n",
              "            await google.colab.kernel.invokeFunction('convertToInteractive',\n",
              "                                                     [key], {});\n",
              "          if (!dataTable) return;\n",
              "\n",
              "          const docLinkHtml = 'Like what you see? Visit the ' +\n",
              "            '<a target=\"_blank\" href=https://colab.research.google.com/notebooks/data_table.ipynb>data table notebook</a>'\n",
              "            + ' to learn more about interactive tables.';\n",
              "          element.innerHTML = '';\n",
              "          dataTable['output_type'] = 'display_data';\n",
              "          await google.colab.output.renderOutput(dataTable, element);\n",
              "          const docLink = document.createElement('div');\n",
              "          docLink.innerHTML = docLinkHtml;\n",
              "          element.appendChild(docLink);\n",
              "        }\n",
              "      </script>\n",
              "    </div>\n",
              "  </div>\n",
              "  "
            ]
          },
          "metadata": {},
          "execution_count": 6
        }
      ],
      "source": [
        "data[1].head()"
      ]
    },
    {
      "cell_type": "code",
      "execution_count": null,
      "metadata": {
        "id": "GpfUatNbEiEF"
      },
      "outputs": [],
      "source": [
        "from sklearn.model_selection import train_test_split"
      ]
    },
    {
      "cell_type": "code",
      "execution_count": null,
      "metadata": {
        "id": "ALaz_61QEiEK"
      },
      "outputs": [],
      "source": [
        "tr_train,tr_test=train_test_split(train, test_size=0.3, random_state = 1234) "
      ]
    },
    {
      "cell_type": "code",
      "execution_count": null,
      "metadata": {
        "colab": {
          "base_uri": "https://localhost:8080/"
        },
        "id": "3hyDF_Y2EiEO",
        "outputId": "0eadc339-cb8d-4c4c-d6b8-5d2062998d1e"
      },
      "outputs": [
        {
          "output_type": "execute_result",
          "data": {
            "text/plain": [
              "Index(['Pclass', 'Sex', 'SibSp', 'Parch', 'Embarked', 'Title', 'Age_band',\n",
              "       'Fare_band'],\n",
              "      dtype='object')"
            ]
          },
          "metadata": {},
          "execution_count": 9
        }
      ],
      "source": [
        "train.columns[1:]"
      ]
    },
    {
      "cell_type": "code",
      "execution_count": null,
      "metadata": {
        "colab": {
          "base_uri": "https://localhost:8080/"
        },
        "id": "44ZZPSngEiEQ",
        "outputId": "b6532b05-72f0-4f63-c347-628205fb4fc3"
      },
      "outputs": [
        {
          "output_type": "execute_result",
          "data": {
            "text/plain": [
              "Index(['Pclass', 'Sex', 'SibSp', 'Parch', 'Embarked', 'Title', 'Age_band',\n",
              "       'Fare_band'],\n",
              "      dtype='object')"
            ]
          },
          "metadata": {},
          "execution_count": 10
        }
      ],
      "source": [
        "train.columns[1:]"
      ]
    },
    {
      "cell_type": "code",
      "execution_count": null,
      "metadata": {
        "colab": {
          "base_uri": "https://localhost:8080/",
          "height": 36
        },
        "id": "bPtSH7SzEiER",
        "outputId": "536dc3e9-1ac2-4492-81e2-f2bdfc2a88b6"
      },
      "outputs": [
        {
          "output_type": "execute_result",
          "data": {
            "text/plain": [
              "'Survived'"
            ],
            "application/vnd.google.colaboratory.intrinsic+json": {
              "type": "string"
            }
          },
          "metadata": {},
          "execution_count": 11
        }
      ],
      "source": [
        "train.columns[0]"
      ]
    },
    {
      "cell_type": "code",
      "execution_count": null,
      "metadata": {
        "id": "mpC2URRrEiES"
      },
      "outputs": [],
      "source": [
        "#訓練用の説明変数\n",
        "tr_train_X = tr_train[train.columns[1:]]\n",
        "\n",
        "# 訓練用の目的変数\n",
        "tr_train_Y = tr_train[train.columns[0]]\n",
        "\n",
        "# 評価用の説明変数\n",
        "tr_test_X = tr_test[train.columns[1:]]\n",
        "\n",
        "# 評価用の目的変数\n",
        "tr_test_Y = tr_test[train.columns[0]]"
      ]
    },
    {
      "cell_type": "code",
      "execution_count": null,
      "metadata": {
        "colab": {
          "base_uri": "https://localhost:8080/",
          "height": 206
        },
        "id": "GCEG6DX2EiEU",
        "outputId": "7ac0c6ee-dcf1-4698-fed0-9435e7033b30"
      },
      "outputs": [
        {
          "output_type": "execute_result",
          "data": {
            "text/plain": [
              "     Pclass Sex  SibSp  Parch Embarked Title Age_band Fare_band\n",
              "28        3   0      0      0        2     1        0         0\n",
              "270       1   1      0      0        0     0        2         3\n",
              "744       3   1      0      0        0     0        2         0\n",
              "73        3   1      1      0        1     0        1         1\n",
              "423       3   0      1      1        0     2        1         1"
            ],
            "text/html": [
              "\n",
              "  <div id=\"df-d9741110-cfa4-4661-b20b-5ca3c8864408\">\n",
              "    <div class=\"colab-df-container\">\n",
              "      <div>\n",
              "<style scoped>\n",
              "    .dataframe tbody tr th:only-of-type {\n",
              "        vertical-align: middle;\n",
              "    }\n",
              "\n",
              "    .dataframe tbody tr th {\n",
              "        vertical-align: top;\n",
              "    }\n",
              "\n",
              "    .dataframe thead th {\n",
              "        text-align: right;\n",
              "    }\n",
              "</style>\n",
              "<table border=\"1\" class=\"dataframe\">\n",
              "  <thead>\n",
              "    <tr style=\"text-align: right;\">\n",
              "      <th></th>\n",
              "      <th>Pclass</th>\n",
              "      <th>Sex</th>\n",
              "      <th>SibSp</th>\n",
              "      <th>Parch</th>\n",
              "      <th>Embarked</th>\n",
              "      <th>Title</th>\n",
              "      <th>Age_band</th>\n",
              "      <th>Fare_band</th>\n",
              "    </tr>\n",
              "  </thead>\n",
              "  <tbody>\n",
              "    <tr>\n",
              "      <th>28</th>\n",
              "      <td>3</td>\n",
              "      <td>0</td>\n",
              "      <td>0</td>\n",
              "      <td>0</td>\n",
              "      <td>2</td>\n",
              "      <td>1</td>\n",
              "      <td>0</td>\n",
              "      <td>0</td>\n",
              "    </tr>\n",
              "    <tr>\n",
              "      <th>270</th>\n",
              "      <td>1</td>\n",
              "      <td>1</td>\n",
              "      <td>0</td>\n",
              "      <td>0</td>\n",
              "      <td>0</td>\n",
              "      <td>0</td>\n",
              "      <td>2</td>\n",
              "      <td>3</td>\n",
              "    </tr>\n",
              "    <tr>\n",
              "      <th>744</th>\n",
              "      <td>3</td>\n",
              "      <td>1</td>\n",
              "      <td>0</td>\n",
              "      <td>0</td>\n",
              "      <td>0</td>\n",
              "      <td>0</td>\n",
              "      <td>2</td>\n",
              "      <td>0</td>\n",
              "    </tr>\n",
              "    <tr>\n",
              "      <th>73</th>\n",
              "      <td>3</td>\n",
              "      <td>1</td>\n",
              "      <td>1</td>\n",
              "      <td>0</td>\n",
              "      <td>1</td>\n",
              "      <td>0</td>\n",
              "      <td>1</td>\n",
              "      <td>1</td>\n",
              "    </tr>\n",
              "    <tr>\n",
              "      <th>423</th>\n",
              "      <td>3</td>\n",
              "      <td>0</td>\n",
              "      <td>1</td>\n",
              "      <td>1</td>\n",
              "      <td>0</td>\n",
              "      <td>2</td>\n",
              "      <td>1</td>\n",
              "      <td>1</td>\n",
              "    </tr>\n",
              "  </tbody>\n",
              "</table>\n",
              "</div>\n",
              "      <button class=\"colab-df-convert\" onclick=\"convertToInteractive('df-d9741110-cfa4-4661-b20b-5ca3c8864408')\"\n",
              "              title=\"Convert this dataframe to an interactive table.\"\n",
              "              style=\"display:none;\">\n",
              "        \n",
              "  <svg xmlns=\"http://www.w3.org/2000/svg\" height=\"24px\"viewBox=\"0 0 24 24\"\n",
              "       width=\"24px\">\n",
              "    <path d=\"M0 0h24v24H0V0z\" fill=\"none\"/>\n",
              "    <path d=\"M18.56 5.44l.94 2.06.94-2.06 2.06-.94-2.06-.94-.94-2.06-.94 2.06-2.06.94zm-11 1L8.5 8.5l.94-2.06 2.06-.94-2.06-.94L8.5 2.5l-.94 2.06-2.06.94zm10 10l.94 2.06.94-2.06 2.06-.94-2.06-.94-.94-2.06-.94 2.06-2.06.94z\"/><path d=\"M17.41 7.96l-1.37-1.37c-.4-.4-.92-.59-1.43-.59-.52 0-1.04.2-1.43.59L10.3 9.45l-7.72 7.72c-.78.78-.78 2.05 0 2.83L4 21.41c.39.39.9.59 1.41.59.51 0 1.02-.2 1.41-.59l7.78-7.78 2.81-2.81c.8-.78.8-2.07 0-2.86zM5.41 20L4 18.59l7.72-7.72 1.47 1.35L5.41 20z\"/>\n",
              "  </svg>\n",
              "      </button>\n",
              "      \n",
              "  <style>\n",
              "    .colab-df-container {\n",
              "      display:flex;\n",
              "      flex-wrap:wrap;\n",
              "      gap: 12px;\n",
              "    }\n",
              "\n",
              "    .colab-df-convert {\n",
              "      background-color: #E8F0FE;\n",
              "      border: none;\n",
              "      border-radius: 50%;\n",
              "      cursor: pointer;\n",
              "      display: none;\n",
              "      fill: #1967D2;\n",
              "      height: 32px;\n",
              "      padding: 0 0 0 0;\n",
              "      width: 32px;\n",
              "    }\n",
              "\n",
              "    .colab-df-convert:hover {\n",
              "      background-color: #E2EBFA;\n",
              "      box-shadow: 0px 1px 2px rgba(60, 64, 67, 0.3), 0px 1px 3px 1px rgba(60, 64, 67, 0.15);\n",
              "      fill: #174EA6;\n",
              "    }\n",
              "\n",
              "    [theme=dark] .colab-df-convert {\n",
              "      background-color: #3B4455;\n",
              "      fill: #D2E3FC;\n",
              "    }\n",
              "\n",
              "    [theme=dark] .colab-df-convert:hover {\n",
              "      background-color: #434B5C;\n",
              "      box-shadow: 0px 1px 3px 1px rgba(0, 0, 0, 0.15);\n",
              "      filter: drop-shadow(0px 1px 2px rgba(0, 0, 0, 0.3));\n",
              "      fill: #FFFFFF;\n",
              "    }\n",
              "  </style>\n",
              "\n",
              "      <script>\n",
              "        const buttonEl =\n",
              "          document.querySelector('#df-d9741110-cfa4-4661-b20b-5ca3c8864408 button.colab-df-convert');\n",
              "        buttonEl.style.display =\n",
              "          google.colab.kernel.accessAllowed ? 'block' : 'none';\n",
              "\n",
              "        async function convertToInteractive(key) {\n",
              "          const element = document.querySelector('#df-d9741110-cfa4-4661-b20b-5ca3c8864408');\n",
              "          const dataTable =\n",
              "            await google.colab.kernel.invokeFunction('convertToInteractive',\n",
              "                                                     [key], {});\n",
              "          if (!dataTable) return;\n",
              "\n",
              "          const docLinkHtml = 'Like what you see? Visit the ' +\n",
              "            '<a target=\"_blank\" href=https://colab.research.google.com/notebooks/data_table.ipynb>data table notebook</a>'\n",
              "            + ' to learn more about interactive tables.';\n",
              "          element.innerHTML = '';\n",
              "          dataTable['output_type'] = 'display_data';\n",
              "          await google.colab.output.renderOutput(dataTable, element);\n",
              "          const docLink = document.createElement('div');\n",
              "          docLink.innerHTML = docLinkHtml;\n",
              "          element.appendChild(docLink);\n",
              "        }\n",
              "      </script>\n",
              "    </div>\n",
              "  </div>\n",
              "  "
            ]
          },
          "metadata": {},
          "execution_count": 13
        }
      ],
      "source": [
        "tr_train_X.head()"
      ]
    },
    {
      "cell_type": "code",
      "execution_count": null,
      "metadata": {
        "colab": {
          "base_uri": "https://localhost:8080/"
        },
        "id": "5wqJ7OosEiEV",
        "outputId": "f75ad730-28f0-4e29-c828-ac23baa7aa5a"
      },
      "outputs": [
        {
          "output_type": "execute_result",
          "data": {
            "text/plain": [
              "28     1\n",
              "270    0\n",
              "744    1\n",
              "73     0\n",
              "423    0\n",
              "Name: Survived, dtype: int64"
            ]
          },
          "metadata": {},
          "execution_count": 14
        }
      ],
      "source": [
        "tr_train_Y.head()"
      ]
    },
    {
      "cell_type": "markdown",
      "metadata": {
        "id": "qdoDuyBkEiEc"
      },
      "source": [
        "# モデルの構築"
      ]
    },
    {
      "cell_type": "markdown",
      "metadata": {
        "id": "XvWuBZR4EiEd"
      },
      "source": [
        "## 決定木"
      ]
    },
    {
      "cell_type": "code",
      "execution_count": null,
      "metadata": {
        "id": "hDsICFGzEiEe"
      },
      "outputs": [],
      "source": [
        "from sklearn import tree\n",
        "\n",
        "model=tree.DecisionTreeClassifier()"
      ]
    },
    {
      "cell_type": "code",
      "execution_count": null,
      "metadata": {
        "id": "2R7vza4pEiEf"
      },
      "outputs": [],
      "source": [
        "model.fit(tr_train_X,tr_train_Y)\n",
        "\n",
        "predict= model.predict(tr_test_X)"
      ]
    },
    {
      "cell_type": "code",
      "source": [
        "test_prediction = model.predict(test)"
      ],
      "metadata": {
        "id": "jaydbeZvFY82"
      },
      "execution_count": null,
      "outputs": []
    },
    {
      "cell_type": "code",
      "execution_count": null,
      "metadata": {
        "colab": {
          "base_uri": "https://localhost:8080/"
        },
        "id": "T01ibd_5EiEh",
        "outputId": "19901466-0122-44c2-8560-665025533e72"
      },
      "outputs": [
        {
          "output_type": "stream",
          "name": "stdout",
          "text": [
            "判別率： 0.7873134328358209\n"
          ]
        }
      ],
      "source": [
        "from sklearn import metrics\n",
        "\n",
        "print('判別率：',metrics.accuracy_score(predict, tr_test_Y))"
      ]
    },
    {
      "cell_type": "code",
      "source": [
        "score = model.score(tr_test_X,tr_test_Y)\n",
        "print(f'score:{score:.04f}')"
      ],
      "metadata": {
        "colab": {
          "base_uri": "https://localhost:8080/"
        },
        "id": "SsN6VmgrFg7t",
        "outputId": "ee70b9de-b470-49e4-a3e4-9bf666a3b460"
      },
      "execution_count": null,
      "outputs": [
        {
          "output_type": "stream",
          "name": "stdout",
          "text": [
            "score:0.7873\n"
          ]
        }
      ]
    },
    {
      "cell_type": "code",
      "source": [
        "passenger_id = np.arange(892,1310)"
      ],
      "metadata": {
        "id": "UdUb61Q4Fg0T"
      },
      "execution_count": null,
      "outputs": []
    },
    {
      "cell_type": "code",
      "source": [
        "test_result = pd.DataFrame( { 'PassengerId': passenger_id , 'Survived': test_prediction } )\n",
        "print(test_result.head(10))"
      ],
      "metadata": {
        "colab": {
          "base_uri": "https://localhost:8080/"
        },
        "id": "yOGKnuDEFmpo",
        "outputId": "9e2a9506-0ec0-446b-a17d-4a76e41c74c1"
      },
      "execution_count": null,
      "outputs": [
        {
          "output_type": "stream",
          "name": "stdout",
          "text": [
            "   PassengerId  Survived\n",
            "0          892         0\n",
            "1          893         0\n",
            "2          894         0\n",
            "3          895         0\n",
            "4          896         0\n",
            "5          897         0\n",
            "6          898         0\n",
            "7          899         0\n",
            "8          900         1\n",
            "9          901         0\n"
          ]
        }
      ]
    },
    {
      "cell_type": "code",
      "source": [
        "test_result.to_csv( '/content/drive/MyDrive/titanic/titanic_forsubmission_1.csv')"
      ],
      "metadata": {
        "id": "OTViLpqxFmmz"
      },
      "execution_count": null,
      "outputs": []
    },
    {
      "cell_type": "code",
      "source": [
        "from sklearn import tree\n",
        "from sklearn import metrics\n",
        "from statistics import mean\n",
        "num = 100\n",
        "counter = 0\n",
        "score_n = []\n",
        "while counter < num:\n",
        "  model = tree.DecisionTreeClassifier(splitter='random')#初期値gini\n",
        "  model.fit(tr_train_X, tr_train_Y)\n",
        "  predict= model.predict(tr_test_X)\n",
        "  print('Score(判別率):' + str(metrics.accuracy_score(predict,tr_test_Y)))\n",
        "  score_n.append(metrics.accuracy_score(predict,tr_test_Y))\n",
        "  counter += 1\n",
        "print(score_n)\n",
        "score_mean = mean(score_n)\n",
        "print('Score平均値=:' + str(score_mean))"
      ],
      "metadata": {
        "colab": {
          "base_uri": "https://localhost:8080/"
        },
        "id": "iMlIQrCjG0Rv",
        "outputId": "eed72b5f-8b34-4d6b-b9fe-9111374efdf8"
      },
      "execution_count": null,
      "outputs": [
        {
          "output_type": "stream",
          "name": "stdout",
          "text": [
            "Score(判別率):0.7798507462686567\n",
            "Score(判別率):0.7723880597014925\n",
            "Score(判別率):0.7873134328358209\n",
            "Score(判別率):0.7947761194029851\n",
            "Score(判別率):0.7873134328358209\n",
            "Score(判別率):0.7910447761194029\n",
            "Score(判別率):0.7873134328358209\n",
            "Score(判別率):0.7910447761194029\n",
            "Score(判別率):0.8022388059701493\n",
            "Score(判別率):0.7910447761194029\n",
            "Score(判別率):0.7910447761194029\n",
            "Score(判別率):0.7873134328358209\n",
            "Score(判別率):0.7910447761194029\n",
            "Score(判別率):0.7873134328358209\n",
            "Score(判別率):0.8059701492537313\n",
            "Score(判別率):0.8022388059701493\n",
            "Score(判別率):0.7835820895522388\n",
            "Score(判別率):0.7910447761194029\n",
            "Score(判別率):0.7798507462686567\n",
            "Score(判別率):0.7873134328358209\n",
            "Score(判別率):0.7835820895522388\n",
            "Score(判別率):0.7723880597014925\n",
            "Score(判別率):0.7910447761194029\n",
            "Score(判別率):0.7947761194029851\n",
            "Score(判別率):0.7761194029850746\n",
            "Score(判別率):0.7947761194029851\n",
            "Score(判別率):0.7947761194029851\n",
            "Score(判別率):0.7947761194029851\n",
            "Score(判別率):0.7873134328358209\n",
            "Score(判別率):0.7947761194029851\n",
            "Score(判別率):0.7873134328358209\n",
            "Score(判別率):0.7947761194029851\n",
            "Score(判別率):0.7985074626865671\n",
            "Score(判別率):0.8022388059701493\n",
            "Score(判別率):0.7985074626865671\n",
            "Score(判別率):0.7910447761194029\n",
            "Score(判別率):0.8059701492537313\n",
            "Score(判別率):0.8059701492537313\n",
            "Score(判別率):0.7947761194029851\n",
            "Score(判別率):0.7835820895522388\n",
            "Score(判別率):0.7985074626865671\n",
            "Score(判別率):0.7985074626865671\n",
            "Score(判別率):0.7761194029850746\n",
            "Score(判別率):0.7910447761194029\n",
            "Score(判別率):0.7910447761194029\n",
            "Score(判別率):0.7873134328358209\n",
            "Score(判別率):0.7910447761194029\n",
            "Score(判別率):0.7723880597014925\n",
            "Score(判別率):0.8134328358208955\n",
            "Score(判別率):0.7910447761194029\n",
            "Score(判別率):0.7985074626865671\n",
            "Score(判別率):0.8208955223880597\n",
            "Score(判別率):0.7873134328358209\n",
            "Score(判別率):0.7985074626865671\n",
            "Score(判別率):0.7985074626865671\n",
            "Score(判別率):0.7947761194029851\n",
            "Score(判別率):0.7910447761194029\n",
            "Score(判別率):0.7947761194029851\n",
            "Score(判別率):0.8022388059701493\n",
            "Score(判別率):0.7910447761194029\n",
            "Score(判別率):0.7947761194029851\n",
            "Score(判別率):0.7947761194029851\n",
            "Score(判別率):0.7910447761194029\n",
            "Score(判別率):0.7947761194029851\n",
            "Score(判別率):0.8022388059701493\n",
            "Score(判別率):0.7985074626865671\n",
            "Score(判別率):0.7910447761194029\n",
            "Score(判別率):0.7835820895522388\n",
            "Score(判別率):0.8097014925373134\n",
            "Score(判別率):0.7873134328358209\n",
            "Score(判別率):0.7985074626865671\n",
            "Score(判別率):0.8208955223880597\n",
            "Score(判別率):0.8022388059701493\n",
            "Score(判別率):0.7985074626865671\n",
            "Score(判別率):0.7910447761194029\n",
            "Score(判別率):0.7798507462686567\n",
            "Score(判別率):0.7873134328358209\n",
            "Score(判別率):0.7947761194029851\n",
            "Score(判別率):0.7985074626865671\n",
            "Score(判別率):0.7947761194029851\n",
            "Score(判別率):0.7985074626865671\n",
            "Score(判別率):0.7985074626865671\n",
            "Score(判別率):0.7798507462686567\n",
            "Score(判別率):0.8022388059701493\n",
            "Score(判別率):0.7686567164179104\n",
            "Score(判別率):0.7985074626865671\n",
            "Score(判別率):0.7798507462686567\n",
            "Score(判別率):0.7873134328358209\n",
            "Score(判別率):0.7985074626865671\n",
            "Score(判別率):0.7947761194029851\n",
            "Score(判別率):0.8097014925373134\n",
            "Score(判別率):0.7910447761194029\n",
            "Score(判別率):0.8022388059701493\n",
            "Score(判別率):0.7835820895522388\n",
            "Score(判別率):0.8022388059701493\n",
            "Score(判別率):0.8134328358208955\n",
            "Score(判別率):0.7985074626865671\n",
            "Score(判別率):0.8022388059701493\n",
            "Score(判別率):0.8022388059701493\n",
            "Score(判別率):0.7985074626865671\n",
            "[0.7798507462686567, 0.7723880597014925, 0.7873134328358209, 0.7947761194029851, 0.7873134328358209, 0.7910447761194029, 0.7873134328358209, 0.7910447761194029, 0.8022388059701493, 0.7910447761194029, 0.7910447761194029, 0.7873134328358209, 0.7910447761194029, 0.7873134328358209, 0.8059701492537313, 0.8022388059701493, 0.7835820895522388, 0.7910447761194029, 0.7798507462686567, 0.7873134328358209, 0.7835820895522388, 0.7723880597014925, 0.7910447761194029, 0.7947761194029851, 0.7761194029850746, 0.7947761194029851, 0.7947761194029851, 0.7947761194029851, 0.7873134328358209, 0.7947761194029851, 0.7873134328358209, 0.7947761194029851, 0.7985074626865671, 0.8022388059701493, 0.7985074626865671, 0.7910447761194029, 0.8059701492537313, 0.8059701492537313, 0.7947761194029851, 0.7835820895522388, 0.7985074626865671, 0.7985074626865671, 0.7761194029850746, 0.7910447761194029, 0.7910447761194029, 0.7873134328358209, 0.7910447761194029, 0.7723880597014925, 0.8134328358208955, 0.7910447761194029, 0.7985074626865671, 0.8208955223880597, 0.7873134328358209, 0.7985074626865671, 0.7985074626865671, 0.7947761194029851, 0.7910447761194029, 0.7947761194029851, 0.8022388059701493, 0.7910447761194029, 0.7947761194029851, 0.7947761194029851, 0.7910447761194029, 0.7947761194029851, 0.8022388059701493, 0.7985074626865671, 0.7910447761194029, 0.7835820895522388, 0.8097014925373134, 0.7873134328358209, 0.7985074626865671, 0.8208955223880597, 0.8022388059701493, 0.7985074626865671, 0.7910447761194029, 0.7798507462686567, 0.7873134328358209, 0.7947761194029851, 0.7985074626865671, 0.7947761194029851, 0.7985074626865671, 0.7985074626865671, 0.7798507462686567, 0.8022388059701493, 0.7686567164179104, 0.7985074626865671, 0.7798507462686567, 0.7873134328358209, 0.7985074626865671, 0.7947761194029851, 0.8097014925373134, 0.7910447761194029, 0.8022388059701493, 0.7835820895522388, 0.8022388059701493, 0.8134328358208955, 0.7985074626865671, 0.8022388059701493, 0.8022388059701493, 0.7985074626865671]\n",
            "Score平均値=:0.7935074626865671\n"
          ]
        }
      ]
    },
    {
      "cell_type": "markdown",
      "source": [
        "### 決定木-グリッドサーチ\n"
      ],
      "metadata": {
        "id": "26IxLIQCK_Ky"
      }
    },
    {
      "cell_type": "code",
      "source": [
        "from sklearn.model_selection import GridSearchCV\n",
        "\n",
        "param={'criterion':['gini','entropy'],\n",
        "       'splitter':['best','random'],\n",
        "       'max_depth':[5,10, 50, None],\n",
        "       'max_features':[2,3,4,5,6,7,8]}\n",
        "\n",
        "GS_rf=GridSearchCV(estimator = tree.DecisionTreeClassifier(random_state=1234), param_grid=param)\n",
        "GS_rf.fit(x,y)\n",
        "\n",
        "print(\"ベストスコア：{}\".format(GS_rf.best_score_))\n",
        "print(\"最適なパラメータ：{}\".format(GS_rf.best_estimator_))"
      ],
      "metadata": {
        "colab": {
          "base_uri": "https://localhost:8080/"
        },
        "id": "jqAzoQk1P2rM",
        "outputId": "4a7df341-6ecd-4d48-e602-f56b3ca5282c"
      },
      "execution_count": null,
      "outputs": [
        {
          "output_type": "stream",
          "name": "stdout",
          "text": [
            "ベストスコア：0.8271922666499278\n",
            "最適なパラメータ：DecisionTreeClassifier(criterion='entropy', max_depth=5, max_features=6,\n",
            "                       random_state=1234, splitter='random')\n"
          ]
        }
      ]
    },
    {
      "cell_type": "markdown",
      "metadata": {
        "id": "thEDrDnUEiEh"
      },
      "source": [
        "## ランダムフォレスト"
      ]
    },
    {
      "cell_type": "code",
      "execution_count": null,
      "metadata": {
        "id": "p6CcsYl7EiEj"
      },
      "outputs": [],
      "source": [
        "from sklearn.ensemble import RandomForestClassifier\n",
        "\n",
        "model=RandomForestClassifier(n_estimators=300)"
      ]
    },
    {
      "cell_type": "code",
      "execution_count": null,
      "metadata": {
        "id": "Yb1tfiCwEiEj"
      },
      "outputs": [],
      "source": [
        "model.fit(tr_train_X,tr_train_Y)\n",
        "\n",
        "predict= model.predict(tr_test_X)"
      ]
    },
    {
      "cell_type": "code",
      "source": [
        "test_prediction = model.predict(test)"
      ],
      "metadata": {
        "id": "XgM72yHsFvkT"
      },
      "execution_count": null,
      "outputs": []
    },
    {
      "cell_type": "code",
      "execution_count": null,
      "metadata": {
        "id": "VdUhB-RlEiEl",
        "colab": {
          "base_uri": "https://localhost:8080/"
        },
        "outputId": "9f454250-f176-441c-aded-48722029cd05"
      },
      "outputs": [
        {
          "output_type": "stream",
          "name": "stdout",
          "text": [
            "判別率： 0.7985074626865671\n"
          ]
        }
      ],
      "source": [
        "from sklearn import metrics\n",
        "\n",
        "print('判別率：',metrics.accuracy_score(predict, tr_test_Y))"
      ]
    },
    {
      "cell_type": "code",
      "source": [
        "score = model.score(tr_test_X,tr_test_Y)\n",
        "print(f'score:{score:.04f}')"
      ],
      "metadata": {
        "id": "snJstVHxFy1x",
        "colab": {
          "base_uri": "https://localhost:8080/"
        },
        "outputId": "9bbc64c6-e5a0-4eaa-9bf6-aed8e700477d"
      },
      "execution_count": null,
      "outputs": [
        {
          "output_type": "stream",
          "name": "stdout",
          "text": [
            "score:0.7985\n"
          ]
        }
      ]
    },
    {
      "cell_type": "code",
      "source": [
        "passenger_id = np.arange(892,1310)\n",
        "\n",
        "test_result = pd.DataFrame( { 'PassengerId': passenger_id , 'Survived': test_prediction } )\n",
        "print(test_result.head(10))\n",
        "\n",
        "test_result.to_csv( '/content/drive/MyDrive/titanic/titanic_forsubmission_2.csv' , index = False )"
      ],
      "metadata": {
        "id": "dGatI7zKF2vf",
        "colab": {
          "base_uri": "https://localhost:8080/"
        },
        "outputId": "5570c1c7-5b9b-46bd-e39f-8ba92426ae72"
      },
      "execution_count": null,
      "outputs": [
        {
          "output_type": "stream",
          "name": "stdout",
          "text": [
            "   PassengerId  Survived\n",
            "0          892         0\n",
            "1          893         0\n",
            "2          894         0\n",
            "3          895         0\n",
            "4          896         0\n",
            "5          897         0\n",
            "6          898         0\n",
            "7          899         0\n",
            "8          900         1\n",
            "9          901         0\n"
          ]
        }
      ]
    },
    {
      "cell_type": "code",
      "source": [
        "from sklearn import tree\n",
        "from sklearn import metrics\n",
        "from statistics import mean\n",
        "num = 100\n",
        "counter = 0\n",
        "score_n = []\n",
        "while counter < num:\n",
        "  model=RandomForestClassifier()\n",
        "  model.fit(tr_train_X, tr_train_Y)\n",
        "  predict= model.predict(tr_test_X)\n",
        "  print('Score(判別率):' + str(metrics.accuracy_score(predict,tr_test_Y)))\n",
        "  score_n.append(metrics.accuracy_score(predict,tr_test_Y))\n",
        "  counter += 1\n",
        "print(score_n)\n",
        "score_mean = mean(score_n)\n",
        "print('Score平均値=:' + str(score_mean))"
      ],
      "metadata": {
        "colab": {
          "base_uri": "https://localhost:8080/"
        },
        "id": "KqYEoMazbM3M",
        "outputId": "ca34aa60-5df8-47f3-f732-84738c95845f"
      },
      "execution_count": null,
      "outputs": [
        {
          "output_type": "stream",
          "name": "stdout",
          "text": [
            "Score(判別率):0.8022388059701493\n",
            "Score(判別率):0.7985074626865671\n",
            "Score(判別率):0.8059701492537313\n",
            "Score(判別率):0.7985074626865671\n",
            "Score(判別率):0.7947761194029851\n",
            "Score(判別率):0.8059701492537313\n",
            "Score(判別率):0.7985074626865671\n",
            "Score(判別率):0.8022388059701493\n",
            "Score(判別率):0.7910447761194029\n",
            "Score(判別率):0.8022388059701493\n",
            "Score(判別率):0.8022388059701493\n",
            "Score(判別率):0.8059701492537313\n",
            "Score(判別率):0.7947761194029851\n",
            "Score(判別率):0.8059701492537313\n",
            "Score(判別率):0.7985074626865671\n",
            "Score(判別率):0.8022388059701493\n",
            "Score(判別率):0.7873134328358209\n",
            "Score(判別率):0.8059701492537313\n",
            "Score(判別率):0.7910447761194029\n",
            "Score(判別率):0.8059701492537313\n",
            "Score(判別率):0.8059701492537313\n",
            "Score(判別率):0.8059701492537313\n",
            "Score(判別率):0.8022388059701493\n",
            "Score(判別率):0.7985074626865671\n",
            "Score(判別率):0.7873134328358209\n",
            "Score(判別率):0.7910447761194029\n",
            "Score(判別率):0.8022388059701493\n",
            "Score(判別率):0.8022388059701493\n",
            "Score(判別率):0.8022388059701493\n",
            "Score(判別率):0.8059701492537313\n",
            "Score(判別率):0.8097014925373134\n",
            "Score(判別率):0.7910447761194029\n",
            "Score(判別率):0.7985074626865671\n",
            "Score(判別率):0.7910447761194029\n",
            "Score(判別率):0.7947761194029851\n",
            "Score(判別率):0.8097014925373134\n",
            "Score(判別率):0.7947761194029851\n",
            "Score(判別率):0.7947761194029851\n",
            "Score(判別率):0.7985074626865671\n",
            "Score(判別率):0.7947761194029851\n",
            "Score(判別率):0.8097014925373134\n",
            "Score(判別率):0.7985074626865671\n",
            "Score(判別率):0.8022388059701493\n",
            "Score(判別率):0.7910447761194029\n",
            "Score(判別率):0.7910447761194029\n",
            "Score(判別率):0.7910447761194029\n",
            "Score(判別率):0.8059701492537313\n",
            "Score(判別率):0.7985074626865671\n",
            "Score(判別率):0.7910447761194029\n",
            "Score(判別率):0.8097014925373134\n",
            "Score(判別率):0.7985074626865671\n",
            "Score(判別率):0.8097014925373134\n",
            "Score(判別率):0.8022388059701493\n",
            "Score(判別率):0.7985074626865671\n",
            "Score(判別率):0.7910447761194029\n",
            "Score(判別率):0.8022388059701493\n",
            "Score(判別率):0.7947761194029851\n",
            "Score(判別率):0.7947761194029851\n",
            "Score(判別率):0.8022388059701493\n",
            "Score(判別率):0.8059701492537313\n",
            "Score(判別率):0.7985074626865671\n",
            "Score(判別率):0.8059701492537313\n",
            "Score(判別率):0.7985074626865671\n",
            "Score(判別率):0.7985074626865671\n",
            "Score(判別率):0.7873134328358209\n",
            "Score(判別率):0.7947761194029851\n",
            "Score(判別率):0.8022388059701493\n",
            "Score(判別率):0.7985074626865671\n",
            "Score(判別率):0.7985074626865671\n",
            "Score(判別率):0.8022388059701493\n",
            "Score(判別率):0.8059701492537313\n",
            "Score(判別率):0.7985074626865671\n",
            "Score(判別率):0.8059701492537313\n",
            "Score(判別率):0.7985074626865671\n",
            "Score(判別率):0.7947761194029851\n",
            "Score(判別率):0.8097014925373134\n",
            "Score(判別率):0.7910447761194029\n",
            "Score(判別率):0.7985074626865671\n",
            "Score(判別率):0.7947761194029851\n",
            "Score(判別率):0.8022388059701493\n",
            "Score(判別率):0.8097014925373134\n",
            "Score(判別率):0.7985074626865671\n",
            "Score(判別率):0.8022388059701493\n",
            "Score(判別率):0.7985074626865671\n",
            "Score(判別率):0.7947761194029851\n",
            "Score(判別率):0.8022388059701493\n",
            "Score(判別率):0.8059701492537313\n",
            "Score(判別率):0.7985074626865671\n",
            "Score(判別率):0.8022388059701493\n",
            "Score(判別率):0.8022388059701493\n",
            "Score(判別率):0.7910447761194029\n",
            "Score(判別率):0.7947761194029851\n",
            "Score(判別率):0.8022388059701493\n",
            "Score(判別率):0.8022388059701493\n",
            "Score(判別率):0.7873134328358209\n",
            "Score(判別率):0.7947761194029851\n",
            "Score(判別率):0.8059701492537313\n",
            "Score(判別率):0.7947761194029851\n",
            "Score(判別率):0.7947761194029851\n",
            "Score(判別率):0.7985074626865671\n",
            "[0.8022388059701493, 0.7985074626865671, 0.8059701492537313, 0.7985074626865671, 0.7947761194029851, 0.8059701492537313, 0.7985074626865671, 0.8022388059701493, 0.7910447761194029, 0.8022388059701493, 0.8022388059701493, 0.8059701492537313, 0.7947761194029851, 0.8059701492537313, 0.7985074626865671, 0.8022388059701493, 0.7873134328358209, 0.8059701492537313, 0.7910447761194029, 0.8059701492537313, 0.8059701492537313, 0.8059701492537313, 0.8022388059701493, 0.7985074626865671, 0.7873134328358209, 0.7910447761194029, 0.8022388059701493, 0.8022388059701493, 0.8022388059701493, 0.8059701492537313, 0.8097014925373134, 0.7910447761194029, 0.7985074626865671, 0.7910447761194029, 0.7947761194029851, 0.8097014925373134, 0.7947761194029851, 0.7947761194029851, 0.7985074626865671, 0.7947761194029851, 0.8097014925373134, 0.7985074626865671, 0.8022388059701493, 0.7910447761194029, 0.7910447761194029, 0.7910447761194029, 0.8059701492537313, 0.7985074626865671, 0.7910447761194029, 0.8097014925373134, 0.7985074626865671, 0.8097014925373134, 0.8022388059701493, 0.7985074626865671, 0.7910447761194029, 0.8022388059701493, 0.7947761194029851, 0.7947761194029851, 0.8022388059701493, 0.8059701492537313, 0.7985074626865671, 0.8059701492537313, 0.7985074626865671, 0.7985074626865671, 0.7873134328358209, 0.7947761194029851, 0.8022388059701493, 0.7985074626865671, 0.7985074626865671, 0.8022388059701493, 0.8059701492537313, 0.7985074626865671, 0.8059701492537313, 0.7985074626865671, 0.7947761194029851, 0.8097014925373134, 0.7910447761194029, 0.7985074626865671, 0.7947761194029851, 0.8022388059701493, 0.8097014925373134, 0.7985074626865671, 0.8022388059701493, 0.7985074626865671, 0.7947761194029851, 0.8022388059701493, 0.8059701492537313, 0.7985074626865671, 0.8022388059701493, 0.8022388059701493, 0.7910447761194029, 0.7947761194029851, 0.8022388059701493, 0.8022388059701493, 0.7873134328358209, 0.7947761194029851, 0.8059701492537313, 0.7947761194029851, 0.7947761194029851, 0.7985074626865671]\n",
            "Score平均値=:0.7993656716417911\n"
          ]
        }
      ]
    },
    {
      "cell_type": "markdown",
      "source": [
        "### ランダムフォレスト-グリッドサーチ"
      ],
      "metadata": {
        "id": "L0e-YnHDbmJs"
      }
    },
    {
      "cell_type": "code",
      "execution_count": null,
      "metadata": {
        "id": "DK0Tn0QxEiEr",
        "colab": {
          "base_uri": "https://localhost:8080/"
        },
        "outputId": "71f34c97-849d-406b-8e93-6d66365ee326"
      },
      "outputs": [
        {
          "output_type": "stream",
          "name": "stdout",
          "text": [
            "ベストスコア：0.8271483271608814\n",
            "最適なパラメータ：RandomForestClassifier(max_depth=5, max_features='log2', n_estimators=10,\n",
            "                       random_state=1234)\n"
          ]
        }
      ],
      "source": [
        "from sklearn.model_selection import GridSearchCV\n",
        "\n",
        "param = {\"n_estimators\": [10, 100, 200, 300,400],\n",
        "         \"max_depth\": [5, 10, 50, None],\n",
        "         \"max_features\": [\"sqrt\", \"log2\", None]}\n",
        "\n",
        "GS_rf=GridSearchCV(estimator=RandomForestClassifier(random_state=1234),param_grid=param)\n",
        "GS_rf.fit(x,y)\n",
        "\n",
        "print(\"ベストスコア：{}\".format(GS_rf.best_score_))\n",
        "print(\"最適なパラメータ：{}\".format(GS_rf.best_estimator_))"
      ]
    },
    {
      "cell_type": "markdown",
      "source": [
        "## XGBoost"
      ],
      "metadata": {
        "id": "MWcIOd9OZONa"
      }
    },
    {
      "cell_type": "code",
      "source": [
        "x=train[train.columns[1:]].astype(int)\n",
        "y=train[train.columns[0]].astype(int)"
      ],
      "metadata": {
        "id": "T8zT9fOWZN-o"
      },
      "execution_count": null,
      "outputs": []
    },
    {
      "cell_type": "code",
      "source": [
        "test"
      ],
      "metadata": {
        "colab": {
          "base_uri": "https://localhost:8080/",
          "height": 424
        },
        "id": "vs_52zsz_CHp",
        "outputId": "e9f28045-8791-424e-9d3e-f78e55013cea"
      },
      "execution_count": null,
      "outputs": [
        {
          "output_type": "execute_result",
          "data": {
            "text/plain": [
              "     Pclass Sex  SibSp  Parch Embarked Title Age_band Fare_band\n",
              "0         3   1      0      0        2     0        2         0\n",
              "1         3   0      1      0        0     2        3         0\n",
              "2         2   1      0      0        2     0        4         1\n",
              "3         3   1      0      0        0     0        1         1\n",
              "4         3   0      1      1        0     2        1         1\n",
              "..      ...  ..    ...    ...      ...   ...      ...       ...\n",
              "413       3   1      0      0        0     0        2         1\n",
              "414       1   0      0      0        1     4        3         4\n",
              "415       3   1      0      0        0     0        3         0\n",
              "416       3   1      0      0        0     0        2         1\n",
              "417       3   1      1      1        1     3        0         2\n",
              "\n",
              "[418 rows x 8 columns]"
            ],
            "text/html": [
              "\n",
              "  <div id=\"df-eb484fc2-000d-4532-bb76-32b6314adb47\">\n",
              "    <div class=\"colab-df-container\">\n",
              "      <div>\n",
              "<style scoped>\n",
              "    .dataframe tbody tr th:only-of-type {\n",
              "        vertical-align: middle;\n",
              "    }\n",
              "\n",
              "    .dataframe tbody tr th {\n",
              "        vertical-align: top;\n",
              "    }\n",
              "\n",
              "    .dataframe thead th {\n",
              "        text-align: right;\n",
              "    }\n",
              "</style>\n",
              "<table border=\"1\" class=\"dataframe\">\n",
              "  <thead>\n",
              "    <tr style=\"text-align: right;\">\n",
              "      <th></th>\n",
              "      <th>Pclass</th>\n",
              "      <th>Sex</th>\n",
              "      <th>SibSp</th>\n",
              "      <th>Parch</th>\n",
              "      <th>Embarked</th>\n",
              "      <th>Title</th>\n",
              "      <th>Age_band</th>\n",
              "      <th>Fare_band</th>\n",
              "    </tr>\n",
              "  </thead>\n",
              "  <tbody>\n",
              "    <tr>\n",
              "      <th>0</th>\n",
              "      <td>3</td>\n",
              "      <td>1</td>\n",
              "      <td>0</td>\n",
              "      <td>0</td>\n",
              "      <td>2</td>\n",
              "      <td>0</td>\n",
              "      <td>2</td>\n",
              "      <td>0</td>\n",
              "    </tr>\n",
              "    <tr>\n",
              "      <th>1</th>\n",
              "      <td>3</td>\n",
              "      <td>0</td>\n",
              "      <td>1</td>\n",
              "      <td>0</td>\n",
              "      <td>0</td>\n",
              "      <td>2</td>\n",
              "      <td>3</td>\n",
              "      <td>0</td>\n",
              "    </tr>\n",
              "    <tr>\n",
              "      <th>2</th>\n",
              "      <td>2</td>\n",
              "      <td>1</td>\n",
              "      <td>0</td>\n",
              "      <td>0</td>\n",
              "      <td>2</td>\n",
              "      <td>0</td>\n",
              "      <td>4</td>\n",
              "      <td>1</td>\n",
              "    </tr>\n",
              "    <tr>\n",
              "      <th>3</th>\n",
              "      <td>3</td>\n",
              "      <td>1</td>\n",
              "      <td>0</td>\n",
              "      <td>0</td>\n",
              "      <td>0</td>\n",
              "      <td>0</td>\n",
              "      <td>1</td>\n",
              "      <td>1</td>\n",
              "    </tr>\n",
              "    <tr>\n",
              "      <th>4</th>\n",
              "      <td>3</td>\n",
              "      <td>0</td>\n",
              "      <td>1</td>\n",
              "      <td>1</td>\n",
              "      <td>0</td>\n",
              "      <td>2</td>\n",
              "      <td>1</td>\n",
              "      <td>1</td>\n",
              "    </tr>\n",
              "    <tr>\n",
              "      <th>...</th>\n",
              "      <td>...</td>\n",
              "      <td>...</td>\n",
              "      <td>...</td>\n",
              "      <td>...</td>\n",
              "      <td>...</td>\n",
              "      <td>...</td>\n",
              "      <td>...</td>\n",
              "      <td>...</td>\n",
              "    </tr>\n",
              "    <tr>\n",
              "      <th>413</th>\n",
              "      <td>3</td>\n",
              "      <td>1</td>\n",
              "      <td>0</td>\n",
              "      <td>0</td>\n",
              "      <td>0</td>\n",
              "      <td>0</td>\n",
              "      <td>2</td>\n",
              "      <td>1</td>\n",
              "    </tr>\n",
              "    <tr>\n",
              "      <th>414</th>\n",
              "      <td>1</td>\n",
              "      <td>0</td>\n",
              "      <td>0</td>\n",
              "      <td>0</td>\n",
              "      <td>1</td>\n",
              "      <td>4</td>\n",
              "      <td>3</td>\n",
              "      <td>4</td>\n",
              "    </tr>\n",
              "    <tr>\n",
              "      <th>415</th>\n",
              "      <td>3</td>\n",
              "      <td>1</td>\n",
              "      <td>0</td>\n",
              "      <td>0</td>\n",
              "      <td>0</td>\n",
              "      <td>0</td>\n",
              "      <td>3</td>\n",
              "      <td>0</td>\n",
              "    </tr>\n",
              "    <tr>\n",
              "      <th>416</th>\n",
              "      <td>3</td>\n",
              "      <td>1</td>\n",
              "      <td>0</td>\n",
              "      <td>0</td>\n",
              "      <td>0</td>\n",
              "      <td>0</td>\n",
              "      <td>2</td>\n",
              "      <td>1</td>\n",
              "    </tr>\n",
              "    <tr>\n",
              "      <th>417</th>\n",
              "      <td>3</td>\n",
              "      <td>1</td>\n",
              "      <td>1</td>\n",
              "      <td>1</td>\n",
              "      <td>1</td>\n",
              "      <td>3</td>\n",
              "      <td>0</td>\n",
              "      <td>2</td>\n",
              "    </tr>\n",
              "  </tbody>\n",
              "</table>\n",
              "<p>418 rows × 8 columns</p>\n",
              "</div>\n",
              "      <button class=\"colab-df-convert\" onclick=\"convertToInteractive('df-eb484fc2-000d-4532-bb76-32b6314adb47')\"\n",
              "              title=\"Convert this dataframe to an interactive table.\"\n",
              "              style=\"display:none;\">\n",
              "        \n",
              "  <svg xmlns=\"http://www.w3.org/2000/svg\" height=\"24px\"viewBox=\"0 0 24 24\"\n",
              "       width=\"24px\">\n",
              "    <path d=\"M0 0h24v24H0V0z\" fill=\"none\"/>\n",
              "    <path d=\"M18.56 5.44l.94 2.06.94-2.06 2.06-.94-2.06-.94-.94-2.06-.94 2.06-2.06.94zm-11 1L8.5 8.5l.94-2.06 2.06-.94-2.06-.94L8.5 2.5l-.94 2.06-2.06.94zm10 10l.94 2.06.94-2.06 2.06-.94-2.06-.94-.94-2.06-.94 2.06-2.06.94z\"/><path d=\"M17.41 7.96l-1.37-1.37c-.4-.4-.92-.59-1.43-.59-.52 0-1.04.2-1.43.59L10.3 9.45l-7.72 7.72c-.78.78-.78 2.05 0 2.83L4 21.41c.39.39.9.59 1.41.59.51 0 1.02-.2 1.41-.59l7.78-7.78 2.81-2.81c.8-.78.8-2.07 0-2.86zM5.41 20L4 18.59l7.72-7.72 1.47 1.35L5.41 20z\"/>\n",
              "  </svg>\n",
              "      </button>\n",
              "      \n",
              "  <style>\n",
              "    .colab-df-container {\n",
              "      display:flex;\n",
              "      flex-wrap:wrap;\n",
              "      gap: 12px;\n",
              "    }\n",
              "\n",
              "    .colab-df-convert {\n",
              "      background-color: #E8F0FE;\n",
              "      border: none;\n",
              "      border-radius: 50%;\n",
              "      cursor: pointer;\n",
              "      display: none;\n",
              "      fill: #1967D2;\n",
              "      height: 32px;\n",
              "      padding: 0 0 0 0;\n",
              "      width: 32px;\n",
              "    }\n",
              "\n",
              "    .colab-df-convert:hover {\n",
              "      background-color: #E2EBFA;\n",
              "      box-shadow: 0px 1px 2px rgba(60, 64, 67, 0.3), 0px 1px 3px 1px rgba(60, 64, 67, 0.15);\n",
              "      fill: #174EA6;\n",
              "    }\n",
              "\n",
              "    [theme=dark] .colab-df-convert {\n",
              "      background-color: #3B4455;\n",
              "      fill: #D2E3FC;\n",
              "    }\n",
              "\n",
              "    [theme=dark] .colab-df-convert:hover {\n",
              "      background-color: #434B5C;\n",
              "      box-shadow: 0px 1px 3px 1px rgba(0, 0, 0, 0.15);\n",
              "      filter: drop-shadow(0px 1px 2px rgba(0, 0, 0, 0.3));\n",
              "      fill: #FFFFFF;\n",
              "    }\n",
              "  </style>\n",
              "\n",
              "      <script>\n",
              "        const buttonEl =\n",
              "          document.querySelector('#df-eb484fc2-000d-4532-bb76-32b6314adb47 button.colab-df-convert');\n",
              "        buttonEl.style.display =\n",
              "          google.colab.kernel.accessAllowed ? 'block' : 'none';\n",
              "\n",
              "        async function convertToInteractive(key) {\n",
              "          const element = document.querySelector('#df-eb484fc2-000d-4532-bb76-32b6314adb47');\n",
              "          const dataTable =\n",
              "            await google.colab.kernel.invokeFunction('convertToInteractive',\n",
              "                                                     [key], {});\n",
              "          if (!dataTable) return;\n",
              "\n",
              "          const docLinkHtml = 'Like what you see? Visit the ' +\n",
              "            '<a target=\"_blank\" href=https://colab.research.google.com/notebooks/data_table.ipynb>data table notebook</a>'\n",
              "            + ' to learn more about interactive tables.';\n",
              "          element.innerHTML = '';\n",
              "          dataTable['output_type'] = 'display_data';\n",
              "          await google.colab.output.renderOutput(dataTable, element);\n",
              "          const docLink = document.createElement('div');\n",
              "          docLink.innerHTML = docLinkHtml;\n",
              "          element.appendChild(docLink);\n",
              "        }\n",
              "      </script>\n",
              "    </div>\n",
              "  </div>\n",
              "  "
            ]
          },
          "metadata": {},
          "execution_count": 194
        }
      ]
    },
    {
      "cell_type": "markdown",
      "source": [
        "###XGBoost-グリッドサーチ"
      ],
      "metadata": {
        "id": "MzkDvUehEd6e"
      }
    },
    {
      "cell_type": "code",
      "source": [
        "from xgboost import XGBClassifier\n",
        "from sklearn import metrics\n",
        "\n",
        "param = {'n_estimators': [10, 100, 200, 300,400],\n",
        "         'learning_rate':[0.1,0.2,0.3,0.4,0.5,0.6,1.0],\n",
        "         'max_depth': [5, 10, 50] }\n",
        "\n",
        "from sklearn.model_selection import GridSearchCV\n",
        "\n",
        "xgb_tree = XGBClassifier(random_state=1234)\n",
        "gs_cv = GridSearchCV(xgb_tree, param_grid=param, cv=5, scoring='accuracy', verbose=1)\n",
        "gs_cv.fit(x,y)\n",
        "\n",
        "gs_cv.best_params_\n",
        "print(\"ベストスコア:{}\".format(gs_cv.best_score_))\n",
        "print(\"最適なパラメータ:{}\".format(gs_cv.best_estimator_))"
      ],
      "metadata": {
        "colab": {
          "base_uri": "https://localhost:8080/"
        },
        "id": "1S-SSz4NZNvC",
        "outputId": "70fc1f68-af25-42f5-c59f-7b0cedcb5f93"
      },
      "execution_count": null,
      "outputs": [
        {
          "output_type": "stream",
          "name": "stdout",
          "text": [
            "Fitting 5 folds for each of 105 candidates, totalling 525 fits\n",
            "ベストスコア:0.8283158621555458\n",
            "最適なパラメータ:XGBClassifier(learning_rate=0.6, max_depth=10, n_estimators=10,\n",
            "              random_state=1234)\n"
          ]
        }
      ]
    },
    {
      "cell_type": "code",
      "source": [
        "\n",
        "!pip install optuna\n",
        "import optuna\n",
        "\n",
        "from xgboost import XGBClassifier\n",
        "from sklearn import metrics\n",
        "\n",
        "from sklearn.model_selection import KFold, cross_val_score\n",
        "from sklearn.model_selection import cross_validate, StratifiedKFold\n",
        "\n",
        "def objective(trial):\n",
        "    \n",
        "    param_grid_xgb = {\n",
        "        'n_estimators':trial.suggest_int(\"n_estimators\",10,400) ,\n",
        "        'learning_rate':trial.suggest_float(\"learning_rate\",0.1,1.0) ,\n",
        "#        'min_child_weight': trial.suggest_int(\"min_child_weight\", 1, 5),\n",
        "#        'gamma': trial.suggest_discrete_uniform(\"gamma\", 0.1, 1.0, 0.1),\n",
        "#        'subsample': trial.suggest_discrete_uniform(\"subsample\", 0.5, 1.0, 0.1),\n",
        "#        'colsample_bytree': trial.suggest_discrete_uniform(\"colsample_bytree\", 0.5, 1.0, 0.1),\n",
        "        'max_depth': trial.suggest_int(\"max_depth\", 3,10),\n",
        "        \"random_state\": 1234\n",
        "    }\n",
        "\n",
        "    model = XGBClassifier(**param_grid_xgb)\n",
        "    \n",
        "    kf = StratifiedKFold(n_splits=5, shuffle=True, random_state=1234)\n",
        "    scores = cross_validate(model, x, y, cv=kf)\n",
        "\n",
        "    return scores['test_score'].mean()\n",
        "\n",
        "study = optuna.create_study(direction='maximize')\n",
        "study.optimize(objective, n_trials=100) \n",
        "print(study.best_params)\n",
        "print(study.best_value)\n",
        "xgb_best_param = study.best_params"
      ],
      "metadata": {
        "colab": {
          "base_uri": "https://localhost:8080/"
        },
        "id": "gH1u0YZOypwD",
        "outputId": "88118bfe-7248-4775-fd8c-44d1c953f117"
      },
      "execution_count": null,
      "outputs": [
        {
          "output_type": "stream",
          "name": "stdout",
          "text": [
            "Looking in indexes: https://pypi.org/simple, https://us-python.pkg.dev/colab-wheels/public/simple/\n",
            "Requirement already satisfied: optuna in /usr/local/lib/python3.7/dist-packages (2.10.1)\n",
            "Requirement already satisfied: cmaes>=0.8.2 in /usr/local/lib/python3.7/dist-packages (from optuna) (0.8.2)\n",
            "Requirement already satisfied: scipy!=1.4.0 in /usr/local/lib/python3.7/dist-packages (from optuna) (1.7.3)\n",
            "Requirement already satisfied: alembic in /usr/local/lib/python3.7/dist-packages (from optuna) (1.8.1)\n",
            "Requirement already satisfied: PyYAML in /usr/local/lib/python3.7/dist-packages (from optuna) (3.13)\n",
            "Requirement already satisfied: numpy in /usr/local/lib/python3.7/dist-packages (from optuna) (1.21.6)\n",
            "Requirement already satisfied: sqlalchemy>=1.1.0 in /usr/local/lib/python3.7/dist-packages (from optuna) (1.4.39)\n",
            "Requirement already satisfied: packaging>=20.0 in /usr/local/lib/python3.7/dist-packages (from optuna) (21.3)\n",
            "Requirement already satisfied: cliff in /usr/local/lib/python3.7/dist-packages (from optuna) (3.10.1)\n",
            "Requirement already satisfied: tqdm in /usr/local/lib/python3.7/dist-packages (from optuna) (4.64.0)\n",
            "Requirement already satisfied: colorlog in /usr/local/lib/python3.7/dist-packages (from optuna) (6.6.0)\n",
            "Requirement already satisfied: pyparsing!=3.0.5,>=2.0.2 in /usr/local/lib/python3.7/dist-packages (from packaging>=20.0->optuna) (3.0.9)\n",
            "Requirement already satisfied: importlib-metadata in /usr/local/lib/python3.7/dist-packages (from sqlalchemy>=1.1.0->optuna) (4.12.0)\n",
            "Requirement already satisfied: greenlet!=0.4.17 in /usr/local/lib/python3.7/dist-packages (from sqlalchemy>=1.1.0->optuna) (1.1.2)\n",
            "Requirement already satisfied: Mako in /usr/local/lib/python3.7/dist-packages (from alembic->optuna) (1.2.1)\n",
            "Requirement already satisfied: importlib-resources in /usr/local/lib/python3.7/dist-packages (from alembic->optuna) (5.9.0)\n",
            "Requirement already satisfied: pbr!=2.1.0,>=2.0.0 in /usr/local/lib/python3.7/dist-packages (from cliff->optuna) (5.9.0)\n",
            "Requirement already satisfied: stevedore>=2.0.1 in /usr/local/lib/python3.7/dist-packages (from cliff->optuna) (3.5.0)\n",
            "Requirement already satisfied: autopage>=0.4.0 in /usr/local/lib/python3.7/dist-packages (from cliff->optuna) (0.5.1)\n",
            "Requirement already satisfied: PrettyTable>=0.7.2 in /usr/local/lib/python3.7/dist-packages (from cliff->optuna) (3.3.0)\n",
            "Requirement already satisfied: cmd2>=1.0.0 in /usr/local/lib/python3.7/dist-packages (from cliff->optuna) (2.4.2)\n",
            "Requirement already satisfied: pyperclip>=1.6 in /usr/local/lib/python3.7/dist-packages (from cmd2>=1.0.0->cliff->optuna) (1.8.2)\n",
            "Requirement already satisfied: typing-extensions in /usr/local/lib/python3.7/dist-packages (from cmd2>=1.0.0->cliff->optuna) (4.1.1)\n",
            "Requirement already satisfied: attrs>=16.3.0 in /usr/local/lib/python3.7/dist-packages (from cmd2>=1.0.0->cliff->optuna) (22.1.0)\n",
            "Requirement already satisfied: wcwidth>=0.1.7 in /usr/local/lib/python3.7/dist-packages (from cmd2>=1.0.0->cliff->optuna) (0.2.5)\n",
            "Requirement already satisfied: zipp>=0.5 in /usr/local/lib/python3.7/dist-packages (from importlib-metadata->sqlalchemy>=1.1.0->optuna) (3.8.1)\n",
            "Requirement already satisfied: MarkupSafe>=0.9.2 in /usr/local/lib/python3.7/dist-packages (from Mako->alembic->optuna) (2.0.1)\n"
          ]
        },
        {
          "output_type": "stream",
          "name": "stderr",
          "text": [
            "\u001b[32m[I 2022-08-04 09:31:24,364]\u001b[0m A new study created in memory with name: no-name-6c1f59c9-c4ab-438f-b3ae-0ddb4f9b812b\u001b[0m\n",
            "\u001b[32m[I 2022-08-04 09:31:24,947]\u001b[0m Trial 0 finished with value: 0.8047203565375682 and parameters: {'n_estimators': 111, 'learning_rate': 0.2703953033031535, 'max_depth': 9}. Best is trial 0 with value: 0.8047203565375682.\u001b[0m\n",
            "\u001b[32m[I 2022-08-04 09:31:25,310]\u001b[0m Trial 1 finished with value: 0.8058439520431863 and parameters: {'n_estimators': 99, 'learning_rate': 0.8365071468695758, 'max_depth': 6}. Best is trial 1 with value: 0.8058439520431863.\u001b[0m\n",
            "\u001b[32m[I 2022-08-04 09:31:26,807]\u001b[0m Trial 2 finished with value: 0.8035967610319503 and parameters: {'n_estimators': 338, 'learning_rate': 0.9042764745126122, 'max_depth': 9}. Best is trial 1 with value: 0.8058439520431863.\u001b[0m\n",
            "\u001b[32m[I 2022-08-04 09:31:27,035]\u001b[0m Trial 3 finished with value: 0.826062394074446 and parameters: {'n_estimators': 63, 'learning_rate': 0.15055858103307554, 'max_depth': 5}. Best is trial 3 with value: 0.826062394074446.\u001b[0m\n",
            "\u001b[32m[I 2022-08-04 09:31:27,855]\u001b[0m Trial 4 finished with value: 0.8024794425961961 and parameters: {'n_estimators': 212, 'learning_rate': 0.8123735883231332, 'max_depth': 7}. Best is trial 3 with value: 0.826062394074446.\u001b[0m\n",
            "\u001b[32m[I 2022-08-04 09:31:28,961]\u001b[0m Trial 5 finished with value: 0.8002322515849603 and parameters: {'n_estimators': 331, 'learning_rate': 0.9256803565379533, 'max_depth': 6}. Best is trial 3 with value: 0.826062394074446.\u001b[0m\n",
            "\u001b[32m[I 2022-08-04 09:31:30,528]\u001b[0m Trial 6 finished with value: 0.8092210156299041 and parameters: {'n_estimators': 365, 'learning_rate': 0.1159974347072219, 'max_depth': 8}. Best is trial 3 with value: 0.826062394074446.\u001b[0m\n",
            "\u001b[32m[I 2022-08-04 09:31:31,103]\u001b[0m Trial 7 finished with value: 0.8182035026049839 and parameters: {'n_estimators': 321, 'learning_rate': 0.11670863708510122, 'max_depth': 3}. Best is trial 3 with value: 0.826062394074446.\u001b[0m\n",
            "\u001b[32m[I 2022-08-04 09:31:31,288]\u001b[0m Trial 8 finished with value: 0.8271922666499277 and parameters: {'n_estimators': 65, 'learning_rate': 0.1826902540023384, 'max_depth': 4}. Best is trial 8 with value: 0.8271922666499277.\u001b[0m\n",
            "\u001b[32m[I 2022-08-04 09:31:31,928]\u001b[0m Trial 9 finished with value: 0.8136902893729208 and parameters: {'n_estimators': 365, 'learning_rate': 0.3042779996612418, 'max_depth': 3}. Best is trial 8 with value: 0.8271922666499277.\u001b[0m\n",
            "\u001b[32m[I 2022-08-04 09:31:32,032]\u001b[0m Trial 10 finished with value: 0.8282970309459545 and parameters: {'n_estimators': 19, 'learning_rate': 0.5629126019509265, 'max_depth': 4}. Best is trial 10 with value: 0.8282970309459545.\u001b[0m\n",
            "\u001b[32m[I 2022-08-04 09:31:32,145]\u001b[0m Trial 11 finished with value: 0.8249450756386919 and parameters: {'n_estimators': 18, 'learning_rate': 0.5667146871259598, 'max_depth': 4}. Best is trial 10 with value: 0.8282970309459545.\u001b[0m\n",
            "\u001b[32m[I 2022-08-04 09:31:32,246]\u001b[0m Trial 12 finished with value: 0.8260686711443098 and parameters: {'n_estimators': 16, 'learning_rate': 0.5561100041693557, 'max_depth': 4}. Best is trial 10 with value: 0.8282970309459545.\u001b[0m\n",
            "\u001b[32m[I 2022-08-04 09:31:32,706]\u001b[0m Trial 13 finished with value: 0.8058376749733226 and parameters: {'n_estimators': 153, 'learning_rate': 0.6825698892415917, 'max_depth': 5}. Best is trial 10 with value: 0.8282970309459545.\u001b[0m\n",
            "\u001b[32m[I 2022-08-04 09:31:33,248]\u001b[0m Trial 14 finished with value: 0.8137028435126483 and parameters: {'n_estimators': 223, 'learning_rate': 0.40475715709341736, 'max_depth': 4}. Best is trial 10 with value: 0.8282970309459545.\u001b[0m\n",
            "\u001b[32m[I 2022-08-04 09:31:33,720]\u001b[0m Trial 15 finished with value: 0.8080848659845584 and parameters: {'n_estimators': 157, 'learning_rate': 0.4030745672216808, 'max_depth': 5}. Best is trial 10 with value: 0.8282970309459545.\u001b[0m\n",
            "\u001b[32m[I 2022-08-04 09:31:33,882]\u001b[0m Trial 16 finished with value: 0.8181909484652564 and parameters: {'n_estimators': 59, 'learning_rate': 0.7017117594615381, 'max_depth': 3}. Best is trial 10 with value: 0.8282970309459545.\u001b[0m\n",
            "\u001b[32m[I 2022-08-04 09:31:34,336]\u001b[0m Trial 17 finished with value: 0.811461929571276 and parameters: {'n_estimators': 68, 'learning_rate': 0.4344872435550426, 'max_depth': 7}. Best is trial 10 with value: 0.8282970309459545.\u001b[0m\n",
            "\u001b[32m[I 2022-08-04 09:31:35,242]\u001b[0m Trial 18 finished with value: 0.8047140794677045 and parameters: {'n_estimators': 258, 'learning_rate': 0.6648455310206719, 'max_depth': 4}. Best is trial 10 with value: 0.8282970309459545.\u001b[0m\n",
            "\u001b[32m[I 2022-08-04 09:31:36,484]\u001b[0m Trial 19 finished with value: 0.8092210156299039 and parameters: {'n_estimators': 152, 'learning_rate': 0.2579986625307308, 'max_depth': 10}. Best is trial 10 with value: 0.8282970309459545.\u001b[0m\n",
            "\u001b[32m[I 2022-08-04 09:31:37,055]\u001b[0m Trial 20 finished with value: 0.8136965664427844 and parameters: {'n_estimators': 113, 'learning_rate': 0.4773775065784135, 'max_depth': 5}. Best is trial 10 with value: 0.8282970309459545.\u001b[0m\n",
            "\u001b[32m[I 2022-08-04 09:31:37,198]\u001b[0m Trial 21 finished with value: 0.8249325214989642 and parameters: {'n_estimators': 13, 'learning_rate': 0.5824736108777779, 'max_depth': 4}. Best is trial 10 with value: 0.8282970309459545.\u001b[0m\n",
            "\u001b[32m[I 2022-08-04 09:31:37,422]\u001b[0m Trial 22 finished with value: 0.8215742891218379 and parameters: {'n_estimators': 43, 'learning_rate': 0.5197968106129536, 'max_depth': 3}. Best is trial 10 with value: 0.8282970309459545.\u001b[0m\n",
            "\u001b[32m[I 2022-08-04 09:31:37,560]\u001b[0m Trial 23 finished with value: 0.8294331805913 and parameters: {'n_estimators': 11, 'learning_rate': 0.6100739888459237, 'max_depth': 4}. Best is trial 23 with value: 0.8294331805913.\u001b[0m\n",
            "\u001b[32m[I 2022-08-04 09:31:38,143]\u001b[0m Trial 24 finished with value: 0.8080848659845584 and parameters: {'n_estimators': 92, 'learning_rate': 0.7648533869188895, 'max_depth': 6}. Best is trial 23 with value: 0.8294331805913.\u001b[0m\n",
            "\u001b[32m[I 2022-08-04 09:31:38,459]\u001b[0m Trial 25 finished with value: 0.821568012051974 and parameters: {'n_estimators': 46, 'learning_rate': 0.6188036270923303, 'max_depth': 5}. Best is trial 23 with value: 0.8294331805913.\u001b[0m\n",
            "\u001b[32m[I 2022-08-04 09:31:38,958]\u001b[0m Trial 26 finished with value: 0.8148264390182662 and parameters: {'n_estimators': 136, 'learning_rate': 0.3399123298468892, 'max_depth': 4}. Best is trial 23 with value: 0.8294331805913.\u001b[0m\n",
            "\u001b[32m[I 2022-08-04 09:31:39,153]\u001b[0m Trial 27 finished with value: 0.8215617349821102 and parameters: {'n_estimators': 78, 'learning_rate': 0.20774206829138953, 'max_depth': 3}. Best is trial 23 with value: 0.8294331805913.\u001b[0m\n",
            "\u001b[32m[I 2022-08-04 09:31:39,332]\u001b[0m Trial 28 finished with value: 0.8170799070993662 and parameters: {'n_estimators': 33, 'learning_rate': 0.4839536016225431, 'max_depth': 6}. Best is trial 23 with value: 0.8294331805913.\u001b[0m\n",
            "\u001b[32m[I 2022-08-04 09:31:39,720]\u001b[0m Trial 29 finished with value: 0.8159500345238841 and parameters: {'n_estimators': 126, 'learning_rate': 0.3547581145775788, 'max_depth': 5}. Best is trial 23 with value: 0.8294331805913.\u001b[0m\n",
            "\u001b[32m[I 2022-08-04 09:31:40,446]\u001b[0m Trial 30 finished with value: 0.8013558470905782 and parameters: {'n_estimators': 176, 'learning_rate': 0.7297122668727615, 'max_depth': 7}. Best is trial 23 with value: 0.8294331805913.\u001b[0m\n",
            "\u001b[32m[I 2022-08-04 09:31:40,529]\u001b[0m Trial 31 finished with value: 0.8294331805913 and parameters: {'n_estimators': 11, 'learning_rate': 0.6112293923042367, 'max_depth': 4}. Best is trial 23 with value: 0.8294331805913.\u001b[0m\n",
            "\u001b[32m[I 2022-08-04 09:31:40,614]\u001b[0m Trial 32 finished with value: 0.8294331805913 and parameters: {'n_estimators': 11, 'learning_rate': 0.6120357964352754, 'max_depth': 4}. Best is trial 23 with value: 0.8294331805913.\u001b[0m\n",
            "\u001b[32m[I 2022-08-04 09:31:40,731]\u001b[0m Trial 33 finished with value: 0.827185989580064 and parameters: {'n_estimators': 36, 'learning_rate': 0.6200041876137523, 'max_depth': 3}. Best is trial 23 with value: 0.8294331805913.\u001b[0m\n",
            "\u001b[32m[I 2022-08-04 09:31:40,813]\u001b[0m Trial 34 finished with value: 0.8305442219571905 and parameters: {'n_estimators': 10, 'learning_rate': 0.6291332040301717, 'max_depth': 4}. Best is trial 34 with value: 0.8305442219571905.\u001b[0m\n",
            "\u001b[32m[I 2022-08-04 09:31:41,091]\u001b[0m Trial 35 finished with value: 0.8114493754315486 and parameters: {'n_estimators': 82, 'learning_rate': 0.6323150166411683, 'max_depth': 5}. Best is trial 34 with value: 0.8305442219571905.\u001b[0m\n",
            "\u001b[32m[I 2022-08-04 09:31:41,470]\u001b[0m Trial 36 finished with value: 0.8047266336074321 and parameters: {'n_estimators': 99, 'learning_rate': 0.864250396953451, 'max_depth': 6}. Best is trial 34 with value: 0.8305442219571905.\u001b[0m\n",
            "\u001b[32m[I 2022-08-04 09:31:41,712]\u001b[0m Trial 37 finished with value: 0.811461929571276 and parameters: {'n_estimators': 43, 'learning_rate': 0.785283824343459, 'max_depth': 8}. Best is trial 34 with value: 0.8305442219571905.\u001b[0m\n",
            "\u001b[32m[I 2022-08-04 09:31:41,803]\u001b[0m Trial 38 finished with value: 0.8238152030632101 and parameters: {'n_estimators': 11, 'learning_rate': 0.5152619161951173, 'max_depth': 5}. Best is trial 34 with value: 0.8305442219571905.\u001b[0m\n",
            "\u001b[32m[I 2022-08-04 09:31:42,312]\u001b[0m Trial 39 finished with value: 0.8069612704789403 and parameters: {'n_estimators': 268, 'learning_rate': 0.9972426889490142, 'max_depth': 3}. Best is trial 34 with value: 0.8305442219571905.\u001b[0m\n",
            "\u001b[32m[I 2022-08-04 09:31:42,502]\u001b[0m Trial 40 finished with value: 0.8193082669010107 and parameters: {'n_estimators': 57, 'learning_rate': 0.6219892465423159, 'max_depth': 4}. Best is trial 34 with value: 0.8305442219571905.\u001b[0m\n",
            "\u001b[32m[I 2022-08-04 09:31:42,627]\u001b[0m Trial 41 finished with value: 0.8260498399347185 and parameters: {'n_estimators': 29, 'learning_rate': 0.719155769501665, 'max_depth': 4}. Best is trial 34 with value: 0.8305442219571905.\u001b[0m\n",
            "\u001b[32m[I 2022-08-04 09:31:42,746]\u001b[0m Trial 42 finished with value: 0.8282970309459545 and parameters: {'n_estimators': 26, 'learning_rate': 0.5845819807130204, 'max_depth': 4}. Best is trial 34 with value: 0.8305442219571905.\u001b[0m\n",
            "\u001b[32m[I 2022-08-04 09:31:42,896]\u001b[0m Trial 43 finished with value: 0.8193019898311468 and parameters: {'n_estimators': 52, 'learning_rate': 0.6666323449313832, 'max_depth': 3}. Best is trial 34 with value: 0.8305442219571905.\u001b[0m\n",
            "\u001b[32m[I 2022-08-04 09:31:42,982]\u001b[0m Trial 44 finished with value: 0.8361559224154164 and parameters: {'n_estimators': 11, 'learning_rate': 0.5888445873794051, 'max_depth': 4}. Best is trial 44 with value: 0.8361559224154164.\u001b[0m\n",
            "\u001b[32m[I 2022-08-04 09:31:43,085]\u001b[0m Trial 45 finished with value: 0.827185989580064 and parameters: {'n_estimators': 10, 'learning_rate': 0.5351277701973566, 'max_depth': 5}. Best is trial 44 with value: 0.8361559224154164.\u001b[0m\n",
            "\u001b[32m[I 2022-08-04 09:31:43,316]\u001b[0m Trial 46 finished with value: 0.8181909484652564 and parameters: {'n_estimators': 77, 'learning_rate': 0.4777971095526835, 'max_depth': 4}. Best is trial 44 with value: 0.8361559224154164.\u001b[0m\n",
            "\u001b[32m[I 2022-08-04 09:31:43,459]\u001b[0m Trial 47 finished with value: 0.8260435628648546 and parameters: {'n_estimators': 31, 'learning_rate': 0.7515341148796724, 'max_depth': 4}. Best is trial 44 with value: 0.8361559224154164.\u001b[0m\n",
            "\u001b[32m[I 2022-08-04 09:31:43,620]\u001b[0m Trial 48 finished with value: 0.8181972255351203 and parameters: {'n_estimators': 61, 'learning_rate': 0.8292287445085661, 'max_depth': 3}. Best is trial 44 with value: 0.8361559224154164.\u001b[0m\n",
            "\u001b[32m[I 2022-08-04 09:31:43,970]\u001b[0m Trial 49 finished with value: 0.8069612704789405 and parameters: {'n_estimators': 109, 'learning_rate': 0.655628921451005, 'max_depth': 5}. Best is trial 44 with value: 0.8361559224154164.\u001b[0m\n",
            "\u001b[32m[I 2022-08-04 09:31:44,123]\u001b[0m Trial 50 finished with value: 0.8215617349821104 and parameters: {'n_estimators': 27, 'learning_rate': 0.5945145652045887, 'max_depth': 6}. Best is trial 44 with value: 0.8361559224154164.\u001b[0m\n",
            "\u001b[32m[I 2022-08-04 09:31:44,244]\u001b[0m Trial 51 finished with value: 0.8226790534178645 and parameters: {'n_estimators': 28, 'learning_rate': 0.5915634730048385, 'max_depth': 4}. Best is trial 44 with value: 0.8361559224154164.\u001b[0m\n",
            "\u001b[32m[I 2022-08-04 09:31:44,330]\u001b[0m Trial 52 finished with value: 0.8305630531667818 and parameters: {'n_estimators': 10, 'learning_rate': 0.55296449640164, 'max_depth': 4}. Best is trial 44 with value: 0.8361559224154164.\u001b[0m\n",
            "\u001b[32m[I 2022-08-04 09:31:44,475]\u001b[0m Trial 53 finished with value: 0.8249387985688281 and parameters: {'n_estimators': 46, 'learning_rate': 0.6922368261768761, 'max_depth': 3}. Best is trial 44 with value: 0.8361559224154164.\u001b[0m\n",
            "\u001b[32m[I 2022-08-04 09:31:44,684]\u001b[0m Trial 54 finished with value: 0.8193082669010107 and parameters: {'n_estimators': 67, 'learning_rate': 0.5476216143969842, 'max_depth': 4}. Best is trial 44 with value: 0.8361559224154164.\u001b[0m\n",
            "\u001b[32m[I 2022-08-04 09:31:44,793]\u001b[0m Trial 55 finished with value: 0.8193145439708743 and parameters: {'n_estimators': 15, 'learning_rate': 0.4264977817545522, 'max_depth': 5}. Best is trial 44 with value: 0.8361559224154164.\u001b[0m\n",
            "\u001b[32m[I 2022-08-04 09:31:45,508]\u001b[0m Trial 56 finished with value: 0.8069549934090766 and parameters: {'n_estimators': 304, 'learning_rate': 0.5065334465379371, 'max_depth': 4}. Best is trial 44 with value: 0.8361559224154164.\u001b[0m\n",
            "\u001b[32m[I 2022-08-04 09:31:45,618]\u001b[0m Trial 57 finished with value: 0.8226790534178645 and parameters: {'n_estimators': 11, 'learning_rate': 0.6373518555025081, 'max_depth': 8}. Best is trial 44 with value: 0.8361559224154164.\u001b[0m\n",
            "\u001b[32m[I 2022-08-04 09:31:46,590]\u001b[0m Trial 58 finished with value: 0.8024794425961961 and parameters: {'n_estimators': 192, 'learning_rate': 0.4506746884528628, 'max_depth': 10}. Best is trial 44 with value: 0.8361559224154164.\u001b[0m\n",
            "\u001b[32m[I 2022-08-04 09:31:46,764]\u001b[0m Trial 59 finished with value: 0.8260372857949909 and parameters: {'n_estimators': 52, 'learning_rate': 0.5533541721877996, 'max_depth': 4}. Best is trial 44 with value: 0.8361559224154164.\u001b[0m\n",
            "\u001b[32m[I 2022-08-04 09:31:48,560]\u001b[0m Trial 60 finished with value: 0.8047266336074321 and parameters: {'n_estimators': 398, 'learning_rate': 0.706413232339216, 'max_depth': 9}. Best is trial 44 with value: 0.8361559224154164.\u001b[0m\n",
            "\u001b[32m[I 2022-08-04 09:31:48,677]\u001b[0m Trial 61 finished with value: 0.8238277572029377 and parameters: {'n_estimators': 26, 'learning_rate': 0.5848036712672038, 'max_depth': 4}. Best is trial 44 with value: 0.8361559224154164.\u001b[0m\n",
            "\u001b[32m[I 2022-08-04 09:31:48,826]\u001b[0m Trial 62 finished with value: 0.8249199673592367 and parameters: {'n_estimators': 41, 'learning_rate': 0.5972297662384607, 'max_depth': 4}. Best is trial 44 with value: 0.8361559224154164.\u001b[0m\n",
            "\u001b[32m[I 2022-08-04 09:31:48,923]\u001b[0m Trial 63 finished with value: 0.8294143493817085 and parameters: {'n_estimators': 20, 'learning_rate': 0.5573499704833701, 'max_depth': 3}. Best is trial 44 with value: 0.8361559224154164.\u001b[0m\n",
            "\u001b[32m[I 2022-08-04 09:31:49,029]\u001b[0m Trial 64 finished with value: 0.8249199673592367 and parameters: {'n_estimators': 22, 'learning_rate': 0.6656752710146795, 'max_depth': 3}. Best is trial 44 with value: 0.8361559224154164.\u001b[0m\n",
            "\u001b[32m[I 2022-08-04 09:31:49,108]\u001b[0m Trial 65 finished with value: 0.8294269035214361 and parameters: {'n_estimators': 10, 'learning_rate': 0.49557684689620213, 'max_depth': 3}. Best is trial 44 with value: 0.8361559224154164.\u001b[0m\n",
            "\u001b[32m[I 2022-08-04 09:31:49,240]\u001b[0m Trial 66 finished with value: 0.8249450756386917 and parameters: {'n_estimators': 39, 'learning_rate': 0.4958802149189265, 'max_depth': 3}. Best is trial 44 with value: 0.8361559224154164.\u001b[0m\n",
            "\u001b[32m[I 2022-08-04 09:31:49,540]\u001b[0m Trial 67 finished with value: 0.8125792480070304 and parameters: {'n_estimators': 88, 'learning_rate': 0.4573120303365023, 'max_depth': 5}. Best is trial 44 with value: 0.8361559224154164.\u001b[0m\n",
            "\u001b[32m[I 2022-08-04 09:31:49,773]\u001b[0m Trial 68 finished with value: 0.8170610758897746 and parameters: {'n_estimators': 65, 'learning_rate': 0.3722561978224513, 'max_depth': 5}. Best is trial 44 with value: 0.8361559224154164.\u001b[0m\n",
            "\u001b[32m[I 2022-08-04 09:31:49,919]\u001b[0m Trial 69 finished with value: 0.8294143493817087 and parameters: {'n_estimators': 38, 'learning_rate': 0.5316742447767872, 'max_depth': 4}. Best is trial 44 with value: 0.8361559224154164.\u001b[0m\n",
            "\u001b[32m[I 2022-08-04 09:31:50,003]\u001b[0m Trial 70 finished with value: 0.8204506936162199 and parameters: {'n_estimators': 10, 'learning_rate': 0.6491129536560728, 'max_depth': 3}. Best is trial 44 with value: 0.8361559224154164.\u001b[0m\n",
            "\u001b[32m[I 2022-08-04 09:31:50,140]\u001b[0m Trial 71 finished with value: 0.8249325214989642 and parameters: {'n_estimators': 36, 'learning_rate': 0.5438540887100048, 'max_depth': 4}. Best is trial 44 with value: 0.8361559224154164.\u001b[0m\n",
            "\u001b[32m[I 2022-08-04 09:31:50,250]\u001b[0m Trial 72 finished with value: 0.8294080723118448 and parameters: {'n_estimators': 21, 'learning_rate': 0.6103699273318287, 'max_depth': 4}. Best is trial 44 with value: 0.8361559224154164.\u001b[0m\n",
            "\u001b[32m[I 2022-08-04 09:31:50,425]\u001b[0m Trial 73 finished with value: 0.8226853304877283 and parameters: {'n_estimators': 51, 'learning_rate': 0.5217213448371429, 'max_depth': 4}. Best is trial 44 with value: 0.8361559224154164.\u001b[0m\n",
            "\u001b[32m[I 2022-08-04 09:31:50,589]\u001b[0m Trial 74 finished with value: 0.8181846713953927 and parameters: {'n_estimators': 35, 'learning_rate': 0.5735710741262294, 'max_depth': 5}. Best is trial 44 with value: 0.8361559224154164.\u001b[0m\n",
            "\u001b[32m[I 2022-08-04 09:31:50,773]\u001b[0m Trial 75 finished with value: 0.8226790534178645 and parameters: {'n_estimators': 71, 'learning_rate': 0.5324507368502337, 'max_depth': 3}. Best is trial 44 with value: 0.8361559224154164.\u001b[0m\n",
            "\u001b[32m[I 2022-08-04 09:31:51,332]\u001b[0m Trial 76 finished with value: 0.8091959073504489 and parameters: {'n_estimators': 232, 'learning_rate': 0.687421836205803, 'max_depth': 4}. Best is trial 44 with value: 0.8361559224154164.\u001b[0m\n",
            "\u001b[32m[I 2022-08-04 09:31:51,416]\u001b[0m Trial 77 finished with value: 0.8305567760969179 and parameters: {'n_estimators': 10, 'learning_rate': 0.4013792856837407, 'max_depth': 4}. Best is trial 44 with value: 0.8361559224154164.\u001b[0m\n",
            "\u001b[32m[I 2022-08-04 09:31:51,508]\u001b[0m Trial 78 finished with value: 0.832803967108154 and parameters: {'n_estimators': 17, 'learning_rate': 0.3173450654875406, 'max_depth': 3}. Best is trial 44 with value: 0.8361559224154164.\u001b[0m\n",
            "\u001b[32m[I 2022-08-04 09:31:51,703]\u001b[0m Trial 79 finished with value: 0.8260498399347185 and parameters: {'n_estimators': 58, 'learning_rate': 0.22817823223843434, 'max_depth': 4}. Best is trial 44 with value: 0.8361559224154164.\u001b[0m\n",
            "\u001b[32m[I 2022-08-04 09:31:51,809]\u001b[0m Trial 80 finished with value: 0.8384093904965162 and parameters: {'n_estimators': 22, 'learning_rate': 0.35039928735355863, 'max_depth': 3}. Best is trial 80 with value: 0.8384093904965162.\u001b[0m\n",
            "\u001b[32m[I 2022-08-04 09:31:51,910]\u001b[0m Trial 81 finished with value: 0.8361684765551441 and parameters: {'n_estimators': 22, 'learning_rate': 0.2875080728788457, 'max_depth': 3}. Best is trial 80 with value: 0.8384093904965162.\u001b[0m\n",
            "\u001b[32m[I 2022-08-04 09:31:52,014]\u001b[0m Trial 82 finished with value: 0.831680371602536 and parameters: {'n_estimators': 23, 'learning_rate': 0.2971244990204422, 'max_depth': 3}. Best is trial 80 with value: 0.8384093904965162.\u001b[0m\n",
            "\u001b[32m[I 2022-08-04 09:31:52,128]\u001b[0m Trial 83 finished with value: 0.8350511581193899 and parameters: {'n_estimators': 22, 'learning_rate': 0.2975954099697637, 'max_depth': 3}. Best is trial 80 with value: 0.8384093904965162.\u001b[0m\n",
            "\u001b[32m[I 2022-08-04 09:31:52,273]\u001b[0m Trial 84 finished with value: 0.8339150084740444 and parameters: {'n_estimators': 47, 'learning_rate': 0.2803897440737427, 'max_depth': 3}. Best is trial 80 with value: 0.8384093904965162.\u001b[0m\n",
            "\u001b[32m[I 2022-08-04 09:31:52,418]\u001b[0m Trial 85 finished with value: 0.8305504990270542 and parameters: {'n_estimators': 46, 'learning_rate': 0.29016655630453325, 'max_depth': 3}. Best is trial 80 with value: 0.8384093904965162.\u001b[0m\n",
            "\u001b[32m[I 2022-08-04 09:31:52,518]\u001b[0m Trial 86 finished with value: 0.8316678174628084 and parameters: {'n_estimators': 23, 'learning_rate': 0.3094633241770412, 'max_depth': 3}. Best is trial 80 with value: 0.8384093904965162.\u001b[0m\n",
            "\u001b[32m[I 2022-08-04 09:31:52,632]\u001b[0m Trial 87 finished with value: 0.8305442219571904 and parameters: {'n_estimators': 26, 'learning_rate': 0.15001639434164282, 'max_depth': 3}. Best is trial 80 with value: 0.8384093904965162.\u001b[0m\n",
            "\u001b[32m[I 2022-08-04 09:31:52,781]\u001b[0m Trial 88 finished with value: 0.8283158621555458 and parameters: {'n_estimators': 52, 'learning_rate': 0.3220426724277418, 'max_depth': 3}. Best is trial 80 with value: 0.8384093904965162.\u001b[0m\n",
            "\u001b[32m[I 2022-08-04 09:31:52,879]\u001b[0m Trial 89 finished with value: 0.831680371602536 and parameters: {'n_estimators': 22, 'learning_rate': 0.27564664200661904, 'max_depth': 3}. Best is trial 80 with value: 0.8384093904965162.\u001b[0m\n",
            "\u001b[32m[I 2022-08-04 09:31:53,067]\u001b[0m Trial 90 finished with value: 0.8227041616973196 and parameters: {'n_estimators': 71, 'learning_rate': 0.25547343145660034, 'max_depth': 3}. Best is trial 80 with value: 0.8384093904965162.\u001b[0m\n",
            "\u001b[32m[I 2022-08-04 09:31:53,164]\u001b[0m Trial 91 finished with value: 0.8384031134266525 and parameters: {'n_estimators': 21, 'learning_rate': 0.29072950330093866, 'max_depth': 3}. Best is trial 80 with value: 0.8384093904965162.\u001b[0m\n",
            "\u001b[32m[I 2022-08-04 09:31:53,283]\u001b[0m Trial 92 finished with value: 0.8316929257422634 and parameters: {'n_estimators': 33, 'learning_rate': 0.2847424128993412, 'max_depth': 3}. Best is trial 80 with value: 0.8384093904965162.\u001b[0m\n",
            "\u001b[32m[I 2022-08-04 09:31:53,419]\u001b[0m Trial 93 finished with value: 0.8339150084740444 and parameters: {'n_estimators': 34, 'learning_rate': 0.2789575087436811, 'max_depth': 3}. Best is trial 80 with value: 0.8384093904965162.\u001b[0m\n",
            "\u001b[32m[I 2022-08-04 09:31:53,543]\u001b[0m Trial 94 finished with value: 0.8350386039796623 and parameters: {'n_estimators': 35, 'learning_rate': 0.2757036894759492, 'max_depth': 3}. Best is trial 80 with value: 0.8384093904965162.\u001b[0m\n",
            "\u001b[32m[I 2022-08-04 09:31:53,688]\u001b[0m Trial 95 finished with value: 0.8283158621555458 and parameters: {'n_estimators': 43, 'learning_rate': 0.23363853099559653, 'max_depth': 3}. Best is trial 80 with value: 0.8384093904965162.\u001b[0m\n",
            "\u001b[32m[I 2022-08-04 09:31:53,811]\u001b[0m Trial 96 finished with value: 0.826062394074446 and parameters: {'n_estimators': 35, 'learning_rate': 0.34660494910641304, 'max_depth': 3}. Best is trial 80 with value: 0.8384093904965162.\u001b[0m\n",
            "\u001b[32m[I 2022-08-04 09:31:53,979]\u001b[0m Trial 97 finished with value: 0.8339275626137719 and parameters: {'n_estimators': 56, 'learning_rate': 0.17957224366108077, 'max_depth': 3}. Best is trial 80 with value: 0.8384093904965162.\u001b[0m\n",
            "\u001b[32m[I 2022-08-04 09:31:54,135]\u001b[0m Trial 98 finished with value: 0.831680371602536 and parameters: {'n_estimators': 57, 'learning_rate': 0.1717774361446064, 'max_depth': 3}. Best is trial 80 with value: 0.8384093904965162.\u001b[0m\n",
            "\u001b[32m[I 2022-08-04 09:31:54,339]\u001b[0m Trial 99 finished with value: 0.821568012051974 and parameters: {'n_estimators': 81, 'learning_rate': 0.25403360123438656, 'max_depth': 3}. Best is trial 80 with value: 0.8384093904965162.\u001b[0m\n"
          ]
        },
        {
          "output_type": "stream",
          "name": "stdout",
          "text": [
            "{'n_estimators': 22, 'learning_rate': 0.35039928735355863, 'max_depth': 3}\n",
            "0.8384093904965162\n"
          ]
        }
      ]
    },
    {
      "cell_type": "markdown",
      "source": [
        "## ランダムフォレスト-optuna（ベストモデル）\n"
      ],
      "metadata": {
        "id": "R2CtMA-dchSR"
      }
    },
    {
      "cell_type": "code",
      "source": [
        "!pip install optuna\n",
        "import optuna\n",
        "\n",
        "from sklearn import tree\n",
        "from sklearn import metrics\n",
        "\n",
        "from sklearn.model_selection import KFold, cross_val_score\n",
        "from sklearn.model_selection import cross_validate, StratifiedKFold\n",
        "\n",
        "def objective(trial):\n",
        "    \n",
        "    #min_samples_split = trial.suggest_int(\"min_samples_split\", 8, 16)\n",
        "    #max_leaf_nodes = int(trial.suggest_discrete_uniform(\"max_leaf_nodes\", 4, 64, 4))\n",
        "    criterion = trial.suggest_categorical(\"criterion\", [\"gini\", \"entropy\"])\n",
        "    n_estimators = trial.suggest_int('n_estimators', 1, 100, log=True)\n",
        "    max_depth = trial.suggest_int('max_depth', 1, 100, log=True)\n",
        "\n",
        "    model = RandomForestClassifier(#min_samples_split = min_samples_split, \n",
        "                                #max_leaf_nodes = max_leaf_nodes,\n",
        "                                criterion = criterion,\n",
        "                                n_estimators = n_estimators,\n",
        "                                max_depth =  max_depth)\n",
        "\n",
        "    kf = StratifiedKFold(n_splits=5, shuffle=True, random_state=1234)\n",
        "    scores = cross_validate(model, x, y, cv=kf)\n",
        "\n",
        "    return scores['test_score'].mean()\n",
        "\n",
        "study = optuna.create_study(direction='maximize')\n",
        "study.optimize(objective, n_trials=100) #n_trials=100 で現在は100回試行\n",
        "print(study.best_params)\n",
        "print(study.best_value)\n",
        "xgb_best_param = study.best_params"
      ],
      "metadata": {
        "colab": {
          "base_uri": "https://localhost:8080/"
        },
        "id": "uYQOO7haQA-X",
        "outputId": "d1ec8f8a-625b-44f4-8f15-e6498edb05b0"
      },
      "execution_count": null,
      "outputs": [
        {
          "output_type": "stream",
          "name": "stdout",
          "text": [
            "Looking in indexes: https://pypi.org/simple, https://us-python.pkg.dev/colab-wheels/public/simple/\n",
            "Requirement already satisfied: optuna in /usr/local/lib/python3.7/dist-packages (2.10.1)\n",
            "Requirement already satisfied: cmaes>=0.8.2 in /usr/local/lib/python3.7/dist-packages (from optuna) (0.8.2)\n",
            "Requirement already satisfied: packaging>=20.0 in /usr/local/lib/python3.7/dist-packages (from optuna) (21.3)\n",
            "Requirement already satisfied: numpy in /usr/local/lib/python3.7/dist-packages (from optuna) (1.21.6)\n",
            "Requirement already satisfied: scipy!=1.4.0 in /usr/local/lib/python3.7/dist-packages (from optuna) (1.7.3)\n",
            "Requirement already satisfied: PyYAML in /usr/local/lib/python3.7/dist-packages (from optuna) (3.13)\n",
            "Requirement already satisfied: tqdm in /usr/local/lib/python3.7/dist-packages (from optuna) (4.64.0)\n",
            "Requirement already satisfied: sqlalchemy>=1.1.0 in /usr/local/lib/python3.7/dist-packages (from optuna) (1.4.39)\n",
            "Requirement already satisfied: alembic in /usr/local/lib/python3.7/dist-packages (from optuna) (1.8.1)\n",
            "Requirement already satisfied: colorlog in /usr/local/lib/python3.7/dist-packages (from optuna) (6.6.0)\n",
            "Requirement already satisfied: cliff in /usr/local/lib/python3.7/dist-packages (from optuna) (3.10.1)\n",
            "Requirement already satisfied: pyparsing!=3.0.5,>=2.0.2 in /usr/local/lib/python3.7/dist-packages (from packaging>=20.0->optuna) (3.0.9)\n",
            "Requirement already satisfied: greenlet!=0.4.17 in /usr/local/lib/python3.7/dist-packages (from sqlalchemy>=1.1.0->optuna) (1.1.2)\n",
            "Requirement already satisfied: importlib-metadata in /usr/local/lib/python3.7/dist-packages (from sqlalchemy>=1.1.0->optuna) (4.12.0)\n",
            "Requirement already satisfied: importlib-resources in /usr/local/lib/python3.7/dist-packages (from alembic->optuna) (5.9.0)\n",
            "Requirement already satisfied: Mako in /usr/local/lib/python3.7/dist-packages (from alembic->optuna) (1.2.1)\n",
            "Requirement already satisfied: cmd2>=1.0.0 in /usr/local/lib/python3.7/dist-packages (from cliff->optuna) (2.4.2)\n",
            "Requirement already satisfied: stevedore>=2.0.1 in /usr/local/lib/python3.7/dist-packages (from cliff->optuna) (3.5.0)\n",
            "Requirement already satisfied: PrettyTable>=0.7.2 in /usr/local/lib/python3.7/dist-packages (from cliff->optuna) (3.3.0)\n",
            "Requirement already satisfied: pbr!=2.1.0,>=2.0.0 in /usr/local/lib/python3.7/dist-packages (from cliff->optuna) (5.9.0)\n",
            "Requirement already satisfied: autopage>=0.4.0 in /usr/local/lib/python3.7/dist-packages (from cliff->optuna) (0.5.1)\n",
            "Requirement already satisfied: typing-extensions in /usr/local/lib/python3.7/dist-packages (from cmd2>=1.0.0->cliff->optuna) (4.1.1)\n",
            "Requirement already satisfied: wcwidth>=0.1.7 in /usr/local/lib/python3.7/dist-packages (from cmd2>=1.0.0->cliff->optuna) (0.2.5)\n",
            "Requirement already satisfied: attrs>=16.3.0 in /usr/local/lib/python3.7/dist-packages (from cmd2>=1.0.0->cliff->optuna) (22.1.0)\n",
            "Requirement already satisfied: pyperclip>=1.6 in /usr/local/lib/python3.7/dist-packages (from cmd2>=1.0.0->cliff->optuna) (1.8.2)\n",
            "Requirement already satisfied: zipp>=0.5 in /usr/local/lib/python3.7/dist-packages (from importlib-metadata->sqlalchemy>=1.1.0->optuna) (3.8.1)\n",
            "Requirement already satisfied: MarkupSafe>=0.9.2 in /usr/local/lib/python3.7/dist-packages (from Mako->alembic->optuna) (2.0.1)\n"
          ]
        },
        {
          "output_type": "stream",
          "name": "stderr",
          "text": [
            "\u001b[32m[I 2022-08-04 09:57:20,703]\u001b[0m A new study created in memory with name: no-name-e17f19b5-419b-4fb0-b5a1-06d96b201e65\u001b[0m\n",
            "\u001b[32m[I 2022-08-04 09:57:20,834]\u001b[0m Trial 0 finished with value: 0.8294206264515724 and parameters: {'criterion': 'gini', 'n_estimators': 11, 'max_depth': 5}. Best is trial 0 with value: 0.8294206264515724.\u001b[0m\n",
            "\u001b[32m[I 2022-08-04 09:57:20,875]\u001b[0m Trial 1 finished with value: 0.7519490301927061 and parameters: {'criterion': 'gini', 'n_estimators': 1, 'max_depth': 2}. Best is trial 0 with value: 0.8294206264515724.\u001b[0m\n",
            "\u001b[32m[I 2022-08-04 09:57:20,923]\u001b[0m Trial 2 finished with value: 0.6407758458351641 and parameters: {'criterion': 'entropy', 'n_estimators': 1, 'max_depth': 1}. Best is trial 0 with value: 0.8294206264515724.\u001b[0m\n",
            "\u001b[32m[I 2022-08-04 09:57:21,459]\u001b[0m Trial 3 finished with value: 0.8148452702278577 and parameters: {'criterion': 'entropy', 'n_estimators': 55, 'max_depth': 54}. Best is trial 0 with value: 0.8294206264515724.\u001b[0m\n",
            "\u001b[32m[I 2022-08-04 09:57:21,522]\u001b[0m Trial 4 finished with value: 0.8114556525014123 and parameters: {'criterion': 'entropy', 'n_estimators': 3, 'max_depth': 81}. Best is trial 0 with value: 0.8294206264515724.\u001b[0m\n",
            "\u001b[32m[I 2022-08-04 09:57:21,622]\u001b[0m Trial 5 finished with value: 0.80585022911305 and parameters: {'criterion': 'gini', 'n_estimators': 9, 'max_depth': 2}. Best is trial 0 with value: 0.8294206264515724.\u001b[0m\n",
            "\u001b[32m[I 2022-08-04 09:57:22,217]\u001b[0m Trial 6 finished with value: 0.8327976900382902 and parameters: {'criterion': 'gini', 'n_estimators': 67, 'max_depth': 5}. Best is trial 6 with value: 0.8327976900382902.\u001b[0m\n",
            "\u001b[32m[I 2022-08-04 09:57:22,405]\u001b[0m Trial 7 finished with value: 0.8035904839620865 and parameters: {'criterion': 'gini', 'n_estimators': 17, 'max_depth': 36}. Best is trial 6 with value: 0.8327976900382902.\u001b[0m\n",
            "\u001b[32m[I 2022-08-04 09:57:22,566]\u001b[0m Trial 8 finished with value: 0.8114430983616849 and parameters: {'criterion': 'entropy', 'n_estimators': 14, 'max_depth': 12}. Best is trial 6 with value: 0.8327976900382902.\u001b[0m\n",
            "\u001b[32m[I 2022-08-04 09:57:22,657]\u001b[0m Trial 9 finished with value: 0.7519364760529784 and parameters: {'criterion': 'gini', 'n_estimators': 7, 'max_depth': 1}. Best is trial 6 with value: 0.8327976900382902.\u001b[0m\n",
            "\u001b[32m[I 2022-08-04 09:57:23,541]\u001b[0m Trial 10 finished with value: 0.8114556525014123 and parameters: {'criterion': 'gini', 'n_estimators': 95, 'max_depth': 12}. Best is trial 6 with value: 0.8327976900382902.\u001b[0m\n",
            "\u001b[32m[I 2022-08-04 09:57:23,854]\u001b[0m Trial 11 finished with value: 0.8305567760969179 and parameters: {'criterion': 'gini', 'n_estimators': 33, 'max_depth': 4}. Best is trial 6 with value: 0.8327976900382902.\u001b[0m\n",
            "\u001b[32m[I 2022-08-04 09:57:24,179]\u001b[0m Trial 12 finished with value: 0.8238089259933463 and parameters: {'criterion': 'gini', 'n_estimators': 35, 'max_depth': 4}. Best is trial 6 with value: 0.8327976900382902.\u001b[0m\n",
            "\u001b[32m[I 2022-08-04 09:57:24,571]\u001b[0m Trial 13 finished with value: 0.8114556525014125 and parameters: {'criterion': 'gini', 'n_estimators': 40, 'max_depth': 17}. Best is trial 6 with value: 0.8327976900382902.\u001b[0m\n",
            "\u001b[32m[I 2022-08-04 09:57:25,315]\u001b[0m Trial 14 finished with value: 0.8114682066411399 and parameters: {'criterion': 'gini', 'n_estimators': 87, 'max_depth': 3}. Best is trial 6 with value: 0.8327976900382902.\u001b[0m\n",
            "\u001b[32m[I 2022-08-04 09:57:25,587]\u001b[0m Trial 15 finished with value: 0.8226790534178645 and parameters: {'criterion': 'gini', 'n_estimators': 27, 'max_depth': 8}. Best is trial 6 with value: 0.8327976900382902.\u001b[0m\n",
            "\u001b[32m[I 2022-08-04 09:57:25,669]\u001b[0m Trial 16 finished with value: 0.7991212102190698 and parameters: {'criterion': 'gini', 'n_estimators': 5, 'max_depth': 2}. Best is trial 6 with value: 0.8327976900382902.\u001b[0m\n",
            "\u001b[32m[I 2022-08-04 09:57:25,902]\u001b[0m Trial 17 finished with value: 0.8013558470905782 and parameters: {'criterion': 'gini', 'n_estimators': 19, 'max_depth': 24}. Best is trial 6 with value: 0.8327976900382902.\u001b[0m\n",
            "\u001b[32m[I 2022-08-04 09:57:26,416]\u001b[0m Trial 18 finished with value: 0.8316740945326722 and parameters: {'criterion': 'entropy', 'n_estimators': 54, 'max_depth': 7}. Best is trial 6 with value: 0.8327976900382902.\u001b[0m\n",
            "\u001b[32m[I 2022-08-04 09:57:26,940]\u001b[0m Trial 19 finished with value: 0.8193019898311468 and parameters: {'criterion': 'entropy', 'n_estimators': 56, 'max_depth': 8}. Best is trial 6 with value: 0.8327976900382902.\u001b[0m\n",
            "\u001b[32m[I 2022-08-04 09:57:27,007]\u001b[0m Trial 20 finished with value: 0.7878601468834348 and parameters: {'criterion': 'entropy', 'n_estimators': 2, 'max_depth': 20}. Best is trial 6 with value: 0.8327976900382902.\u001b[0m\n",
            "\u001b[32m[I 2022-08-04 09:57:27,482]\u001b[0m Trial 21 finished with value: 0.835044881049526 and parameters: {'criterion': 'entropy', 'n_estimators': 52, 'max_depth': 5}. Best is trial 21 with value: 0.835044881049526.\u001b[0m\n",
            "\u001b[32m[I 2022-08-04 09:57:28,061]\u001b[0m Trial 22 finished with value: 0.8361621994852803 and parameters: {'criterion': 'entropy', 'n_estimators': 63, 'max_depth': 6}. Best is trial 22 with value: 0.8361621994852803.\u001b[0m\n",
            "\u001b[32m[I 2022-08-04 09:57:28,885]\u001b[0m Trial 23 finished with value: 0.8148327160881301 and parameters: {'criterion': 'entropy', 'n_estimators': 100, 'max_depth': 3}. Best is trial 22 with value: 0.8361621994852803.\u001b[0m\n",
            "\u001b[32m[I 2022-08-04 09:57:29,121]\u001b[0m Trial 24 finished with value: 0.8294206264515724 and parameters: {'criterion': 'entropy', 'n_estimators': 23, 'max_depth': 6}. Best is trial 22 with value: 0.8361621994852803.\u001b[0m\n",
            "\u001b[32m[I 2022-08-04 09:57:29,731]\u001b[0m Trial 25 finished with value: 0.8114556525014123 and parameters: {'criterion': 'entropy', 'n_estimators': 64, 'max_depth': 11}. Best is trial 22 with value: 0.8361621994852803.\u001b[0m\n",
            "\u001b[32m[I 2022-08-04 09:57:30,094]\u001b[0m Trial 26 finished with value: 0.8316740945326722 and parameters: {'criterion': 'entropy', 'n_estimators': 39, 'max_depth': 4}. Best is trial 22 with value: 0.8361621994852803.\u001b[0m\n",
            "\u001b[32m[I 2022-08-04 09:57:30,624]\u001b[0m Trial 27 finished with value: 0.8159500345238844 and parameters: {'criterion': 'entropy', 'n_estimators': 62, 'max_depth': 3}. Best is trial 22 with value: 0.8361621994852803.\u001b[0m\n",
            "\u001b[32m[I 2022-08-04 09:57:30,851]\u001b[0m Trial 28 finished with value: 0.8058565061829139 and parameters: {'criterion': 'entropy', 'n_estimators': 24, 'max_depth': 2}. Best is trial 22 with value: 0.8361621994852803.\u001b[0m\n",
            "\u001b[32m[I 2022-08-04 09:57:31,033]\u001b[0m Trial 29 finished with value: 0.8080723118448307 and parameters: {'criterion': 'entropy', 'n_estimators': 14, 'max_depth': 10}. Best is trial 22 with value: 0.8361621994852803.\u001b[0m\n",
            "\u001b[32m[I 2022-08-04 09:57:31,670]\u001b[0m Trial 30 finished with value: 0.8327976900382901 and parameters: {'criterion': 'entropy', 'n_estimators': 74, 'max_depth': 5}. Best is trial 22 with value: 0.8361621994852803.\u001b[0m\n",
            "\u001b[32m[I 2022-08-04 09:57:32,351]\u001b[0m Trial 31 finished with value: 0.8327976900382901 and parameters: {'criterion': 'entropy', 'n_estimators': 77, 'max_depth': 5}. Best is trial 22 with value: 0.8361621994852803.\u001b[0m\n",
            "\u001b[32m[I 2022-08-04 09:57:32,719]\u001b[0m Trial 32 finished with value: 0.8305442219571905 and parameters: {'criterion': 'entropy', 'n_estimators': 40, 'max_depth': 6}. Best is trial 22 with value: 0.8361621994852803.\u001b[0m\n",
            "\u001b[32m[I 2022-08-04 09:57:33,189]\u001b[0m Trial 33 finished with value: 0.8125980792166217 and parameters: {'criterion': 'entropy', 'n_estimators': 46, 'max_depth': 16}. Best is trial 22 with value: 0.8361621994852803.\u001b[0m\n",
            "\u001b[32m[I 2022-08-04 09:57:33,834]\u001b[0m Trial 34 finished with value: 0.8327976900382901 and parameters: {'criterion': 'entropy', 'n_estimators': 75, 'max_depth': 5}. Best is trial 22 with value: 0.8361621994852803.\u001b[0m\n",
            "\u001b[32m[I 2022-08-04 09:57:34,270]\u001b[0m Trial 35 finished with value: 0.7800389178331555 and parameters: {'criterion': 'entropy', 'n_estimators': 50, 'max_depth': 1}. Best is trial 22 with value: 0.8361621994852803.\u001b[0m\n",
            "\u001b[32m[I 2022-08-04 09:57:34,555]\u001b[0m Trial 36 finished with value: 0.8125792480070304 and parameters: {'criterion': 'entropy', 'n_estimators': 29, 'max_depth': 3}. Best is trial 22 with value: 0.8361621994852803.\u001b[0m\n",
            "\u001b[32m[I 2022-08-04 09:57:35,134]\u001b[0m Trial 37 finished with value: 0.7991274872889336 and parameters: {'criterion': 'entropy', 'n_estimators': 67, 'max_depth': 2}. Best is trial 22 with value: 0.8361621994852803.\u001b[0m\n",
            "\u001b[32m[I 2022-08-04 09:57:35,193]\u001b[0m Trial 38 finished with value: 0.8001757579561861 and parameters: {'criterion': 'entropy', 'n_estimators': 2, 'max_depth': 9}. Best is trial 22 with value: 0.8361621994852803.\u001b[0m\n",
            "\u001b[32m[I 2022-08-04 09:57:35,338]\u001b[0m Trial 39 finished with value: 0.80023225158496 and parameters: {'criterion': 'gini', 'n_estimators': 11, 'max_depth': 31}. Best is trial 22 with value: 0.8361621994852803.\u001b[0m\n",
            "\u001b[32m[I 2022-08-04 09:57:36,300]\u001b[0m Trial 40 finished with value: 0.8137028435126483 and parameters: {'criterion': 'entropy', 'n_estimators': 99, 'max_depth': 14}. Best is trial 22 with value: 0.8361621994852803.\u001b[0m\n",
            "\u001b[32m[I 2022-08-04 09:57:37,011]\u001b[0m Trial 41 finished with value: 0.8327914129684263 and parameters: {'criterion': 'entropy', 'n_estimators': 82, 'max_depth': 6}. Best is trial 22 with value: 0.8361621994852803.\u001b[0m\n",
            "\u001b[32m[I 2022-08-04 09:57:37,814]\u001b[0m Trial 42 finished with value: 0.824938798568828 and parameters: {'criterion': 'entropy', 'n_estimators': 72, 'max_depth': 4}. Best is trial 22 with value: 0.8361621994852803.\u001b[0m\n",
            "\u001b[32m[I 2022-08-04 09:57:38,465]\u001b[0m Trial 43 finished with value: 0.8316678174628084 and parameters: {'criterion': 'entropy', 'n_estimators': 50, 'max_depth': 6}. Best is trial 22 with value: 0.8361621994852803.\u001b[0m\n",
            "\u001b[32m[I 2022-08-04 09:57:39,257]\u001b[0m Trial 44 finished with value: 0.8327976900382901 and parameters: {'criterion': 'entropy', 'n_estimators': 70, 'max_depth': 5}. Best is trial 22 with value: 0.8361621994852803.\u001b[0m\n",
            "\u001b[32m[I 2022-08-04 09:57:39,576]\u001b[0m Trial 45 finished with value: 0.8316740945326722 and parameters: {'criterion': 'gini', 'n_estimators': 35, 'max_depth': 5}. Best is trial 22 with value: 0.8361621994852803.\u001b[0m\n",
            "\u001b[32m[I 2022-08-04 09:57:39,767]\u001b[0m Trial 46 finished with value: 0.8148327160881301 and parameters: {'criterion': 'entropy', 'n_estimators': 19, 'max_depth': 3}. Best is trial 22 with value: 0.8361621994852803.\u001b[0m\n",
            "\u001b[32m[I 2022-08-04 09:57:39,862]\u001b[0m Trial 47 finished with value: 0.8058439520431862 and parameters: {'criterion': 'gini', 'n_estimators': 6, 'max_depth': 100}. Best is trial 22 with value: 0.8361621994852803.\u001b[0m\n",
            "\u001b[32m[I 2022-08-04 09:57:40,290]\u001b[0m Trial 48 finished with value: 0.8282970309459545 and parameters: {'criterion': 'gini', 'n_estimators': 45, 'max_depth': 7}. Best is trial 22 with value: 0.8361621994852803.\u001b[0m\n",
            "\u001b[32m[I 2022-08-04 09:57:40,607]\u001b[0m Trial 49 finished with value: 0.8058251208335948 and parameters: {'criterion': 'entropy', 'n_estimators': 30, 'max_depth': 54}. Best is trial 22 with value: 0.8361621994852803.\u001b[0m\n",
            "\u001b[32m[I 2022-08-04 09:57:40,680]\u001b[0m Trial 50 finished with value: 0.8136902893729208 and parameters: {'criterion': 'gini', 'n_estimators': 4, 'max_depth': 4}. Best is trial 22 with value: 0.8361621994852803.\u001b[0m\n",
            "\u001b[32m[I 2022-08-04 09:57:41,406]\u001b[0m Trial 51 finished with value: 0.8316678174628083 and parameters: {'criterion': 'entropy', 'n_estimators': 82, 'max_depth': 5}. Best is trial 22 with value: 0.8361621994852803.\u001b[0m\n",
            "\u001b[32m[I 2022-08-04 09:57:41,982]\u001b[0m Trial 52 finished with value: 0.8215491808423827 and parameters: {'criterion': 'entropy', 'n_estimators': 61, 'max_depth': 9}. Best is trial 22 with value: 0.8361621994852803.\u001b[0m\n",
            "\u001b[32m[I 2022-08-04 09:57:42,644]\u001b[0m Trial 53 finished with value: 0.8271797125102001 and parameters: {'criterion': 'entropy', 'n_estimators': 77, 'max_depth': 4}. Best is trial 22 with value: 0.8361621994852803.\u001b[0m\n",
            "\u001b[32m[I 2022-08-04 09:57:43,108]\u001b[0m Trial 54 finished with value: 0.8238089259933463 and parameters: {'criterion': 'entropy', 'n_estimators': 50, 'max_depth': 7}. Best is trial 22 with value: 0.8361621994852803.\u001b[0m\n",
            "\u001b[32m[I 2022-08-04 09:57:43,834]\u001b[0m Trial 55 finished with value: 0.8327976900382901 and parameters: {'criterion': 'entropy', 'n_estimators': 84, 'max_depth': 5}. Best is trial 22 with value: 0.8361621994852803.\u001b[0m\n",
            "\u001b[32m[I 2022-08-04 09:57:43,881]\u001b[0m Trial 56 finished with value: 0.7698951729332748 and parameters: {'criterion': 'entropy', 'n_estimators': 1, 'max_depth': 2}. Best is trial 22 with value: 0.8361621994852803.\u001b[0m\n",
            "\u001b[32m[I 2022-08-04 09:57:44,798]\u001b[0m Trial 57 finished with value: 0.8114493754315486 and parameters: {'criterion': 'gini', 'n_estimators': 100, 'max_depth': 12}. Best is trial 22 with value: 0.8361621994852803.\u001b[0m\n",
            "\u001b[32m[I 2022-08-04 09:57:45,364]\u001b[0m Trial 58 finished with value: 0.8238089259933463 and parameters: {'criterion': 'entropy', 'n_estimators': 60, 'max_depth': 8}. Best is trial 22 with value: 0.8361621994852803.\u001b[0m\n",
            "\u001b[32m[I 2022-08-04 09:57:45,714]\u001b[0m Trial 59 finished with value: 0.8137153976523758 and parameters: {'criterion': 'entropy', 'n_estimators': 40, 'max_depth': 3}. Best is trial 22 with value: 0.8361621994852803.\u001b[0m\n",
            "\u001b[32m[I 2022-08-04 09:57:45,954]\u001b[0m Trial 60 finished with value: 0.8384031134266525 and parameters: {'criterion': 'gini', 'n_estimators': 24, 'max_depth': 5}. Best is trial 60 with value: 0.8384031134266525.\u001b[0m\n",
            "\u001b[32m[I 2022-08-04 09:57:46,475]\u001b[0m Trial 61 finished with value: 0.8339212855439081 and parameters: {'criterion': 'gini', 'n_estimators': 56, 'max_depth': 5}. Best is trial 60 with value: 0.8384031134266525.\u001b[0m\n",
            "\u001b[32m[I 2022-08-04 09:57:46,708]\u001b[0m Trial 62 finished with value: 0.8238089259933463 and parameters: {'criterion': 'gini', 'n_estimators': 23, 'max_depth': 4}. Best is trial 60 with value: 0.8384031134266525.\u001b[0m\n",
            "\u001b[32m[I 2022-08-04 09:57:47,044]\u001b[0m Trial 63 finished with value: 0.8249262444291006 and parameters: {'criterion': 'gini', 'n_estimators': 35, 'max_depth': 6}. Best is trial 60 with value: 0.8384031134266525.\u001b[0m\n",
            "\u001b[32m[I 2022-08-04 09:57:47,573]\u001b[0m Trial 64 finished with value: 0.8148013307388112 and parameters: {'criterion': 'gini', 'n_estimators': 55, 'max_depth': 10}. Best is trial 60 with value: 0.8384031134266525.\u001b[0m\n",
            "\u001b[32m[I 2022-08-04 09:57:47,972]\u001b[0m Trial 65 finished with value: 0.8226853304877284 and parameters: {'criterion': 'gini', 'n_estimators': 43, 'max_depth': 8}. Best is trial 60 with value: 0.8384031134266525.\u001b[0m\n",
            "\u001b[32m[I 2022-08-04 09:57:48,135]\u001b[0m Trial 66 finished with value: 0.8260686711443098 and parameters: {'criterion': 'gini', 'n_estimators': 14, 'max_depth': 4}. Best is trial 60 with value: 0.8384031134266525.\u001b[0m\n",
            "\u001b[32m[I 2022-08-04 09:57:48,251]\u001b[0m Trial 67 finished with value: 0.8125729709371665 and parameters: {'criterion': 'gini', 'n_estimators': 9, 'max_depth': 7}. Best is trial 60 with value: 0.8384031134266525.\u001b[0m\n",
            "\u001b[32m[I 2022-08-04 09:57:48,834]\u001b[0m Trial 68 finished with value: 0.8327976900382902 and parameters: {'criterion': 'gini', 'n_estimators': 67, 'max_depth': 5}. Best is trial 60 with value: 0.8384031134266525.\u001b[0m\n",
            "\u001b[32m[I 2022-08-04 09:57:49,614]\u001b[0m Trial 69 finished with value: 0.8260561170045821 and parameters: {'criterion': 'gini', 'n_estimators': 88, 'max_depth': 6}. Best is trial 60 with value: 0.8384031134266525.\u001b[0m\n",
            "\u001b[32m[I 2022-08-04 09:57:50,166]\u001b[0m Trial 70 finished with value: 0.8069675475488044 and parameters: {'criterion': 'gini', 'n_estimators': 58, 'max_depth': 13}. Best is trial 60 with value: 0.8384031134266525.\u001b[0m\n",
            "\u001b[32m[I 2022-08-04 09:57:50,747]\u001b[0m Trial 71 finished with value: 0.8170861841692296 and parameters: {'criterion': 'gini', 'n_estimators': 69, 'max_depth': 3}. Best is trial 60 with value: 0.8384031134266525.\u001b[0m\n",
            "\u001b[32m[I 2022-08-04 09:57:51,507]\u001b[0m Trial 72 finished with value: 0.8316740945326722 and parameters: {'criterion': 'gini', 'n_estimators': 88, 'max_depth': 5}. Best is trial 60 with value: 0.8384031134266525.\u001b[0m\n",
            "\u001b[32m[I 2022-08-04 09:57:51,918]\u001b[0m Trial 73 finished with value: 0.8316740945326722 and parameters: {'criterion': 'gini', 'n_estimators': 46, 'max_depth': 5}. Best is trial 60 with value: 0.8384031134266525.\u001b[0m\n",
            "\u001b[32m[I 2022-08-04 09:57:52,181]\u001b[0m Trial 74 finished with value: 0.8215303496327915 and parameters: {'criterion': 'gini', 'n_estimators': 26, 'max_depth': 8}. Best is trial 60 with value: 0.8384031134266525.\u001b[0m\n",
            "\u001b[32m[I 2022-08-04 09:57:52,498]\u001b[0m Trial 75 finished with value: 0.8316615403929445 and parameters: {'criterion': 'gini', 'n_estimators': 32, 'max_depth': 6}. Best is trial 60 with value: 0.8384031134266525.\u001b[0m\n",
            "\u001b[32m[I 2022-08-04 09:57:52,963]\u001b[0m Trial 76 finished with value: 0.8159437574540205 and parameters: {'criterion': 'gini', 'n_estimators': 55, 'max_depth': 3}. Best is trial 60 with value: 0.8384031134266525.\u001b[0m\n",
            "\u001b[32m[I 2022-08-04 09:57:53,544]\u001b[0m Trial 77 finished with value: 0.8294269035214361 and parameters: {'criterion': 'gini', 'n_estimators': 67, 'max_depth': 4}. Best is trial 60 with value: 0.8384031134266525.\u001b[0m\n",
            "\u001b[32m[I 2022-08-04 09:57:53,893]\u001b[0m Trial 78 finished with value: 0.8294206264515722 and parameters: {'criterion': 'gini', 'n_estimators': 37, 'max_depth': 7}. Best is trial 60 with value: 0.8384031134266525.\u001b[0m\n",
            "\u001b[32m[I 2022-08-04 09:57:54,605]\u001b[0m Trial 79 finished with value: 0.824913690289373 and parameters: {'criterion': 'entropy', 'n_estimators': 76, 'max_depth': 9}. Best is trial 60 with value: 0.8384031134266525.\u001b[0m\n",
            "\u001b[32m[I 2022-08-04 09:57:55,083]\u001b[0m Trial 80 finished with value: 0.8148327160881299 and parameters: {'criterion': 'gini', 'n_estimators': 50, 'max_depth': 10}. Best is trial 60 with value: 0.8384031134266525.\u001b[0m\n",
            "\u001b[32m[I 2022-08-04 09:57:55,675]\u001b[0m Trial 81 finished with value: 0.8339212855439081 and parameters: {'criterion': 'entropy', 'n_estimators': 66, 'max_depth': 5}. Best is trial 60 with value: 0.8384031134266525.\u001b[0m\n",
            "\u001b[32m[I 2022-08-04 09:57:56,252]\u001b[0m Trial 82 finished with value: 0.8327976900382901 and parameters: {'criterion': 'entropy', 'n_estimators': 64, 'max_depth': 6}. Best is trial 60 with value: 0.8384031134266525.\u001b[0m\n",
            "\u001b[32m[I 2022-08-04 09:57:57,058]\u001b[0m Trial 83 finished with value: 0.8294206264515724 and parameters: {'criterion': 'entropy', 'n_estimators': 90, 'max_depth': 6}. Best is trial 60 with value: 0.8384031134266525.\u001b[0m\n",
            "\u001b[32m[I 2022-08-04 09:57:57,787]\u001b[0m Trial 84 finished with value: 0.8327976900382901 and parameters: {'criterion': 'entropy', 'n_estimators': 84, 'max_depth': 5}. Best is trial 60 with value: 0.8384031134266525.\u001b[0m\n",
            "\u001b[32m[I 2022-08-04 09:57:58,319]\u001b[0m Trial 85 finished with value: 0.8294206264515724 and parameters: {'criterion': 'entropy', 'n_estimators': 60, 'max_depth': 4}. Best is trial 60 with value: 0.8384031134266525.\u001b[0m\n",
            "\u001b[32m[I 2022-08-04 09:57:58,534]\u001b[0m Trial 86 finished with value: 0.8215617349821104 and parameters: {'criterion': 'entropy', 'n_estimators': 20, 'max_depth': 5}. Best is trial 60 with value: 0.8384031134266525.\u001b[0m\n",
            "\u001b[32m[I 2022-08-04 09:57:59,201]\u001b[0m Trial 87 finished with value: 0.8238089259933463 and parameters: {'criterion': 'entropy', 'n_estimators': 74, 'max_depth': 7}. Best is trial 60 with value: 0.8384031134266525.\u001b[0m\n",
            "\u001b[32m[I 2022-08-04 09:57:59,605]\u001b[0m Trial 88 finished with value: 0.8271797125102003 and parameters: {'criterion': 'entropy', 'n_estimators': 43, 'max_depth': 4}. Best is trial 60 with value: 0.8384031134266525.\u001b[0m\n",
            "\u001b[32m[I 2022-08-04 09:58:00,082]\u001b[0m Trial 89 finished with value: 0.8170736300295023 and parameters: {'criterion': 'gini', 'n_estimators': 51, 'max_depth': 8}. Best is trial 60 with value: 0.8384031134266525.\u001b[0m\n",
            "\u001b[32m[I 2022-08-04 09:58:01,055]\u001b[0m Trial 90 finished with value: 0.8125855250768941 and parameters: {'criterion': 'entropy', 'n_estimators': 69, 'max_depth': 11}. Best is trial 60 with value: 0.8384031134266525.\u001b[0m\n",
            "\u001b[32m[I 2022-08-04 09:58:02,146]\u001b[0m Trial 91 finished with value: 0.8282907538760906 and parameters: {'criterion': 'entropy', 'n_estimators': 77, 'max_depth': 5}. Best is trial 60 with value: 0.8384031134266525.\u001b[0m\n",
            "\u001b[32m[I 2022-08-04 09:58:03,079]\u001b[0m Trial 92 finished with value: 0.8271797125102001 and parameters: {'criterion': 'entropy', 'n_estimators': 65, 'max_depth': 5}. Best is trial 60 with value: 0.8384031134266525.\u001b[0m\n",
            "\u001b[32m[I 2022-08-04 09:58:04,451]\u001b[0m Trial 93 finished with value: 0.8316740945326722 and parameters: {'criterion': 'entropy', 'n_estimators': 100, 'max_depth': 6}. Best is trial 60 with value: 0.8384031134266525.\u001b[0m\n",
            "\u001b[32m[I 2022-08-04 09:58:04,946]\u001b[0m Trial 94 finished with value: 0.826062394074446 and parameters: {'criterion': 'entropy', 'n_estimators': 56, 'max_depth': 4}. Best is trial 60 with value: 0.8384031134266525.\u001b[0m\n",
            "\u001b[32m[I 2022-08-04 09:58:05,687]\u001b[0m Trial 95 finished with value: 0.8271734354403364 and parameters: {'criterion': 'entropy', 'n_estimators': 83, 'max_depth': 7}. Best is trial 60 with value: 0.8384031134266525.\u001b[0m\n",
            "\u001b[32m[I 2022-08-04 09:58:06,146]\u001b[0m Trial 96 finished with value: 0.8148201619484026 and parameters: {'criterion': 'entropy', 'n_estimators': 46, 'max_depth': 9}. Best is trial 60 with value: 0.8384031134266525.\u001b[0m\n",
            "\u001b[32m[I 2022-08-04 09:58:06,514]\u001b[0m Trial 97 finished with value: 0.8316740945326722 and parameters: {'criterion': 'entropy', 'n_estimators': 40, 'max_depth': 5}. Best is trial 60 with value: 0.8384031134266525.\u001b[0m\n",
            "\u001b[32m[I 2022-08-04 09:58:07,294]\u001b[0m Trial 98 finished with value: 0.8114619295712762 and parameters: {'criterion': 'gini', 'n_estimators': 92, 'max_depth': 3}. Best is trial 60 with value: 0.8384031134266525.\u001b[0m\n",
            "\u001b[32m[I 2022-08-04 09:58:07,952]\u001b[0m Trial 99 finished with value: 0.8294269035214363 and parameters: {'criterion': 'entropy', 'n_estimators': 72, 'max_depth': 6}. Best is trial 60 with value: 0.8384031134266525.\u001b[0m\n"
          ]
        },
        {
          "output_type": "stream",
          "name": "stdout",
          "text": [
            "{'criterion': 'gini', 'n_estimators': 24, 'max_depth': 5}\n",
            "0.8384031134266525\n"
          ]
        }
      ]
    },
    {
      "cell_type": "code",
      "source": [
        "test1=test[test.columns[0:]].astype(int)"
      ],
      "metadata": {
        "id": "CpZK63Bf65Bp"
      },
      "execution_count": null,
      "outputs": []
    },
    {
      "cell_type": "code",
      "execution_count": null,
      "metadata": {
        "id": "V2FE4J42EiEs"
      },
      "outputs": [],
      "source": [
        "model = XGBClassifier(n_estimators=22, learning_rate=0.35039928735355863, max_depth=3)\n",
        "\n",
        "model.fit(x,y)\n",
        "\n",
        "test_prediction = model.predict(test1)"
      ]
    },
    {
      "cell_type": "code",
      "source": [
        "model = RandomForestClassifier(max_features='sqrt')\n",
        "\n",
        "model.fit(x,y)\n",
        "\n",
        "test_prediction = model.predict(test1)"
      ],
      "metadata": {
        "id": "l7g6GdHHSv42"
      },
      "execution_count": null,
      "outputs": []
    },
    {
      "cell_type": "code",
      "source": [
        "model = tree.DecisionTreeClassifier(max_features=2)\n",
        "\n",
        "model.fit(x,y)\n",
        "\n",
        "test_prediction = model.predict(test1)"
      ],
      "metadata": {
        "id": "v7qF9ztQjCQw"
      },
      "execution_count": null,
      "outputs": []
    },
    {
      "cell_type": "markdown",
      "metadata": {
        "id": "XUQTmDF-EiEl"
      },
      "source": [
        "# モデルの検証"
      ]
    },
    {
      "cell_type": "markdown",
      "metadata": {
        "id": "fn7K5aX_EiEm"
      },
      "source": [
        "## K-分割交差検証"
      ]
    },
    {
      "cell_type": "code",
      "execution_count": null,
      "metadata": {
        "id": "JSdp8W9vEiEm"
      },
      "outputs": [],
      "source": [
        "from sklearn.model_selection import KFold, cross_val_score"
      ]
    },
    {
      "cell_type": "code",
      "execution_count": null,
      "metadata": {
        "id": "5ZF4I3aPEiEn"
      },
      "outputs": [],
      "source": [
        "kf=KFold(n_splits=5, random_state=1234, shuffle=True)"
      ]
    },
    {
      "cell_type": "code",
      "execution_count": null,
      "metadata": {
        "id": "Ay1oW54pEiEo",
        "colab": {
          "base_uri": "https://localhost:8080/"
        },
        "outputId": "6bb30cb7-cf8e-403d-db4d-1f87c0aa20b5"
      },
      "outputs": [
        {
          "output_type": "stream",
          "name": "stdout",
          "text": [
            "cv: [0.79888268 0.79775281 0.80898876 0.78651685 0.83146067]\n",
            "平均精度：0.8047203565375683\n"
          ]
        }
      ],
      "source": [
        "x=train[train.columns[1:]]\n",
        "y=train[\"Survived\"]\n",
        "\n",
        "cv_result = cross_val_score(model, x, y, cv = kf)\n",
        "print(\"cv: {}\".format(cv_result))\n",
        "\n",
        "print(\"平均精度：{}\".format(cv_result.mean()))"
      ]
    },
    {
      "cell_type": "markdown",
      "source": [
        "# 提出データの作成"
      ],
      "metadata": {
        "id": "coh3Niu3G4-e"
      }
    },
    {
      "cell_type": "code",
      "execution_count": null,
      "metadata": {
        "id": "jWEiaCpaEiEt"
      },
      "outputs": [],
      "source": [
        "passenger_id = np.arange(892,1310)"
      ]
    },
    {
      "cell_type": "code",
      "execution_count": null,
      "metadata": {
        "id": "Gk7SEHZsEiEu",
        "colab": {
          "base_uri": "https://localhost:8080/"
        },
        "outputId": "32085d96-2575-4d94-c636-f6e9158c4813"
      },
      "outputs": [
        {
          "output_type": "stream",
          "name": "stdout",
          "text": [
            "   PassengerId  Survived\n",
            "0          892         0\n",
            "1          893         0\n",
            "2          894         0\n",
            "3          895         0\n",
            "4          896         0\n",
            "5          897         0\n",
            "6          898         0\n",
            "7          899         0\n",
            "8          900         1\n",
            "9          901         0\n"
          ]
        }
      ],
      "source": [
        "test_result = pd.DataFrame( { 'PassengerId': passenger_id , 'Survived': test_prediction } )\n",
        "print(test_result.head(10))"
      ]
    },
    {
      "cell_type": "code",
      "execution_count": null,
      "metadata": {
        "id": "rPaFZL2kEiEv"
      },
      "outputs": [],
      "source": [
        "test_result.to_csv( '/content/drive/MyDrive/titanic/titanic_forsubmisson_1.csv' , index = False )"
      ]
    },
    {
      "cell_type": "code",
      "execution_count": null,
      "metadata": {
        "id": "N1PeCVpBEiEv",
        "colab": {
          "base_uri": "https://localhost:8080/",
          "height": 322
        },
        "outputId": "3f6f2d2d-bc80-4ae2-9c48-b4eb97bfff27"
      },
      "outputs": [
        {
          "output_type": "stream",
          "name": "stderr",
          "text": [
            "/usr/local/lib/python3.7/dist-packages/seaborn/_decorators.py:43: FutureWarning: Pass the following variables as keyword args: x, y. From version 0.12, the only valid positional argument will be `data`, and passing other arguments without an explicit keyword will result in an error or misinterpretation.\n",
            "  FutureWarning\n"
          ]
        },
        {
          "output_type": "display_data",
          "data": {
            "text/plain": [
              "<Figure size 432x288 with 1 Axes>"
            ],
            "image/png": "[encoded data removed]"
          },
          "metadata": {
            "needs_background": "light"
          }
        }
      ],
      "source": [
        "feature_importances= pd.DataFrame({\"feature_importances\":model.feature_importances_})\n",
        "sns.barplot(tr_train_X.columns, feature_importances[\"feature_importances\"])\n",
        "plt.show()"
      ]
    },
    {
      "cell_type": "code",
      "source": [],
      "metadata": {
        "id": "ROOCHu7x0qxI"
      },
      "execution_count": null,
      "outputs": []
    }
  ],
  "metadata": {
    "anaconda-cloud": {},
    "kernelspec": {
      "display_name": "Python 3",
      "language": "python",
      "name": "python3"
    },
    "language_info": {
      "codemirror_mode": {
        "name": "ipython",
        "version": 3
      },
      "file_extension": ".py",
      "mimetype": "text/x-python",
      "name": "python",
      "nbconvert_exporter": "python",
      "pygments_lexer": "ipython3",
      "version": "3.7.4"
    },
    "colab": {
      "provenance": [],
      "collapsed_sections": []
    }
  },
  "nbformat": 4,
  "nbformat_minor": 0
}